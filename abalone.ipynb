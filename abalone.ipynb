{
 "cells": [
  {
   "cell_type": "markdown",
   "metadata": {},
   "source": [
    "# Abalone Summary \n",
    "\n",
    "#### Point of Caution: I hit run all while typing this up. It is still going. I left this all in here so my thought process and work could be assessed. I would never put this in front of a board. I would show this to my manager to explain what I did and what paths I explored. \n",
    "\n",
    "#### While going through this dataset I built the Result class to help me assess the predictive value of the models I made. My next goals are to work with the sklearn.metrics library and incorporate the two. If you can get precision and recall I bet you can get the AOC of the P/R curve.\n",
    "\n",
    "#### The primary goal of this is not to get the right answer. Abalone have rings. Predicting weight by age and telling abalone farmers what the best age to harvest at would probably be more useful information. This is about building the process.\n",
    "\n",
    "#### Right now the process is struggling with implementation and common problems. But at this point I can pretty confidently clean up data and apply models. \n",
    "\n",
    "#### Lots of models. \n",
    "\n",
    "#### I did the same thing with this dataset. I did many variations with basic linear and logistic regressors then I moved to SVMs and ran many variations of those.  I found a radial basis function kernel that had a mean absolute error of 1.5 and a ploynomial kernal with an MAE of 1.51. i.e. the predicted age was wrong by 1.5 years on average. \n",
    "\n",
    "#### To get an F-Score and a precision/recall score you need to determine what a \"correct\" classification is and turn this into a yes or no question. MAE or MSE seem like better measures. \n",
    "\n",
    "#### I was asked to explain how the radial basis function kernel worked:\n",
    "\n",
    "#### With 2 or 3 or maybe 4 features I can somewhat visually explain how these work. After that I can only approximate it. I was asked to describe the radial basis function kernel so I will start with the 2d adaptation. \n",
    "\n",
    "#### As I understand it you pick a point on the graph and the labels are measured by their distance from that point. When you add a Z axis it becomes a sphere. \n",
    "\n",
    "#### After that the 4th feature would turn it into an elipsoid. The 5th and however many more features start adding pimples and dimples to your shape.\n",
    "\n",
    "#### My main take away from this analysis is that the polynomial kernal I found below was not the best over all, but it was the best at older abalone. \n",
    "\n",
    "#### My intuition is that as we move into neural nets we will explore the idea that you split the dataset up by pushing it through a series of these classifiers."
   ]
  },
  {
   "cell_type": "markdown",
   "metadata": {},
   "source": [
    "Enter           enter edit mode                 Shift-­Enter     run cell, select below\n",
    "Ctrl-Enter      run cell                        Alt-Enter       run cell, insert below\n",
    "Y               to code                         M               to markdown\n",
    "R               to raw                          1               to heading 1\n",
    "2,3,4,5,6       to heading 2,3,4,5,6            Up/K            select cell above\n",
    "Down/J          select cell below               A/B             insert cell above/­below\n",
    "X               cut selected cell               C               copy selected cell\n",
    "Shift-V         paste cell above                V               paste cell below\n",
    "Z               undo last cell deletion         D,D             delete selected cell\n",
    "Shift-M         merge cell below                Ctrl-S          Save and Checkpoint\n",
    "L               toggle line numbers             O               toggle output\n",
    "Shift-O         toggle output scrolling         Esc             close pager\n",
    "H               show keyboard shortcut help     I,I             interrupt kernel\n",
    "0,0             restart kernel                  Space           scroll down\n",
    "Shift-­Space     scroll up                       Shift           ignore\n",
    "\n",
    "Edit Mode (press Enter to enable)\n",
    "Tab                 code completion or indent   Shift-Tab           tooltip\n",
    "Ctrl-]              indent                      Ctrl-[              dedent\n",
    "Ctrl-A              select all                  Ctrl-Z              undo\n",
    "Ctrl-S­hift-Z        redo                        Ctrl-Y              redo\n",
    "Ctrl-Home           go to cell start            Ctrl-Up             go to cell start\n",
    "Ctrl-End            go to cell end              Ctrl-Down           go to cell end\n",
    "Ctrl-Left           go one word left            Ctrl-Right          go one word right\n",
    "Ctrl-B­ack­space      delete word before          Ctrl-D­elete         delete word after\n",
    "Esc                 command mode                Ctrl-M              command mode\n",
    "Shift-­Enter         run cell, select below      Ctrl-Enter          run cell\n",
    "Alt-Enter           run cell, insert below      Ctrl-S­hif­t-S­ubtract split cell\n",
    "Ctrl-S­hift--        split cell                  Ctrl-S              Save and Checkpoint\n",
    "Ctrl-/              toggle comment on current or selected lines"
   ]
  },
  {
   "cell_type": "code",
   "execution_count": 53,
   "metadata": {},
   "outputs": [],
   "source": [
    "import numpy as np\n",
    "import matplotlib\n",
    "import matplotlib.pyplot as plt\n",
    "import pandas as pd\n",
    "from sklearn.preprocessing import OneHotEncoder\n",
    "from sklearn import linear_model\n",
    "from sklearn.cross_validation import train_test_split\n",
    "from sklearn.model_selection import cross_val_score\n",
    "from sklearn import metrics\n",
    "from sklearn.model_selection import ShuffleSplit\n",
    "from sklearn import svm\n",
    "from sklearn.preprocessing import StandardScaler\n",
    "from sklearn.metrics import accuracy_score\n",
    "from sklearn.ensemble import GradientBoostingClassifier\n",
    "from sklearn.ensemble import GradientBoostingRegressor\n",
    "\n",
    "path = '/home/collin/machine_learning/CS6140ML18Fall-smith.colin/midterm/data/'\n",
    "data_file = 'data_abalone.txt' "
   ]
  },
  {
   "cell_type": "code",
   "execution_count": 54,
   "metadata": {},
   "outputs": [],
   "source": [
    "data = pd.read_csv(path+data_file, delimiter=',', names=['Sex', 'Length', 'Diameter', 'Height', 'Whole Wt', 'Shucked Wt', 'Viscera Wt', 'Shell Wt', 'Rings'])"
   ]
  },
  {
   "cell_type": "markdown",
   "metadata": {},
   "source": [
    "This is a very clean dataset. Not much to add or manipulate. \n",
    "\n",
    "I am going to try two datasets. One with all of the groups and one with [Length, Shucked Wt, Viscera Wt] removed. Using the correlation table below the weights are all cross correlative though the Shell Weight is actually not that bad so I am leaving it in. Length and Diameter however approach 1. So I am dropping one of those in the second set.\n",
    "\n",
    "I also need to one hot the Sex column because it is not useful as an object and drop that column afterwords. "
   ]
  },
  {
   "cell_type": "code",
   "execution_count": 55,
   "metadata": {
    "scrolled": true
   },
   "outputs": [
    {
     "data": {
      "text/html": [
       "<div>\n",
       "<style scoped>\n",
       "    .dataframe tbody tr th:only-of-type {\n",
       "        vertical-align: middle;\n",
       "    }\n",
       "\n",
       "    .dataframe tbody tr th {\n",
       "        vertical-align: top;\n",
       "    }\n",
       "\n",
       "    .dataframe thead th {\n",
       "        text-align: right;\n",
       "    }\n",
       "</style>\n",
       "<table border=\"1\" class=\"dataframe\">\n",
       "  <thead>\n",
       "    <tr style=\"text-align: right;\">\n",
       "      <th></th>\n",
       "      <th>Length</th>\n",
       "      <th>Diameter</th>\n",
       "      <th>Height</th>\n",
       "      <th>Whole Wt</th>\n",
       "      <th>Shucked Wt</th>\n",
       "      <th>Viscera Wt</th>\n",
       "      <th>Shell Wt</th>\n",
       "      <th>Rings</th>\n",
       "    </tr>\n",
       "  </thead>\n",
       "  <tbody>\n",
       "    <tr>\n",
       "      <th>Length</th>\n",
       "      <td>1.000000</td>\n",
       "      <td>0.986812</td>\n",
       "      <td>0.827554</td>\n",
       "      <td>0.925261</td>\n",
       "      <td>0.897914</td>\n",
       "      <td>0.903018</td>\n",
       "      <td>0.897706</td>\n",
       "      <td>0.556720</td>\n",
       "    </tr>\n",
       "    <tr>\n",
       "      <th>Diameter</th>\n",
       "      <td>0.986812</td>\n",
       "      <td>1.000000</td>\n",
       "      <td>0.833684</td>\n",
       "      <td>0.925452</td>\n",
       "      <td>0.893162</td>\n",
       "      <td>0.899724</td>\n",
       "      <td>0.905330</td>\n",
       "      <td>0.574660</td>\n",
       "    </tr>\n",
       "    <tr>\n",
       "      <th>Height</th>\n",
       "      <td>0.827554</td>\n",
       "      <td>0.833684</td>\n",
       "      <td>1.000000</td>\n",
       "      <td>0.819221</td>\n",
       "      <td>0.774972</td>\n",
       "      <td>0.798319</td>\n",
       "      <td>0.817338</td>\n",
       "      <td>0.557467</td>\n",
       "    </tr>\n",
       "    <tr>\n",
       "      <th>Whole Wt</th>\n",
       "      <td>0.925261</td>\n",
       "      <td>0.925452</td>\n",
       "      <td>0.819221</td>\n",
       "      <td>1.000000</td>\n",
       "      <td>0.969405</td>\n",
       "      <td>0.966375</td>\n",
       "      <td>0.955355</td>\n",
       "      <td>0.540390</td>\n",
       "    </tr>\n",
       "    <tr>\n",
       "      <th>Shucked Wt</th>\n",
       "      <td>0.897914</td>\n",
       "      <td>0.893162</td>\n",
       "      <td>0.774972</td>\n",
       "      <td>0.969405</td>\n",
       "      <td>1.000000</td>\n",
       "      <td>0.931961</td>\n",
       "      <td>0.882617</td>\n",
       "      <td>0.420884</td>\n",
       "    </tr>\n",
       "    <tr>\n",
       "      <th>Viscera Wt</th>\n",
       "      <td>0.903018</td>\n",
       "      <td>0.899724</td>\n",
       "      <td>0.798319</td>\n",
       "      <td>0.966375</td>\n",
       "      <td>0.931961</td>\n",
       "      <td>1.000000</td>\n",
       "      <td>0.907656</td>\n",
       "      <td>0.503819</td>\n",
       "    </tr>\n",
       "    <tr>\n",
       "      <th>Shell Wt</th>\n",
       "      <td>0.897706</td>\n",
       "      <td>0.905330</td>\n",
       "      <td>0.817338</td>\n",
       "      <td>0.955355</td>\n",
       "      <td>0.882617</td>\n",
       "      <td>0.907656</td>\n",
       "      <td>1.000000</td>\n",
       "      <td>0.627574</td>\n",
       "    </tr>\n",
       "    <tr>\n",
       "      <th>Rings</th>\n",
       "      <td>0.556720</td>\n",
       "      <td>0.574660</td>\n",
       "      <td>0.557467</td>\n",
       "      <td>0.540390</td>\n",
       "      <td>0.420884</td>\n",
       "      <td>0.503819</td>\n",
       "      <td>0.627574</td>\n",
       "      <td>1.000000</td>\n",
       "    </tr>\n",
       "  </tbody>\n",
       "</table>\n",
       "</div>"
      ],
      "text/plain": [
       "              Length  Diameter    Height  Whole Wt  Shucked Wt  Viscera Wt  \\\n",
       "Length      1.000000  0.986812  0.827554  0.925261    0.897914    0.903018   \n",
       "Diameter    0.986812  1.000000  0.833684  0.925452    0.893162    0.899724   \n",
       "Height      0.827554  0.833684  1.000000  0.819221    0.774972    0.798319   \n",
       "Whole Wt    0.925261  0.925452  0.819221  1.000000    0.969405    0.966375   \n",
       "Shucked Wt  0.897914  0.893162  0.774972  0.969405    1.000000    0.931961   \n",
       "Viscera Wt  0.903018  0.899724  0.798319  0.966375    0.931961    1.000000   \n",
       "Shell Wt    0.897706  0.905330  0.817338  0.955355    0.882617    0.907656   \n",
       "Rings       0.556720  0.574660  0.557467  0.540390    0.420884    0.503819   \n",
       "\n",
       "            Shell Wt     Rings  \n",
       "Length      0.897706  0.556720  \n",
       "Diameter    0.905330  0.574660  \n",
       "Height      0.817338  0.557467  \n",
       "Whole Wt    0.955355  0.540390  \n",
       "Shucked Wt  0.882617  0.420884  \n",
       "Viscera Wt  0.907656  0.503819  \n",
       "Shell Wt    1.000000  0.627574  \n",
       "Rings       0.627574  1.000000  "
      ]
     },
     "execution_count": 55,
     "metadata": {},
     "output_type": "execute_result"
    }
   ],
   "source": [
    "data.corr()"
   ]
  },
  {
   "cell_type": "code",
   "execution_count": 56,
   "metadata": {},
   "outputs": [
    {
     "name": "stdout",
     "output_type": "stream",
     "text": [
      "<class 'pandas.core.frame.DataFrame'>\n",
      "RangeIndex: 4177 entries, 0 to 4176\n",
      "Data columns (total 9 columns):\n",
      "Sex           4177 non-null object\n",
      "Length        4177 non-null float64\n",
      "Diameter      4177 non-null float64\n",
      "Height        4177 non-null float64\n",
      "Whole Wt      4177 non-null float64\n",
      "Shucked Wt    4177 non-null float64\n",
      "Viscera Wt    4177 non-null float64\n",
      "Shell Wt      4177 non-null float64\n",
      "Rings         4177 non-null int64\n",
      "dtypes: float64(7), int64(1), object(1)\n",
      "memory usage: 293.8+ KB\n"
     ]
    }
   ],
   "source": [
    "data.info()"
   ]
  },
  {
   "cell_type": "code",
   "execution_count": 57,
   "metadata": {},
   "outputs": [],
   "source": [
    "# enc = OneHotEncoder(handle_unknown = 'ignore')\n",
    "data_dummies = pd.get_dummies(data['Sex'])\n",
    "data = pd.concat([data, data_dummies], axis=1)\n",
    "data = data.drop(columns=['Sex'])\n"
   ]
  },
  {
   "cell_type": "markdown",
   "metadata": {},
   "source": [
    "I commented these scatter plots out but they gave some insight into their relation to the Rings column."
   ]
  },
  {
   "cell_type": "code",
   "execution_count": 58,
   "metadata": {},
   "outputs": [],
   "source": [
    "# names=['Length', 'Diameter', 'Height', 'Whole Wt', 'Shucked Wt', 'Viscera Wt', 'Shell Wt', 'Rings']\n",
    "# for name in names:\n",
    "#     data.plot(kind='scatter', x=name, y='Rings')"
   ]
  },
  {
   "cell_type": "code",
   "execution_count": 59,
   "metadata": {},
   "outputs": [],
   "source": [
    "reg = linear_model.LinearRegression()\n",
    "log = linear_model.LogisticRegression()"
   ]
  },
  {
   "cell_type": "markdown",
   "metadata": {},
   "source": [
    "As I continue to look up things everyone already knows I got to StandardScalar. And normalizer. "
   ]
  },
  {
   "cell_type": "code",
   "execution_count": 60,
   "metadata": {},
   "outputs": [],
   "source": [
    "data_y = data['Rings']\n",
    "\n",
    "scaler = StandardScaler()\n",
    "cols = data.columns.tolist()\n",
    "dataxX = pd.DataFrame(scaler.fit_transform(data))\n",
    "dataxX.columns = cols\n",
    "\n",
    "data1 = data.drop(columns=['Rings'])\n",
    "data2 = data.drop(columns=['Shucked Wt', 'Viscera Wt', 'Length', 'Rings'])\n",
    "datax = dataxX.drop(columns=['Rings'])"
   ]
  },
  {
   "cell_type": "markdown",
   "metadata": {},
   "source": [
    "#### Being senstive to criticism from the other dataset about choosing baseline I am redoing the same assessment on this dataset."
   ]
  },
  {
   "cell_type": "code",
   "execution_count": 61,
   "metadata": {},
   "outputs": [],
   "source": [
    "def get_plusmin_23(list):\n",
    "    pm_2 = 0\n",
    "    pm_3 = 0\n",
    "    for i in range(len(hist_y)):\n",
    "        temp2 = 0\n",
    "        temp3 = 0\n",
    "        if(len(hist_y) < 6):\n",
    "            print ('The list is short. You can figure this out yourself.')\n",
    "            return 0, 0;\n",
    "        if i < 2:\n",
    "            temp2 = sum(hist_y[0:4])\n",
    "        elif i < 3:\n",
    "            temp2 = sum(hist_y[i-2:i+2])\n",
    "            temp3 = sum(hist_y[0:6])\n",
    "        else:\n",
    "            temp2 = sum(hist_y[i-2:i+3])\n",
    "            temp3 = sum(hist_y[i-3:i+4])\n",
    "        if temp2 > pm_2:\n",
    "            pm_2 = temp2\n",
    "        if temp3 > pm_3:\n",
    "            pm_3 = temp3\n",
    "    return pm_2, pm_3"
   ]
  },
  {
   "cell_type": "code",
   "execution_count": 62,
   "metadata": {},
   "outputs": [
    {
     "name": "stdout",
     "output_type": "stream",
     "text": [
      "0.6629159683983721\n",
      "0.7888436677040939\n"
     ]
    }
   ],
   "source": [
    "hist_y = []\n",
    "for i in range (30):\n",
    "    hist_y.append(0)\n",
    "for i in range (len(data_y)):\n",
    "    hist_y[data_y[i]] += 1\n",
    "    \n",
    "pm_2, pm_3 = get_plusmin_23(hist_y)\n",
    "\n",
    "print (pm_2/len(data_y))\n",
    "print (pm_3/len(data_y))"
   ]
  },
  {
   "cell_type": "markdown",
   "metadata": {},
   "source": [
    "### Given the above array we have 689, 634, 568, 487, 391 as the top 5 years.  We can get 2769 +/-2 years by guessing 9 and including 10, 8, 11, 7 and get 66%.\n",
    "\n",
    "### We will set that for baseline to judge usefulness."
   ]
  },
  {
   "cell_type": "code",
   "execution_count": 63,
   "metadata": {},
   "outputs": [
    {
     "data": {
      "text/plain": [
       "0.6629159683983721"
      ]
     },
     "execution_count": 63,
     "metadata": {},
     "output_type": "execute_result"
    }
   ],
   "source": [
    "(689+634+568+487+391) / 4177"
   ]
  },
  {
   "cell_type": "code",
   "execution_count": 64,
   "metadata": {},
   "outputs": [],
   "source": [
    "x_train, x_test, y_train, y_test = train_test_split(data1, data_y, test_size=0.2, random_state=4)\n",
    "x2_train, x2_test, y2_train, y2_test = train_test_split(data2, data_y, test_size=0.2, random_state=4)"
   ]
  },
  {
   "cell_type": "markdown",
   "metadata": {},
   "source": [
    "At this point the data is set up. The answer column was dropped. There are 2 data sets one with all of the columns and another with three columns that had strong cross correlation dropped. I have divided them into two test/training sets.\n",
    "\n",
    "I have a linear regression model and a logistic regression model set up. Time to fit and predict!"
   ]
  },
  {
   "cell_type": "code",
   "execution_count": 65,
   "metadata": {},
   "outputs": [],
   "source": [
    "reg.fit(x_train, y_train)\n",
    "y_pred = reg.predict(x_test)\n",
    "\n",
    "reg.fit(x2_train, y2_train)\n",
    "y2_pred = reg.predict(x2_test)\n",
    "\n",
    "log.fit(x_train, y_train)\n",
    "log_y_pred = log.predict(x_test)\n",
    "\n",
    "log.fit(x2_train, y2_train)\n",
    "log2_y_pred = log.predict(x2_test)"
   ]
  },
  {
   "cell_type": "markdown",
   "metadata": {},
   "source": [
    "I wrote a class called Result. I posted the code on Piazza and it is in a .py file right next to this notebook. I am importing it here and created a Result book for each of the regression predictions here. "
   ]
  },
  {
   "cell_type": "code",
   "execution_count": 66,
   "metadata": {},
   "outputs": [],
   "source": [
    "from result_lib import Result\n",
    "\n",
    "lin_one_result = Result(y_pred, y_test.values, 1)\n",
    "lin_two_result = Result(y2_pred, y2_test.values, 1)\n",
    "\n",
    "log_one_result = Result(log_y_pred, y_test.values, 1)\n",
    "log_two_result = Result(log2_y_pred, y2_test.values, 1)\n"
   ]
  },
  {
   "cell_type": "markdown",
   "metadata": {},
   "source": [
    "The first tool the class I wrote gave me is a way to see basic numbers. What is the range, the number that are within that range of the predicted value, and most importantly the mean variance, i.e. how far off the guess was."
   ]
  },
  {
   "cell_type": "code",
   "execution_count": 67,
   "metadata": {},
   "outputs": [
    {
     "name": "stdout",
     "output_type": "stream",
     "text": [
      "Range: 1\n",
      "Correct: 349\n",
      "Mean Variance: 1.6071597772168658\n"
     ]
    }
   ],
   "source": [
    "lin_two_result.display_totals()"
   ]
  },
  {
   "cell_type": "code",
   "execution_count": 68,
   "metadata": {},
   "outputs": [
    {
     "name": "stdout",
     "output_type": "stream",
     "text": [
      "Range: 1\n",
      "Correct: 371\n",
      "Mean Variance: 1.5688643029663671\n"
     ]
    }
   ],
   "source": [
    "lin_one_result.display_totals()"
   ]
  },
  {
   "cell_type": "code",
   "execution_count": 69,
   "metadata": {},
   "outputs": [
    {
     "name": "stdout",
     "output_type": "stream",
     "text": [
      "Range: 1\n",
      "Correct: 517\n",
      "Mean Variance: 1.686602870813397\n"
     ]
    }
   ],
   "source": [
    "log_one_result.display_totals()"
   ]
  },
  {
   "cell_type": "code",
   "execution_count": 70,
   "metadata": {},
   "outputs": [
    {
     "name": "stdout",
     "output_type": "stream",
     "text": [
      "Range: 1\n",
      "Correct: 516\n",
      "Mean Variance: 1.7141148325358853\n"
     ]
    }
   ],
   "source": [
    "log_two_result.display_totals()"
   ]
  },
  {
   "cell_type": "markdown",
   "metadata": {},
   "source": [
    "While that will eventually be useful this next tool is at the moment the best one for taking next steps. I make a list of the natural values of the variances I plot on the X and I can plot them against the true values which I put on the Y. i.e. For each true value I can show how far off and in which direction the regression erred. \n",
    "\n",
    "After taking one look at the graphs the next step is not so obvious. "
   ]
  },
  {
   "cell_type": "code",
   "execution_count": 71,
   "metadata": {},
   "outputs": [
    {
     "data": {
      "text/plain": [
       "[<matplotlib.lines.Line2D at 0x7f5eb7990b00>]"
      ]
     },
     "execution_count": 71,
     "metadata": {},
     "output_type": "execute_result"
    },
    {
     "data": {
      "image/png": "[encoded data removed]",
      "text/plain": [
       "<Figure size 432x288 with 1 Axes>"
      ]
     },
     "metadata": {
      "needs_background": "light"
     },
     "output_type": "display_data"
    }
   ],
   "source": [
    "plt.plot(y2_test.values, lin_two_result.list_variances, 'o')"
   ]
  },
  {
   "cell_type": "code",
   "execution_count": 72,
   "metadata": {},
   "outputs": [
    {
     "data": {
      "text/plain": [
       "[<matplotlib.lines.Line2D at 0x7f5eb7961c18>]"
      ]
     },
     "execution_count": 72,
     "metadata": {},
     "output_type": "execute_result"
    },
    {
     "data": {
      "image/png": "[encoded data removed]",
      "text/plain": [
       "<Figure size 432x288 with 1 Axes>"
      ]
     },
     "metadata": {
      "needs_background": "light"
     },
     "output_type": "display_data"
    }
   ],
   "source": [
    "plt.plot(y_test.values, lin_one_result.list_variances, 'o')"
   ]
  },
  {
   "cell_type": "code",
   "execution_count": 73,
   "metadata": {},
   "outputs": [
    {
     "data": {
      "text/plain": [
       "[<matplotlib.lines.Line2D at 0x7f5eb78c50f0>]"
      ]
     },
     "execution_count": 73,
     "metadata": {},
     "output_type": "execute_result"
    },
    {
     "data": {
      "image/png": "[encoded data removed]",
      "text/plain": [
       "<Figure size 432x288 with 1 Axes>"
      ]
     },
     "metadata": {
      "needs_background": "light"
     },
     "output_type": "display_data"
    }
   ],
   "source": [
    "plt.plot(y_test.values, log_one_result.list_variances, 'o')"
   ]
  },
  {
   "cell_type": "code",
   "execution_count": 74,
   "metadata": {},
   "outputs": [
    {
     "data": {
      "text/plain": [
       "[<matplotlib.lines.Line2D at 0x7f5eb789e438>]"
      ]
     },
     "execution_count": 74,
     "metadata": {},
     "output_type": "execute_result"
    },
    {
     "data": {
      "image/png": "[encoded data removed]",
      "text/plain": [
       "<Figure size 432x288 with 1 Axes>"
      ]
     },
     "metadata": {
      "needs_background": "light"
     },
     "output_type": "display_data"
    }
   ],
   "source": [
    "plt.plot(y_test.values, log_two_result.list_variances, 'o')"
   ]
  },
  {
   "cell_type": "markdown",
   "metadata": {},
   "source": []
  },
  {
   "cell_type": "code",
   "execution_count": 75,
   "metadata": {},
   "outputs": [
    {
     "data": {
      "text/plain": [
       "[<matplotlib.lines.Line2D at 0x7f5eb7875ac8>]"
      ]
     },
     "execution_count": 75,
     "metadata": {},
     "output_type": "execute_result"
    },
    {
     "data": {
      "image/png": "[encoded data removed]",
      "text/plain": [
       "<Figure size 432x288 with 1 Axes>"
      ]
     },
     "metadata": {
      "needs_background": "light"
     },
     "output_type": "display_data"
    }
   ],
   "source": [
    "plt.plot(log2_y_pred, log_two_result.list_variances, 'o')"
   ]
  },
  {
   "cell_type": "code",
   "execution_count": 76,
   "metadata": {},
   "outputs": [
    {
     "data": {
      "text/plain": [
       "[<matplotlib.lines.Line2D at 0x7f5eb77d74e0>]"
      ]
     },
     "execution_count": 76,
     "metadata": {},
     "output_type": "execute_result"
    },
    {
     "data": {
      "image/png": "[encoded data removed]",
      "text/plain": [
       "<Figure size 432x288 with 1 Axes>"
      ]
     },
     "metadata": {
      "needs_background": "light"
     },
     "output_type": "display_data"
    }
   ],
   "source": [
    "plt.plot(y_test.values, log2_y_pred, 'o')"
   ]
  },
  {
   "cell_type": "code",
   "execution_count": 77,
   "metadata": {},
   "outputs": [
    {
     "data": {
      "text/plain": [
       "[<matplotlib.lines.Line2D at 0x7f5eb77abc88>]"
      ]
     },
     "execution_count": 77,
     "metadata": {},
     "output_type": "execute_result"
    },
    {
     "data": {
      "image/png": "[encoded data removed]",
      "text/plain": [
       "<Figure size 432x288 with 1 Axes>"
      ]
     },
     "metadata": {
      "needs_background": "light"
     },
     "output_type": "display_data"
    }
   ],
   "source": [
    "plt.plot(y_test.values, y_pred, 'o')"
   ]
  },
  {
   "cell_type": "markdown",
   "metadata": {},
   "source": [
    "After looking at the graphs and judging by performance here is the following observation:\n",
    "\n",
    "Abalone are all very much the same size. \n",
    "\n",
    "Deep I know.\n",
    "\n",
    "The graph just above this is a plot of the predicted values versus the actual values for the second linear regression. At the age of 5 we predict a little low on age. At the age of 7-12 we are very close. After that we predict they are 10 or 11. I think they just stop growing. Looking at the given data everything has to do with size. \n",
    "\n",
    "Below I use the get confidence tool and I see linear one drops us from +/-2 to +/-1.67 to get 66%. They both get to 73% at +/-2 so it is slightly better than noise.\n",
    "\n",
    "Both log regressions get 80% at +/-2 rather than 66%\n",
    "\n",
    "Judging these Linear Regression using the entire dataset seems to perform the best. \n",
    "\n",
    "Below I use the result class to get confidence intervals near +/-2. "
   ]
  },
  {
   "cell_type": "code",
   "execution_count": 78,
   "metadata": {},
   "outputs": [
    {
     "data": {
      "text/plain": [
       "1.9982497618732893"
      ]
     },
     "execution_count": 78,
     "metadata": {},
     "output_type": "execute_result"
    }
   ],
   "source": [
    "lin_two_result.get_confidence_interval(73)"
   ]
  },
  {
   "cell_type": "code",
   "execution_count": 79,
   "metadata": {},
   "outputs": [
    {
     "data": {
      "text/plain": [
       "1.9383412434271783"
      ]
     },
     "execution_count": 79,
     "metadata": {},
     "output_type": "execute_result"
    }
   ],
   "source": [
    "lin_one_result.get_confidence_interval(73)"
   ]
  },
  {
   "cell_type": "code",
   "execution_count": 80,
   "metadata": {},
   "outputs": [
    {
     "data": {
      "text/plain": [
       "2"
      ]
     },
     "execution_count": 80,
     "metadata": {},
     "output_type": "execute_result"
    }
   ],
   "source": [
    "log_two_result.get_confidence_interval(80)"
   ]
  },
  {
   "cell_type": "code",
   "execution_count": 81,
   "metadata": {},
   "outputs": [
    {
     "data": {
      "text/plain": [
       "2"
      ]
     },
     "execution_count": 81,
     "metadata": {},
     "output_type": "execute_result"
    }
   ],
   "source": [
    "log_one_result.get_confidence_interval(80)"
   ]
  },
  {
   "cell_type": "code",
   "execution_count": 82,
   "metadata": {},
   "outputs": [],
   "source": [
    "cv_lin2 = cross_val_score(reg, data2, data_y, cv=5)\n",
    "cv_lin1 = cross_val_score(reg, data1, data_y, cv=5)\n",
    "# cv_log2 = cross_val_score(log, data2, data_y, cv=5)\n",
    "# cv_log1 = cross_val_score(log, data1, data_y, cv=5)"
   ]
  },
  {
   "cell_type": "markdown",
   "metadata": {},
   "source": [
    "This section is going to be about implementing Support Vector Machines. \n",
    "\n",
    "Basic first and using the one-to-one .SCV classifier."
   ]
  },
  {
   "cell_type": "code",
   "execution_count": 83,
   "metadata": {},
   "outputs": [],
   "source": [
    "svm_lin1 = svm.SVC(kernel='linear', C=1).fit(x_train, y_train)\n",
    "svm_lin2 = svm.SVC(kernel='linear', C=1).fit(x2_train, y2_train)"
   ]
  },
  {
   "cell_type": "code",
   "execution_count": 84,
   "metadata": {},
   "outputs": [
    {
     "data": {
      "text/plain": [
       "0.2583732057416268"
      ]
     },
     "execution_count": 84,
     "metadata": {},
     "output_type": "execute_result"
    }
   ],
   "source": [
    "svm_lin1.score(x_test, y_test)"
   ]
  },
  {
   "cell_type": "code",
   "execution_count": 85,
   "metadata": {},
   "outputs": [
    {
     "data": {
      "text/plain": [
       "0.25478468899521534"
      ]
     },
     "execution_count": 85,
     "metadata": {},
     "output_type": "execute_result"
    }
   ],
   "source": [
    "svm_lin2.score(x2_test, y2_test)"
   ]
  },
  {
   "cell_type": "markdown",
   "metadata": {},
   "source": [
    "This makes no sense. So Result."
   ]
  },
  {
   "cell_type": "code",
   "execution_count": 86,
   "metadata": {},
   "outputs": [],
   "source": [
    "svm_pred1 = svm_lin1.predict(x_test)\n",
    "svm_pred2 = svm_lin2.predict(x2_test)\n",
    "\n",
    "svm1_result = Result(svm_pred1, y_test.values, 1)\n",
    "svm2_result = Result(svm_pred2, y2_test.values, 1)"
   ]
  },
  {
   "cell_type": "code",
   "execution_count": 87,
   "metadata": {},
   "outputs": [
    {
     "name": "stdout",
     "output_type": "stream",
     "text": [
      "Range: 1\n",
      "Correct: 530\n",
      "Mean Variance: 1.69377990430622\n"
     ]
    }
   ],
   "source": [
    "svm1_result.display_totals()"
   ]
  },
  {
   "cell_type": "code",
   "execution_count": 88,
   "metadata": {},
   "outputs": [
    {
     "name": "stdout",
     "output_type": "stream",
     "text": [
      "Range: 1\n",
      "Correct: 528\n",
      "Mean Variance: 1.7260765550239234\n"
     ]
    }
   ],
   "source": [
    "svm2_result.display_totals()"
   ]
  },
  {
   "cell_type": "code",
   "execution_count": 89,
   "metadata": {},
   "outputs": [
    {
     "data": {
      "text/plain": [
       "[<matplotlib.lines.Line2D at 0x7f5eb7711208>]"
      ]
     },
     "execution_count": 89,
     "metadata": {},
     "output_type": "execute_result"
    },
    {
     "data": {
      "image/png": "[encoded data removed]",
      "text/plain": [
       "<Figure size 432x288 with 1 Axes>"
      ]
     },
     "metadata": {
      "needs_background": "light"
     },
     "output_type": "display_data"
    }
   ],
   "source": [
    "plt.plot(y_test.values, svm_pred1, 'o')"
   ]
  },
  {
   "cell_type": "code",
   "execution_count": 90,
   "metadata": {},
   "outputs": [
    {
     "data": {
      "text/plain": [
       "[<matplotlib.lines.Line2D at 0x7f5eb76e6908>]"
      ]
     },
     "execution_count": 90,
     "metadata": {},
     "output_type": "execute_result"
    },
    {
     "data": {
      "image/png": "[encoded data removed]",
      "text/plain": [
       "<Figure size 432x288 with 1 Axes>"
      ]
     },
     "metadata": {
      "needs_background": "light"
     },
     "output_type": "display_data"
    }
   ],
   "source": [
    "plt.plot(y_test.values, svm1_result.list_variances, 'o')"
   ]
  },
  {
   "cell_type": "markdown",
   "metadata": {},
   "source": [
    "Same pattern. The predictions guess too high on young specimens and too low on old.\n",
    "\n",
    "Mostly too low on old. \n",
    "\n",
    "There are a lot of SVM options and a variety of ways to format them so I am going to try something a little different. "
   ]
  },
  {
   "cell_type": "code",
   "execution_count": 91,
   "metadata": {},
   "outputs": [
    {
     "name": "stdout",
     "output_type": "stream",
     "text": [
      "Kernal: linear  C: 2**-5\n",
      "Range: 1\n",
      "Correct: 502\n",
      "Mean Variance: 1.8660287081339713\n",
      "Kernal: linear  C: 2**-4\n",
      "Range: 1\n",
      "Correct: 509\n",
      "Mean Variance: 1.825358851674641\n",
      "Kernal: linear  C: 2**-3\n",
      "Range: 1\n",
      "Correct: 508\n",
      "Mean Variance: 1.8145933014354068\n",
      "Kernal: linear  C: 2**-2\n",
      "Range: 1\n",
      "Correct: 512\n",
      "Mean Variance: 1.7787081339712918\n",
      "Kernal: linear  C: 2**-1\n",
      "Range: 1\n",
      "Correct: 528\n",
      "Mean Variance: 1.708133971291866\n",
      "Kernal: linear  C: 2**0\n",
      "Range: 1\n",
      "Correct: 530\n",
      "Mean Variance: 1.69377990430622\n",
      "Kernal: linear  C: 2**1\n",
      "Range: 1\n",
      "Correct: 531\n",
      "Mean Variance: 1.6650717703349283\n",
      "Kernal: linear  C: 2**2\n",
      "Range: 1\n",
      "Correct: 530\n",
      "Mean Variance: 1.644736842105263\n",
      "Kernal: linear  C: 2**3\n",
      "Range: 1\n",
      "Correct: 531\n",
      "Mean Variance: 1.6220095693779903\n",
      "Kernal: linear  C: 2**4\n",
      "Range: 1\n",
      "Correct: 535\n",
      "Mean Variance: 1.605263157894737\n",
      "Kernal: linear  C: 2**5\n",
      "Range: 1\n",
      "Correct: 540\n",
      "Mean Variance: 1.5921052631578947\n",
      "Kernal: linear  C: 2**6\n",
      "Range: 1\n",
      "Correct: 541\n",
      "Mean Variance: 1.5837320574162679\n",
      "Kernal: linear  C: 2**7\n",
      "Range: 1\n",
      "Correct: 542\n",
      "Mean Variance: 1.5944976076555024\n",
      "Kernal: linear  C: 2**8\n",
      "Range: 1\n",
      "Correct: 544\n",
      "Mean Variance: 1.5944976076555024\n",
      "Kernal: linear  C: 2**9\n",
      "Range: 1\n",
      "Correct: 544\n",
      "Mean Variance: 1.6064593301435406\n",
      "Kernal: rbf  C: 2**-5\n",
      "Range: 1\n",
      "Correct: 452\n",
      "Mean Variance: 2.055023923444976\n",
      "Kernal: rbf  C: 2**-4\n",
      "Range: 1\n",
      "Correct: 448\n",
      "Mean Variance: 2.083732057416268\n",
      "Kernal: rbf  C: 2**-3\n",
      "Range: 1\n",
      "Correct: 476\n",
      "Mean Variance: 1.9700956937799043\n",
      "Kernal: rbf  C: 2**-2\n",
      "Range: 1\n",
      "Correct: 515\n",
      "Mean Variance: 1.826555023923445\n",
      "Kernal: rbf  C: 2**-1\n",
      "Range: 1\n",
      "Correct: 513\n",
      "Mean Variance: 1.8229665071770336\n",
      "Kernal: rbf  C: 2**0\n",
      "Range: 1\n",
      "Correct: 514\n",
      "Mean Variance: 1.812200956937799\n",
      "Kernal: rbf  C: 2**1\n",
      "Range: 1\n",
      "Correct: 529\n",
      "Mean Variance: 1.7655502392344498\n",
      "Kernal: rbf  C: 2**2\n",
      "Range: 1\n",
      "Correct: 529\n",
      "Mean Variance: 1.729665071770335\n",
      "Kernal: rbf  C: 2**3\n",
      "Range: 1\n",
      "Correct: 540\n",
      "Mean Variance: 1.6985645933014355\n",
      "Kernal: rbf  C: 2**4\n",
      "Range: 1\n",
      "Correct: 536\n",
      "Mean Variance: 1.680622009569378\n",
      "Kernal: rbf  C: 2**5\n",
      "Range: 1\n",
      "Correct: 542\n",
      "Mean Variance: 1.6602870813397128\n",
      "Kernal: rbf  C: 2**6\n",
      "Range: 1\n",
      "Correct: 541\n",
      "Mean Variance: 1.6483253588516746\n",
      "Kernal: rbf  C: 2**7\n",
      "Range: 1\n",
      "Correct: 550\n",
      "Mean Variance: 1.605263157894737\n",
      "Kernal: rbf  C: 2**8\n",
      "Range: 1\n",
      "Correct: 557\n",
      "Mean Variance: 1.5729665071770336\n",
      "Kernal: rbf  C: 2**9\n",
      "Range: 1\n",
      "Correct: 558\n",
      "Mean Variance: 1.5358851674641147\n",
      "Kernal: sigmoid  C: 2**-5\n",
      "Range: 1\n",
      "Correct: 412\n",
      "Mean Variance: 2.199760765550239\n",
      "Kernal: sigmoid  C: 2**-4\n",
      "Range: 1\n",
      "Correct: 455\n",
      "Mean Variance: 2.055023923444976\n",
      "Kernal: sigmoid  C: 2**-3\n",
      "Range: 1\n",
      "Correct: 446\n",
      "Mean Variance: 2.0921052631578947\n",
      "Kernal: sigmoid  C: 2**-2\n",
      "Range: 1\n",
      "Correct: 482\n",
      "Mean Variance: 1.9186602870813396\n",
      "Kernal: sigmoid  C: 2**-1\n",
      "Range: 1\n",
      "Correct: 504\n",
      "Mean Variance: 1.8002392344497609\n",
      "Kernal: sigmoid  C: 2**0\n",
      "Range: 1\n",
      "Correct: 503\n",
      "Mean Variance: 1.8002392344497609\n",
      "Kernal: sigmoid  C: 2**1\n",
      "Range: 1\n",
      "Correct: 499\n",
      "Mean Variance: 1.7858851674641147\n",
      "Kernal: sigmoid  C: 2**2\n",
      "Range: 1\n",
      "Correct: 482\n",
      "Mean Variance: 1.7607655502392345\n",
      "Kernal: sigmoid  C: 2**3\n",
      "Range: 1\n",
      "Correct: 495\n",
      "Mean Variance: 1.757177033492823\n",
      "Kernal: sigmoid  C: 2**4\n",
      "Range: 1\n",
      "Correct: 508\n",
      "Mean Variance: 1.7488038277511961\n",
      "Kernal: sigmoid  C: 2**5\n",
      "Range: 1\n",
      "Correct: 508\n",
      "Mean Variance: 1.799043062200957\n",
      "Kernal: sigmoid  C: 2**6\n",
      "Range: 1\n",
      "Correct: 509\n",
      "Mean Variance: 1.8157894736842106\n",
      "Kernal: sigmoid  C: 2**7\n",
      "Range: 1\n",
      "Correct: 510\n",
      "Mean Variance: 1.8110047846889952\n",
      "Kernal: sigmoid  C: 2**8\n",
      "Range: 1\n",
      "Correct: 497\n",
      "Mean Variance: 1.7942583732057416\n",
      "Kernal: sigmoid  C: 2**9\n",
      "Range: 1\n",
      "Correct: 486\n",
      "Mean Variance: 1.8456937799043063\n"
     ]
    }
   ],
   "source": [
    "x_trains = [x_train, x2_train]\n",
    "y_trains = [y_train, y2_train]\n",
    "kernals = ['linear', 'rbf', 'sigmoid']\n",
    "\n",
    "for krnl in kernals:\n",
    "    for power in range(-5, 10):\n",
    "        svm_temp = svm.SVC(kernel=krnl, C=2**power).fit(x_train, y_train)\n",
    "        y_pred=svm_temp.predict(x_test)\n",
    "        res_temp = Result(y_pred, y_test.values, 1)\n",
    "        print('Kernal: ' + krnl + '  C: 2**' + str(power))\n",
    "        res_temp.display_totals()\n"
   ]
  },
  {
   "cell_type": "markdown",
   "metadata": {},
   "source": [
    "Looking at the above results a couple things stick out. svm rbf mean variance was still descending at C 2^9 and sigmoid with C 2^-5 looks like a nutball outlier. It was also the best result. The linear SVM bottomed out around C 2^7. \n",
    "\n",
    "So."
   ]
  },
  {
   "cell_type": "code",
   "execution_count": 92,
   "metadata": {},
   "outputs": [],
   "source": [
    "svm1_sig_n5 = svm.SVC(kernel='sigmoid', C=2**-5).fit(x_train, y_train)\n",
    "svm2_sig_n5 = svm.SVC(kernel='sigmoid', C=2**-5).fit(x2_train, y2_train)\n",
    "\n",
    "sig1_n5_pred = svm1_sig_n5.predict(x_test)\n",
    "sig2_n5_pred = svm2_sig_n5.predict(x2_test)"
   ]
  },
  {
   "cell_type": "markdown",
   "metadata": {},
   "source": [
    "Classic. The best variance we got was just predicting 9 every time. Turn the error to approach 0 and you get the mean. \n",
    "\n",
    "But you have to try. "
   ]
  },
  {
   "cell_type": "code",
   "execution_count": 93,
   "metadata": {},
   "outputs": [
    {
     "data": {
      "text/plain": [
       "[<matplotlib.lines.Line2D at 0x7f5eb7643f98>]"
      ]
     },
     "execution_count": 93,
     "metadata": {},
     "output_type": "execute_result"
    },
    {
     "data": {
      "image/png": "[encoded data removed]",
      "text/plain": [
       "<Figure size 432x288 with 1 Axes>"
      ]
     },
     "metadata": {
      "needs_background": "light"
     },
     "output_type": "display_data"
    }
   ],
   "source": [
    "plt.plot(sig1_n5_pred, y_test.values, 'o')"
   ]
  },
  {
   "cell_type": "markdown",
   "metadata": {},
   "source": [
    "Now for rbf. I want to see what error value approaches the bottom."
   ]
  },
  {
   "cell_type": "code",
   "execution_count": 94,
   "metadata": {},
   "outputs": [
    {
     "name": "stdout",
     "output_type": "stream",
     "text": [
      "Kernal: rbf  C: 2**7\n",
      "Range: 1\n",
      "Correct: 550\n",
      "Mean Variance: 1.605263157894737\n",
      "Kernal: rbf  C: 2**8\n",
      "Range: 1\n",
      "Correct: 557\n",
      "Mean Variance: 1.5729665071770336\n",
      "Kernal: rbf  C: 2**9\n",
      "Range: 1\n",
      "Correct: 558\n",
      "Mean Variance: 1.5358851674641147\n",
      "Kernal: rbf  C: 2**10\n",
      "Range: 1\n",
      "Correct: 559\n",
      "Mean Variance: 1.5406698564593302\n",
      "Kernal: rbf  C: 2**11\n",
      "Range: 1\n",
      "Correct: 562\n",
      "Mean Variance: 1.5311004784688995\n",
      "Kernal: rbf  C: 2**12\n",
      "Range: 1\n",
      "Correct: 562\n",
      "Mean Variance: 1.527511961722488\n",
      "Kernal: rbf  C: 2**13\n",
      "Range: 1\n",
      "Correct: 567\n",
      "Mean Variance: 1.520334928229665\n",
      "Kernal: rbf  C: 2**14\n",
      "Range: 1\n",
      "Correct: 565\n",
      "Mean Variance: 1.5107655502392345\n",
      "Kernal: rbf  C: 2**15\n",
      "Range: 1\n",
      "Correct: 572\n",
      "Mean Variance: 1.5179425837320575\n",
      "Kernal: rbf  C: 2**16\n",
      "Range: 1\n",
      "Correct: 573\n",
      "Mean Variance: 1.5610047846889952\n",
      "Kernal: rbf  C: 2**17\n",
      "Range: 1\n",
      "Correct: 562\n",
      "Mean Variance: 1.582535885167464\n"
     ]
    }
   ],
   "source": [
    "for power in range(7, 18):\n",
    "        svm_temp = svm.SVC(kernel='rbf', C=2**power).fit(x_train, y_train)\n",
    "        y_pred=svm_temp.predict(x_test)\n",
    "        res_temp = Result(y_pred, y_test.values, 1)\n",
    "        print('Kernal: ' + 'rbf' + '  C: 2**' + str(power))\n",
    "        res_temp.display_totals()"
   ]
  },
  {
   "cell_type": "markdown",
   "metadata": {},
   "source": [
    "The numbers are getting ridiculous. I am typing this while I wait. I see the start of a bottom around C 2^14. I might kill this off. I am going to dig into C 2^14. Even if C 2^20 pops up a magical result I don't know if I can explore it. \n",
    "\n",
    "It is still running... nm 20 isn't inclusive.\n",
    "\n",
    "I am goingto try both datasets with it as well. \n",
    "\n",
    "I got this result before I ran standard scalar on the data."
   ]
  },
  {
   "cell_type": "code",
   "execution_count": 95,
   "metadata": {},
   "outputs": [
    {
     "name": "stdout",
     "output_type": "stream",
     "text": [
      "Range: 1\n",
      "Correct: 565\n",
      "Mean Variance: 1.5107655502392345\n"
     ]
    }
   ],
   "source": [
    "rbf14_1 = svm.SVC(kernel='rbf', C=2**14).fit(x_train, y_train)\n",
    "\n",
    "rbf14_y1_pred = rbf14_1.predict(x_test)\n",
    "\n",
    "res1_rbf14 = Result(rbf14_y1_pred, y_test.values, 1)\n",
    "\n",
    "res1_rbf14.display_totals()\n",
    "    "
   ]
  },
  {
   "cell_type": "code",
   "execution_count": 96,
   "metadata": {},
   "outputs": [
    {
     "name": "stdout",
     "output_type": "stream",
     "text": [
      "Range: 1\n",
      "Correct: 554\n",
      "Mean Variance: 1.6423444976076556\n"
     ]
    }
   ],
   "source": [
    "rbf14_2 = svm.SVC(kernel='rbf', C=2**14).fit(x2_train, y2_train)\n",
    "\n",
    "rbf14_y2_pred = rbf14_2.predict(x2_test)\n",
    "\n",
    "res2_rbf14 = Result(rbf14_y2_pred, y2_test.values, 1)\n",
    "\n",
    "res2_rbf14.display_totals()\n"
   ]
  },
  {
   "cell_type": "code",
   "execution_count": 97,
   "metadata": {},
   "outputs": [
    {
     "data": {
      "text/plain": [
       "[<matplotlib.lines.Line2D at 0x7f5eb7621198>]"
      ]
     },
     "execution_count": 97,
     "metadata": {},
     "output_type": "execute_result"
    },
    {
     "data": {
      "image/png": "[encoded data removed]",
      "text/plain": [
       "<Figure size 432x288 with 1 Axes>"
      ]
     },
     "metadata": {
      "needs_background": "light"
     },
     "output_type": "display_data"
    }
   ],
   "source": [
    "plt.plot(y_test.values, res1_rbf14.list_variances, 'o')"
   ]
  },
  {
   "cell_type": "code",
   "execution_count": 98,
   "metadata": {},
   "outputs": [
    {
     "data": {
      "text/plain": [
       "[<matplotlib.lines.Line2D at 0x7f5eb75f1f60>]"
      ]
     },
     "execution_count": 98,
     "metadata": {},
     "output_type": "execute_result"
    },
    {
     "data": {
      "image/png": "[encoded data removed]",
      "text/plain": [
       "<Figure size 432x288 with 1 Axes>"
      ]
     },
     "metadata": {
      "needs_background": "light"
     },
     "output_type": "display_data"
    }
   ],
   "source": [
    "plt.plot(y_test.values, res2_rbf14.list_variances, 'o')"
   ]
  },
  {
   "cell_type": "code",
   "execution_count": 99,
   "metadata": {},
   "outputs": [
    {
     "data": {
      "text/plain": [
       "2"
      ]
     },
     "execution_count": 99,
     "metadata": {},
     "output_type": "execute_result"
    }
   ],
   "source": [
    "res1_rbf14.get_confidence_interval(84)"
   ]
  },
  {
   "cell_type": "code",
   "execution_count": 100,
   "metadata": {},
   "outputs": [
    {
     "name": "stderr",
     "output_type": "stream",
     "text": [
      "/home/collin/anaconda3/lib/python3.7/site-packages/sklearn/model_selection/_split.py:605: Warning: The least populated class in y has only 1 members, which is too few. The minimum number of members in any class cannot be less than n_splits=5.\n",
      "  % (min_groups, self.n_splits)), Warning)\n"
     ]
    }
   ],
   "source": [
    "from sklearn.model_selection import cross_val_predict\n",
    "\n",
    "cross_pred = cross_val_predict(rbf14_1, data1, data_y, cv=5)\n"
   ]
  },
  {
   "cell_type": "code",
   "execution_count": 101,
   "metadata": {},
   "outputs": [
    {
     "data": {
      "text/plain": [
       "array([ 8,  7, 12, ..., 10,  9, 11])"
      ]
     },
     "execution_count": 101,
     "metadata": {},
     "output_type": "execute_result"
    }
   ],
   "source": [
    "cross_pred"
   ]
  },
  {
   "cell_type": "markdown",
   "metadata": {},
   "source": [
    "cross_val_predict is not doing what it says it does in the docs. \n",
    "\n",
    "Dataset 2 with the cross correlations pulled out seems to not be as effective. \n",
    "\n",
    "Dataset 1 using the rbf kernel just comes closer. It seems to have pulled the predictions on the younger abalone closer to truth but still fails to identify specimens that live past 12 years old. If you give me a variance of 2 this model gives 84%. \n",
    "\n",
    "rbf14_1 = svm.SVC(kernel='rbf', C=2^14).fit(x_train, y_train)\n",
    "\n",
    "2^14 is 16384 so the range of possible C's that may have a better variance is ~8150 to ~32000. Meh.\n",
    "\n",
    "Now to try poly. The first bunch of stuff here is just trying out all of the options."
   ]
  },
  {
   "cell_type": "code",
   "execution_count": 102,
   "metadata": {},
   "outputs": [
    {
     "name": "stdout",
     "output_type": "stream",
     "text": [
      "Range: 1\n",
      "Correct: 480\n",
      "Mean Variance: 1.9545454545454546\n"
     ]
    }
   ],
   "source": [
    "poly_1 = svm.SVC(kernel='poly', C=1).fit(x_train, y_train)\n",
    "poly_1_pred = poly_1.predict(x_test)\n",
    "res_poly1 = Result(poly_1_pred, y_test.values, 1)\n",
    "res_poly1.display_totals()"
   ]
  },
  {
   "cell_type": "code",
   "execution_count": 103,
   "metadata": {},
   "outputs": [
    {
     "data": {
      "text/plain": [
       "SVC(C=1, cache_size=200, class_weight=None, coef0=0.0,\n",
       "  decision_function_shape='ovr', degree=3, gamma='auto', kernel='poly',\n",
       "  max_iter=-1, probability=False, random_state=None, shrinking=True,\n",
       "  tol=0.001, verbose=False)"
      ]
     },
     "execution_count": 103,
     "metadata": {},
     "output_type": "execute_result"
    }
   ],
   "source": [
    "poly_1"
   ]
  },
  {
   "cell_type": "code",
   "execution_count": 104,
   "metadata": {},
   "outputs": [
    {
     "name": "stdout",
     "output_type": "stream",
     "text": [
      "Range: 1\n",
      "Correct: 506\n",
      "Mean Variance: 1.8217703349282297\n"
     ]
    },
    {
     "data": {
      "text/plain": [
       "[<matplotlib.lines.Line2D at 0x7f5eb7569390>]"
      ]
     },
     "execution_count": 104,
     "metadata": {},
     "output_type": "execute_result"
    },
    {
     "data": {
      "image/png": "[encoded data removed]",
      "text/plain": [
       "<Figure size 432x288 with 1 Axes>"
      ]
     },
     "metadata": {
      "needs_background": "light"
     },
     "output_type": "display_data"
    }
   ],
   "source": [
    "poly_test = svm.SVC(kernel='poly', C=1, degree=1, probability=True, class_weight=None).fit(x_train, y_train)\n",
    "poly_test_pred = poly_test.predict(x_test)\n",
    "res_poly_test = Result(poly_test_pred, y_test.values, 1)\n",
    "res_poly_test.display_totals()\n",
    "plt.plot(y_test.values, res_poly_test.list_variances, 'o')"
   ]
  },
  {
   "cell_type": "markdown",
   "metadata": {},
   "source": [
    "So many options!\n",
    "\n",
    "The next cell might bork my computer. Time to cook something.\n",
    "\n",
    "As I watch results go by a couple observations. 1 degree polynomials are the best so far. Whatever probability does things are off the rails when it is true. Class Weight doesn't seem to change a lot. \n",
    "\n",
    "Variances are still descending at C 2^9. \n",
    "\n",
    "1 degree and 2 degree are in possibly usful ranges. My guess is 1 degree is the best fit because we are really just measuring size and guessing age. \n",
    "\n",
    "The cell is commented just in case I hit run all cells again. "
   ]
  },
  {
   "cell_type": "code",
   "execution_count": 105,
   "metadata": {},
   "outputs": [
    {
     "name": "stdout",
     "output_type": "stream",
     "text": [
      "Prob: False ClassW: None Power: 2**-5 Degree: 1\n",
      "Range: 1\n",
      "Correct: 412\n",
      "Mean Variance: 2.199760765550239\n",
      "Prob: False ClassW: balanced Power: 2**-5 Degree: 1\n",
      "Range: 1\n",
      "Correct: 178\n",
      "Mean Variance: 3.6435406698564594\n",
      "Prob: True ClassW: None Power: 2**-5 Degree: 1\n",
      "Range: 1\n",
      "Correct: 412\n",
      "Mean Variance: 2.199760765550239\n",
      "Prob: True ClassW: balanced Power: 2**-5 Degree: 1\n",
      "Range: 1\n",
      "Correct: 178\n",
      "Mean Variance: 3.6435406698564594\n",
      "Prob: False ClassW: None Power: 2**-5 Degree: 2\n",
      "Range: 1\n",
      "Correct: 412\n",
      "Mean Variance: 2.199760765550239\n",
      "Prob: False ClassW: balanced Power: 2**-5 Degree: 2\n",
      "Range: 1\n",
      "Correct: 162\n",
      "Mean Variance: 3.7667464114832536\n",
      "Prob: True ClassW: None Power: 2**-5 Degree: 2\n",
      "Range: 1\n",
      "Correct: 412\n",
      "Mean Variance: 2.199760765550239\n",
      "Prob: True ClassW: balanced Power: 2**-5 Degree: 2\n",
      "Range: 1\n",
      "Correct: 162\n",
      "Mean Variance: 3.7667464114832536\n",
      "Prob: False ClassW: None Power: 2**-5 Degree: 3\n",
      "Range: 1\n",
      "Correct: 412\n",
      "Mean Variance: 2.199760765550239\n",
      "Prob: False ClassW: balanced Power: 2**-5 Degree: 3\n",
      "Range: 1\n",
      "Correct: 46\n",
      "Mean Variance: 5.302631578947368\n",
      "Prob: True ClassW: None Power: 2**-5 Degree: 3\n",
      "Range: 1\n",
      "Correct: 412\n",
      "Mean Variance: 2.199760765550239\n",
      "Prob: True ClassW: balanced Power: 2**-5 Degree: 3\n",
      "Range: 1\n",
      "Correct: 46\n",
      "Mean Variance: 5.302631578947368\n",
      "Prob: False ClassW: None Power: 2**-5 Degree: 4\n",
      "Range: 1\n",
      "Correct: 412\n",
      "Mean Variance: 2.199760765550239\n",
      "Prob: False ClassW: balanced Power: 2**-5 Degree: 4\n",
      "Range: 1\n",
      "Correct: 53\n",
      "Mean Variance: 5.434210526315789\n",
      "Prob: True ClassW: None Power: 2**-5 Degree: 4\n",
      "Range: 1\n",
      "Correct: 412\n",
      "Mean Variance: 2.199760765550239\n",
      "Prob: True ClassW: balanced Power: 2**-5 Degree: 4\n",
      "Range: 1\n",
      "Correct: 53\n",
      "Mean Variance: 5.434210526315789\n",
      "Prob: False ClassW: None Power: 2**-5 Degree: 5\n",
      "Range: 1\n",
      "Correct: 412\n",
      "Mean Variance: 2.199760765550239\n",
      "Prob: False ClassW: balanced Power: 2**-5 Degree: 5\n",
      "Range: 1\n",
      "Correct: 52\n",
      "Mean Variance: 5.4772727272727275\n",
      "Prob: True ClassW: None Power: 2**-5 Degree: 5\n",
      "Range: 1\n",
      "Correct: 412\n",
      "Mean Variance: 2.199760765550239\n",
      "Prob: True ClassW: balanced Power: 2**-5 Degree: 5\n",
      "Range: 1\n",
      "Correct: 52\n",
      "Mean Variance: 5.4772727272727275\n",
      "Prob: False ClassW: None Power: 2**-5 Degree: 6\n",
      "Range: 1\n",
      "Correct: 412\n",
      "Mean Variance: 2.199760765550239\n",
      "Prob: False ClassW: balanced Power: 2**-5 Degree: 6\n",
      "Range: 1\n",
      "Correct: 48\n",
      "Mean Variance: 5.5753588516746415\n",
      "Prob: True ClassW: None Power: 2**-5 Degree: 6\n",
      "Range: 1\n",
      "Correct: 412\n",
      "Mean Variance: 2.199760765550239\n",
      "Prob: True ClassW: balanced Power: 2**-5 Degree: 6\n",
      "Range: 1\n",
      "Correct: 48\n",
      "Mean Variance: 5.5753588516746415\n",
      "Prob: False ClassW: None Power: 2**-5 Degree: 7\n",
      "Range: 1\n",
      "Correct: 412\n",
      "Mean Variance: 2.199760765550239\n",
      "Prob: False ClassW: balanced Power: 2**-5 Degree: 7\n",
      "Range: 1\n",
      "Correct: 47\n",
      "Mean Variance: 5.6208133971291865\n",
      "Prob: True ClassW: None Power: 2**-5 Degree: 7\n",
      "Range: 1\n",
      "Correct: 412\n",
      "Mean Variance: 2.199760765550239\n",
      "Prob: True ClassW: balanced Power: 2**-5 Degree: 7\n",
      "Range: 1\n",
      "Correct: 47\n",
      "Mean Variance: 5.6208133971291865\n",
      "Prob: False ClassW: None Power: 2**-5 Degree: 8\n",
      "Range: 1\n",
      "Correct: 412\n",
      "Mean Variance: 2.199760765550239\n",
      "Prob: False ClassW: balanced Power: 2**-5 Degree: 8\n",
      "Range: 1\n",
      "Correct: 46\n",
      "Mean Variance: 5.660287081339713\n",
      "Prob: True ClassW: None Power: 2**-5 Degree: 8\n",
      "Range: 1\n",
      "Correct: 412\n",
      "Mean Variance: 2.199760765550239\n",
      "Prob: True ClassW: balanced Power: 2**-5 Degree: 8\n",
      "Range: 1\n",
      "Correct: 46\n",
      "Mean Variance: 5.660287081339713\n",
      "Prob: False ClassW: None Power: 2**-5 Degree: 9\n",
      "Range: 1\n",
      "Correct: 412\n",
      "Mean Variance: 2.199760765550239\n",
      "Prob: False ClassW: balanced Power: 2**-5 Degree: 9\n",
      "Range: 1\n",
      "Correct: 42\n",
      "Mean Variance: 5.722488038277512\n",
      "Prob: True ClassW: None Power: 2**-5 Degree: 9\n",
      "Range: 1\n",
      "Correct: 412\n",
      "Mean Variance: 2.199760765550239\n",
      "Prob: True ClassW: balanced Power: 2**-5 Degree: 9\n",
      "Range: 1\n",
      "Correct: 42\n",
      "Mean Variance: 5.722488038277512\n",
      "Prob: False ClassW: None Power: 2**-4 Degree: 1\n",
      "Range: 1\n",
      "Correct: 456\n",
      "Mean Variance: 2.0526315789473686\n",
      "Prob: False ClassW: balanced Power: 2**-4 Degree: 1\n",
      "Range: 1\n",
      "Correct: 171\n",
      "Mean Variance: 6.17822966507177\n",
      "Prob: True ClassW: None Power: 2**-4 Degree: 1\n",
      "Range: 1\n",
      "Correct: 456\n",
      "Mean Variance: 2.0526315789473686\n",
      "Prob: True ClassW: balanced Power: 2**-4 Degree: 1\n",
      "Range: 1\n",
      "Correct: 171\n",
      "Mean Variance: 6.17822966507177\n",
      "Prob: False ClassW: None Power: 2**-4 Degree: 2\n",
      "Range: 1\n",
      "Correct: 412\n",
      "Mean Variance: 2.199760765550239\n",
      "Prob: False ClassW: balanced Power: 2**-4 Degree: 2\n",
      "Range: 1\n",
      "Correct: 24\n",
      "Mean Variance: 6.509569377990431\n",
      "Prob: True ClassW: None Power: 2**-4 Degree: 2\n",
      "Range: 1\n",
      "Correct: 412\n",
      "Mean Variance: 2.199760765550239\n",
      "Prob: True ClassW: balanced Power: 2**-4 Degree: 2\n",
      "Range: 1\n",
      "Correct: 24\n",
      "Mean Variance: 6.509569377990431\n",
      "Prob: False ClassW: None Power: 2**-4 Degree: 3\n",
      "Range: 1\n",
      "Correct: 412\n",
      "Mean Variance: 2.199760765550239\n",
      "Prob: False ClassW: balanced Power: 2**-4 Degree: 3\n",
      "Range: 1\n",
      "Correct: 139\n",
      "Mean Variance: 4.3086124401913874\n",
      "Prob: True ClassW: None Power: 2**-4 Degree: 3\n",
      "Range: 1\n",
      "Correct: 412\n",
      "Mean Variance: 2.199760765550239\n",
      "Prob: True ClassW: balanced Power: 2**-4 Degree: 3\n",
      "Range: 1\n",
      "Correct: 139\n",
      "Mean Variance: 4.3086124401913874\n",
      "Prob: False ClassW: None Power: 2**-4 Degree: 4\n",
      "Range: 1\n",
      "Correct: 412\n",
      "Mean Variance: 2.199760765550239\n",
      "Prob: False ClassW: balanced Power: 2**-4 Degree: 4\n",
      "Range: 1\n",
      "Correct: 139\n",
      "Mean Variance: 4.142344497607655\n",
      "Prob: True ClassW: None Power: 2**-4 Degree: 4\n",
      "Range: 1\n",
      "Correct: 412\n",
      "Mean Variance: 2.199760765550239\n",
      "Prob: True ClassW: balanced Power: 2**-4 Degree: 4\n",
      "Range: 1\n",
      "Correct: 139\n",
      "Mean Variance: 4.142344497607655\n",
      "Prob: False ClassW: None Power: 2**-4 Degree: 5\n",
      "Range: 1\n",
      "Correct: 412\n",
      "Mean Variance: 2.199760765550239\n",
      "Prob: False ClassW: balanced Power: 2**-4 Degree: 5\n",
      "Range: 1\n",
      "Correct: 142\n",
      "Mean Variance: 4.01555023923445\n",
      "Prob: True ClassW: None Power: 2**-4 Degree: 5\n",
      "Range: 1\n",
      "Correct: 412\n",
      "Mean Variance: 2.199760765550239\n",
      "Prob: True ClassW: balanced Power: 2**-4 Degree: 5\n",
      "Range: 1\n",
      "Correct: 142\n",
      "Mean Variance: 4.01555023923445\n",
      "Prob: False ClassW: None Power: 2**-4 Degree: 6\n",
      "Range: 1\n",
      "Correct: 412\n",
      "Mean Variance: 2.199760765550239\n",
      "Prob: False ClassW: balanced Power: 2**-4 Degree: 6\n",
      "Range: 1\n",
      "Correct: 151\n",
      "Mean Variance: 3.824162679425837\n",
      "Prob: True ClassW: None Power: 2**-4 Degree: 6\n",
      "Range: 1\n",
      "Correct: 412\n",
      "Mean Variance: 2.199760765550239\n",
      "Prob: True ClassW: balanced Power: 2**-4 Degree: 6\n",
      "Range: 1\n",
      "Correct: 151\n",
      "Mean Variance: 3.824162679425837\n",
      "Prob: False ClassW: None Power: 2**-4 Degree: 7\n",
      "Range: 1\n",
      "Correct: 412\n",
      "Mean Variance: 2.199760765550239\n",
      "Prob: False ClassW: balanced Power: 2**-4 Degree: 7\n",
      "Range: 1\n",
      "Correct: 34\n",
      "Mean Variance: 5.783492822966507\n",
      "Prob: True ClassW: None Power: 2**-4 Degree: 7\n",
      "Range: 1\n",
      "Correct: 412\n",
      "Mean Variance: 2.199760765550239\n",
      "Prob: True ClassW: balanced Power: 2**-4 Degree: 7\n",
      "Range: 1\n",
      "Correct: 34\n",
      "Mean Variance: 5.783492822966507\n",
      "Prob: False ClassW: None Power: 2**-4 Degree: 8\n",
      "Range: 1\n",
      "Correct: 412\n",
      "Mean Variance: 2.199760765550239\n",
      "Prob: False ClassW: balanced Power: 2**-4 Degree: 8\n",
      "Range: 1\n",
      "Correct: 33\n",
      "Mean Variance: 5.826555023923445\n",
      "Prob: True ClassW: None Power: 2**-4 Degree: 8\n",
      "Range: 1\n",
      "Correct: 412\n",
      "Mean Variance: 2.199760765550239\n",
      "Prob: True ClassW: balanced Power: 2**-4 Degree: 8\n",
      "Range: 1\n",
      "Correct: 33\n",
      "Mean Variance: 5.826555023923445\n",
      "Prob: False ClassW: None Power: 2**-4 Degree: 9\n",
      "Range: 1\n",
      "Correct: 412\n",
      "Mean Variance: 2.199760765550239\n",
      "Prob: False ClassW: balanced Power: 2**-4 Degree: 9\n",
      "Range: 1\n",
      "Correct: 18\n",
      "Mean Variance: 6.014354066985646\n",
      "Prob: True ClassW: None Power: 2**-4 Degree: 9\n",
      "Range: 1\n",
      "Correct: 412\n",
      "Mean Variance: 2.199760765550239\n",
      "Prob: True ClassW: balanced Power: 2**-4 Degree: 9\n",
      "Range: 1\n",
      "Correct: 18\n",
      "Mean Variance: 6.014354066985646\n",
      "Prob: False ClassW: None Power: 2**-3 Degree: 1\n",
      "Range: 1\n",
      "Correct: 452\n",
      "Mean Variance: 2.062200956937799\n",
      "Prob: False ClassW: balanced Power: 2**-3 Degree: 1\n",
      "Range: 1\n",
      "Correct: 131\n",
      "Mean Variance: 9.960526315789474\n",
      "Prob: True ClassW: None Power: 2**-3 Degree: 1\n",
      "Range: 1\n",
      "Correct: 452\n",
      "Mean Variance: 2.062200956937799\n",
      "Prob: True ClassW: balanced Power: 2**-3 Degree: 1\n",
      "Range: 1\n",
      "Correct: 131\n",
      "Mean Variance: 9.960526315789474\n",
      "Prob: False ClassW: None Power: 2**-3 Degree: 2\n",
      "Range: 1\n",
      "Correct: 418\n",
      "Mean Variance: 2.165071770334928\n",
      "Prob: False ClassW: balanced Power: 2**-3 Degree: 2\n",
      "Range: 1\n",
      "Correct: 139\n",
      "Mean Variance: 7.411483253588517\n",
      "Prob: True ClassW: None Power: 2**-3 Degree: 2\n",
      "Range: 1\n",
      "Correct: 418\n",
      "Mean Variance: 2.165071770334928\n"
     ]
    },
    {
     "name": "stdout",
     "output_type": "stream",
     "text": [
      "Prob: True ClassW: balanced Power: 2**-3 Degree: 2\n",
      "Range: 1\n",
      "Correct: 139\n",
      "Mean Variance: 7.411483253588517\n",
      "Prob: False ClassW: None Power: 2**-3 Degree: 3\n",
      "Range: 1\n",
      "Correct: 416\n",
      "Mean Variance: 2.1842105263157894\n",
      "Prob: False ClassW: balanced Power: 2**-3 Degree: 3\n",
      "Range: 1\n",
      "Correct: 17\n",
      "Mean Variance: 6.947368421052632\n",
      "Prob: True ClassW: None Power: 2**-3 Degree: 3\n",
      "Range: 1\n",
      "Correct: 416\n",
      "Mean Variance: 2.1842105263157894\n",
      "Prob: True ClassW: balanced Power: 2**-3 Degree: 3\n",
      "Range: 1\n",
      "Correct: 17\n",
      "Mean Variance: 6.947368421052632\n",
      "Prob: False ClassW: None Power: 2**-3 Degree: 4\n",
      "Range: 1\n",
      "Correct: 413\n",
      "Mean Variance: 2.1961722488038276\n",
      "Prob: False ClassW: balanced Power: 2**-3 Degree: 4\n",
      "Range: 1\n",
      "Correct: 138\n",
      "Mean Variance: 4.632775119617225\n",
      "Prob: True ClassW: None Power: 2**-3 Degree: 4\n",
      "Range: 1\n",
      "Correct: 413\n",
      "Mean Variance: 2.1961722488038276\n",
      "Prob: True ClassW: balanced Power: 2**-3 Degree: 4\n",
      "Range: 1\n",
      "Correct: 138\n",
      "Mean Variance: 4.632775119617225\n",
      "Prob: False ClassW: None Power: 2**-3 Degree: 5\n",
      "Range: 1\n",
      "Correct: 412\n",
      "Mean Variance: 2.199760765550239\n",
      "Prob: False ClassW: balanced Power: 2**-3 Degree: 5\n",
      "Range: 1\n",
      "Correct: 138\n",
      "Mean Variance: 4.242822966507177\n",
      "Prob: True ClassW: None Power: 2**-3 Degree: 5\n",
      "Range: 1\n",
      "Correct: 412\n",
      "Mean Variance: 2.199760765550239\n",
      "Prob: True ClassW: balanced Power: 2**-3 Degree: 5\n",
      "Range: 1\n",
      "Correct: 138\n",
      "Mean Variance: 4.242822966507177\n",
      "Prob: False ClassW: None Power: 2**-3 Degree: 6\n",
      "Range: 1\n",
      "Correct: 412\n",
      "Mean Variance: 2.199760765550239\n",
      "Prob: False ClassW: balanced Power: 2**-3 Degree: 6\n",
      "Range: 1\n",
      "Correct: 138\n",
      "Mean Variance: 4.107655502392345\n",
      "Prob: True ClassW: None Power: 2**-3 Degree: 6\n",
      "Range: 1\n",
      "Correct: 412\n",
      "Mean Variance: 2.199760765550239\n",
      "Prob: True ClassW: balanced Power: 2**-3 Degree: 6\n",
      "Range: 1\n",
      "Correct: 138\n",
      "Mean Variance: 4.107655502392345\n",
      "Prob: False ClassW: None Power: 2**-3 Degree: 7\n",
      "Range: 1\n",
      "Correct: 412\n",
      "Mean Variance: 2.199760765550239\n",
      "Prob: False ClassW: balanced Power: 2**-3 Degree: 7\n",
      "Range: 1\n",
      "Correct: 138\n",
      "Mean Variance: 4.078947368421052\n",
      "Prob: True ClassW: None Power: 2**-3 Degree: 7\n",
      "Range: 1\n",
      "Correct: 412\n",
      "Mean Variance: 2.199760765550239\n",
      "Prob: True ClassW: balanced Power: 2**-3 Degree: 7\n",
      "Range: 1\n",
      "Correct: 138\n",
      "Mean Variance: 4.078947368421052\n",
      "Prob: False ClassW: None Power: 2**-3 Degree: 8\n",
      "Range: 1\n",
      "Correct: 412\n",
      "Mean Variance: 2.199760765550239\n",
      "Prob: False ClassW: balanced Power: 2**-3 Degree: 8\n",
      "Range: 1\n",
      "Correct: 138\n",
      "Mean Variance: 4.0490430622009566\n",
      "Prob: True ClassW: None Power: 2**-3 Degree: 8\n",
      "Range: 1\n",
      "Correct: 412\n",
      "Mean Variance: 2.199760765550239\n",
      "Prob: True ClassW: balanced Power: 2**-3 Degree: 8\n",
      "Range: 1\n",
      "Correct: 138\n",
      "Mean Variance: 4.0490430622009566\n",
      "Prob: False ClassW: None Power: 2**-3 Degree: 9\n",
      "Range: 1\n",
      "Correct: 412\n",
      "Mean Variance: 2.199760765550239\n",
      "Prob: False ClassW: balanced Power: 2**-3 Degree: 9\n",
      "Range: 1\n",
      "Correct: 138\n",
      "Mean Variance: 4.011961722488039\n",
      "Prob: True ClassW: None Power: 2**-3 Degree: 9\n",
      "Range: 1\n",
      "Correct: 412\n",
      "Mean Variance: 2.199760765550239\n",
      "Prob: True ClassW: balanced Power: 2**-3 Degree: 9\n",
      "Range: 1\n",
      "Correct: 138\n",
      "Mean Variance: 4.011961722488039\n",
      "Prob: False ClassW: None Power: 2**-2 Degree: 1\n",
      "Range: 1\n",
      "Correct: 481\n",
      "Mean Variance: 1.9198564593301435\n",
      "Prob: False ClassW: balanced Power: 2**-2 Degree: 1\n",
      "Range: 1\n",
      "Correct: 26\n",
      "Mean Variance: 10.661483253588516\n",
      "Prob: True ClassW: None Power: 2**-2 Degree: 1\n",
      "Range: 1\n",
      "Correct: 481\n",
      "Mean Variance: 1.9198564593301435\n",
      "Prob: True ClassW: balanced Power: 2**-2 Degree: 1\n",
      "Range: 1\n",
      "Correct: 26\n",
      "Mean Variance: 10.661483253588516\n",
      "Prob: False ClassW: None Power: 2**-2 Degree: 2\n",
      "Range: 1\n",
      "Correct: 475\n",
      "Mean Variance: 1.9904306220095693\n",
      "Prob: False ClassW: balanced Power: 2**-2 Degree: 2\n",
      "Range: 1\n",
      "Correct: 199\n",
      "Mean Variance: 7.788277511961723\n",
      "Prob: True ClassW: None Power: 2**-2 Degree: 2\n",
      "Range: 1\n",
      "Correct: 475\n",
      "Mean Variance: 1.9904306220095693\n",
      "Prob: True ClassW: balanced Power: 2**-2 Degree: 2\n",
      "Range: 1\n",
      "Correct: 199\n",
      "Mean Variance: 7.788277511961723\n",
      "Prob: False ClassW: None Power: 2**-2 Degree: 3\n",
      "Range: 1\n",
      "Correct: 426\n",
      "Mean Variance: 2.1447368421052633\n",
      "Prob: False ClassW: balanced Power: 2**-2 Degree: 3\n",
      "Range: 1\n",
      "Correct: 17\n",
      "Mean Variance: 7.8253588516746415\n",
      "Prob: True ClassW: None Power: 2**-2 Degree: 3\n",
      "Range: 1\n",
      "Correct: 426\n",
      "Mean Variance: 2.1447368421052633\n",
      "Prob: True ClassW: balanced Power: 2**-2 Degree: 3\n",
      "Range: 1\n",
      "Correct: 17\n",
      "Mean Variance: 7.8253588516746415\n",
      "Prob: False ClassW: None Power: 2**-2 Degree: 4\n",
      "Range: 1\n",
      "Correct: 421\n",
      "Mean Variance: 2.1674641148325358\n",
      "Prob: False ClassW: balanced Power: 2**-2 Degree: 4\n",
      "Range: 1\n",
      "Correct: 17\n",
      "Mean Variance: 6.868421052631579\n",
      "Prob: True ClassW: None Power: 2**-2 Degree: 4\n",
      "Range: 1\n",
      "Correct: 421\n",
      "Mean Variance: 2.1674641148325358\n",
      "Prob: True ClassW: balanced Power: 2**-2 Degree: 4\n",
      "Range: 1\n",
      "Correct: 17\n",
      "Mean Variance: 6.868421052631579\n",
      "Prob: False ClassW: None Power: 2**-2 Degree: 5\n",
      "Range: 1\n",
      "Correct: 418\n",
      "Mean Variance: 2.1794258373205744\n",
      "Prob: False ClassW: balanced Power: 2**-2 Degree: 5\n",
      "Range: 1\n",
      "Correct: 138\n",
      "Mean Variance: 4.667464114832536\n",
      "Prob: True ClassW: None Power: 2**-2 Degree: 5\n",
      "Range: 1\n",
      "Correct: 418\n",
      "Mean Variance: 2.1794258373205744\n",
      "Prob: True ClassW: balanced Power: 2**-2 Degree: 5\n",
      "Range: 1\n",
      "Correct: 138\n",
      "Mean Variance: 4.667464114832536\n",
      "Prob: False ClassW: None Power: 2**-2 Degree: 6\n",
      "Range: 1\n",
      "Correct: 414\n",
      "Mean Variance: 2.1913875598086126\n",
      "Prob: False ClassW: balanced Power: 2**-2 Degree: 6\n",
      "Range: 1\n",
      "Correct: 138\n",
      "Mean Variance: 4.332535885167464\n",
      "Prob: True ClassW: None Power: 2**-2 Degree: 6\n",
      "Range: 1\n",
      "Correct: 414\n",
      "Mean Variance: 2.1913875598086126\n",
      "Prob: True ClassW: balanced Power: 2**-2 Degree: 6\n",
      "Range: 1\n",
      "Correct: 138\n",
      "Mean Variance: 4.332535885167464\n",
      "Prob: False ClassW: None Power: 2**-2 Degree: 7\n",
      "Range: 1\n",
      "Correct: 412\n",
      "Mean Variance: 2.1985645933014353\n",
      "Prob: False ClassW: balanced Power: 2**-2 Degree: 7\n",
      "Range: 1\n",
      "Correct: 15\n",
      "Mean Variance: 6.284688995215311\n",
      "Prob: True ClassW: None Power: 2**-2 Degree: 7\n",
      "Range: 1\n",
      "Correct: 412\n",
      "Mean Variance: 2.1985645933014353\n",
      "Prob: True ClassW: balanced Power: 2**-2 Degree: 7\n",
      "Range: 1\n",
      "Correct: 15\n",
      "Mean Variance: 6.284688995215311\n",
      "Prob: False ClassW: None Power: 2**-2 Degree: 8\n",
      "Range: 1\n",
      "Correct: 412\n",
      "Mean Variance: 2.1985645933014353\n",
      "Prob: False ClassW: balanced Power: 2**-2 Degree: 8\n",
      "Range: 1\n",
      "Correct: 14\n",
      "Mean Variance: 6.235645933014354\n",
      "Prob: True ClassW: None Power: 2**-2 Degree: 8\n",
      "Range: 1\n",
      "Correct: 412\n",
      "Mean Variance: 2.1985645933014353\n",
      "Prob: True ClassW: balanced Power: 2**-2 Degree: 8\n",
      "Range: 1\n",
      "Correct: 14\n",
      "Mean Variance: 6.235645933014354\n",
      "Prob: False ClassW: None Power: 2**-2 Degree: 9\n",
      "Range: 1\n",
      "Correct: 412\n",
      "Mean Variance: 2.199760765550239\n",
      "Prob: False ClassW: balanced Power: 2**-2 Degree: 9\n",
      "Range: 1\n",
      "Correct: 14\n",
      "Mean Variance: 6.235645933014354\n",
      "Prob: True ClassW: None Power: 2**-2 Degree: 9\n",
      "Range: 1\n",
      "Correct: 412\n",
      "Mean Variance: 2.199760765550239\n",
      "Prob: True ClassW: balanced Power: 2**-2 Degree: 9\n",
      "Range: 1\n",
      "Correct: 14\n",
      "Mean Variance: 6.235645933014354\n",
      "Prob: False ClassW: None Power: 2**-1 Degree: 1\n",
      "Range: 1\n",
      "Correct: 510\n",
      "Mean Variance: 1.826555023923445\n",
      "Prob: False ClassW: balanced Power: 2**-1 Degree: 1\n",
      "Range: 1\n",
      "Correct: 60\n",
      "Mean Variance: 10.02153110047847\n",
      "Prob: True ClassW: None Power: 2**-1 Degree: 1\n",
      "Range: 1\n",
      "Correct: 510\n",
      "Mean Variance: 1.826555023923445\n",
      "Prob: True ClassW: balanced Power: 2**-1 Degree: 1\n",
      "Range: 1\n",
      "Correct: 60\n",
      "Mean Variance: 10.02153110047847\n",
      "Prob: False ClassW: None Power: 2**-1 Degree: 2\n",
      "Range: 1\n",
      "Correct: 479\n",
      "Mean Variance: 1.965311004784689\n",
      "Prob: False ClassW: balanced Power: 2**-1 Degree: 2\n",
      "Range: 1\n",
      "Correct: 203\n",
      "Mean Variance: 7.458133971291866\n",
      "Prob: True ClassW: None Power: 2**-1 Degree: 2\n",
      "Range: 1\n",
      "Correct: 479\n",
      "Mean Variance: 1.965311004784689\n",
      "Prob: True ClassW: balanced Power: 2**-1 Degree: 2\n",
      "Range: 1\n",
      "Correct: 203\n",
      "Mean Variance: 7.458133971291866\n",
      "Prob: False ClassW: None Power: 2**-1 Degree: 3\n",
      "Range: 1\n",
      "Correct: 434\n",
      "Mean Variance: 2.1052631578947367\n",
      "Prob: False ClassW: balanced Power: 2**-1 Degree: 3\n",
      "Range: 1\n",
      "Correct: 159\n",
      "Mean Variance: 7.220095693779904\n",
      "Prob: True ClassW: None Power: 2**-1 Degree: 3\n",
      "Range: 1\n",
      "Correct: 434\n",
      "Mean Variance: 2.1052631578947367\n",
      "Prob: True ClassW: balanced Power: 2**-1 Degree: 3\n",
      "Range: 1\n",
      "Correct: 159\n",
      "Mean Variance: 7.220095693779904\n",
      "Prob: False ClassW: None Power: 2**-1 Degree: 4\n",
      "Range: 1\n",
      "Correct: 428\n",
      "Mean Variance: 2.1411483253588517\n",
      "Prob: False ClassW: balanced Power: 2**-1 Degree: 4\n",
      "Range: 1\n",
      "Correct: 17\n",
      "Mean Variance: 7.2727272727272725\n"
     ]
    },
    {
     "name": "stdout",
     "output_type": "stream",
     "text": [
      "Prob: True ClassW: None Power: 2**-1 Degree: 4\n",
      "Range: 1\n",
      "Correct: 428\n",
      "Mean Variance: 2.1411483253588517\n",
      "Prob: True ClassW: balanced Power: 2**-1 Degree: 4\n",
      "Range: 1\n",
      "Correct: 17\n",
      "Mean Variance: 7.2727272727272725\n",
      "Prob: False ClassW: None Power: 2**-1 Degree: 5\n",
      "Range: 1\n",
      "Correct: 421\n",
      "Mean Variance: 2.166267942583732\n",
      "Prob: False ClassW: balanced Power: 2**-1 Degree: 5\n",
      "Range: 1\n",
      "Correct: 15\n",
      "Mean Variance: 6.688995215311005\n",
      "Prob: True ClassW: None Power: 2**-1 Degree: 5\n",
      "Range: 1\n",
      "Correct: 421\n",
      "Mean Variance: 2.166267942583732\n",
      "Prob: True ClassW: balanced Power: 2**-1 Degree: 5\n",
      "Range: 1\n",
      "Correct: 15\n",
      "Mean Variance: 6.688995215311005\n",
      "Prob: False ClassW: None Power: 2**-1 Degree: 6\n",
      "Range: 1\n",
      "Correct: 419\n",
      "Mean Variance: 2.1770334928229667\n",
      "Prob: False ClassW: balanced Power: 2**-1 Degree: 6\n",
      "Range: 1\n",
      "Correct: 138\n",
      "Mean Variance: 4.594497607655502\n",
      "Prob: True ClassW: None Power: 2**-1 Degree: 6\n",
      "Range: 1\n",
      "Correct: 419\n",
      "Mean Variance: 2.1770334928229667\n",
      "Prob: True ClassW: balanced Power: 2**-1 Degree: 6\n",
      "Range: 1\n",
      "Correct: 138\n",
      "Mean Variance: 4.594497607655502\n",
      "Prob: False ClassW: None Power: 2**-1 Degree: 7\n",
      "Range: 1\n",
      "Correct: 418\n",
      "Mean Variance: 2.1818181818181817\n",
      "Prob: False ClassW: balanced Power: 2**-1 Degree: 7\n",
      "Range: 1\n",
      "Correct: 138\n",
      "Mean Variance: 4.425837320574162\n",
      "Prob: True ClassW: None Power: 2**-1 Degree: 7\n",
      "Range: 1\n",
      "Correct: 418\n",
      "Mean Variance: 2.1818181818181817\n",
      "Prob: True ClassW: balanced Power: 2**-1 Degree: 7\n",
      "Range: 1\n",
      "Correct: 138\n",
      "Mean Variance: 4.425837320574162\n",
      "Prob: False ClassW: None Power: 2**-1 Degree: 8\n",
      "Range: 1\n",
      "Correct: 414\n",
      "Mean Variance: 2.1901913875598087\n",
      "Prob: False ClassW: balanced Power: 2**-1 Degree: 8\n",
      "Range: 1\n",
      "Correct: 136\n",
      "Mean Variance: 4.552631578947368\n",
      "Prob: True ClassW: None Power: 2**-1 Degree: 8\n",
      "Range: 1\n",
      "Correct: 414\n",
      "Mean Variance: 2.1901913875598087\n",
      "Prob: True ClassW: balanced Power: 2**-1 Degree: 8\n",
      "Range: 1\n",
      "Correct: 136\n",
      "Mean Variance: 4.552631578947368\n",
      "Prob: False ClassW: None Power: 2**-1 Degree: 9\n",
      "Range: 1\n",
      "Correct: 414\n",
      "Mean Variance: 2.1961722488038276\n",
      "Prob: False ClassW: balanced Power: 2**-1 Degree: 9\n",
      "Range: 1\n",
      "Correct: 14\n",
      "Mean Variance: 6.417464114832536\n",
      "Prob: True ClassW: None Power: 2**-1 Degree: 9\n",
      "Range: 1\n",
      "Correct: 414\n",
      "Mean Variance: 2.1961722488038276\n",
      "Prob: True ClassW: balanced Power: 2**-1 Degree: 9\n",
      "Range: 1\n",
      "Correct: 14\n",
      "Mean Variance: 6.417464114832536\n",
      "Prob: False ClassW: None Power: 2**0 Degree: 1\n",
      "Range: 1\n",
      "Correct: 506\n",
      "Mean Variance: 1.8217703349282297\n",
      "Prob: False ClassW: balanced Power: 2**0 Degree: 1\n",
      "Range: 1\n",
      "Correct: 118\n",
      "Mean Variance: 9.291866028708133\n",
      "Prob: True ClassW: None Power: 2**0 Degree: 1\n",
      "Range: 1\n",
      "Correct: 506\n",
      "Mean Variance: 1.8217703349282297\n",
      "Prob: True ClassW: balanced Power: 2**0 Degree: 1\n",
      "Range: 1\n",
      "Correct: 118\n",
      "Mean Variance: 9.291866028708133\n",
      "Prob: False ClassW: None Power: 2**0 Degree: 2\n",
      "Range: 1\n",
      "Correct: 484\n",
      "Mean Variance: 1.9126794258373205\n",
      "Prob: False ClassW: balanced Power: 2**0 Degree: 2\n",
      "Range: 1\n",
      "Correct: 123\n",
      "Mean Variance: 8.16866028708134\n",
      "Prob: True ClassW: None Power: 2**0 Degree: 2\n",
      "Range: 1\n",
      "Correct: 484\n",
      "Mean Variance: 1.9126794258373205\n",
      "Prob: True ClassW: balanced Power: 2**0 Degree: 2\n",
      "Range: 1\n",
      "Correct: 123\n",
      "Mean Variance: 8.16866028708134\n",
      "Prob: False ClassW: None Power: 2**0 Degree: 3\n",
      "Range: 1\n",
      "Correct: 480\n",
      "Mean Variance: 1.9545454545454546\n",
      "Prob: False ClassW: balanced Power: 2**0 Degree: 3\n",
      "Range: 1\n",
      "Correct: 190\n",
      "Mean Variance: 6.837320574162679\n",
      "Prob: True ClassW: None Power: 2**0 Degree: 3\n",
      "Range: 1\n",
      "Correct: 480\n",
      "Mean Variance: 1.9545454545454546\n",
      "Prob: True ClassW: balanced Power: 2**0 Degree: 3\n",
      "Range: 1\n",
      "Correct: 190\n",
      "Mean Variance: 6.837320574162679\n",
      "Prob: False ClassW: None Power: 2**0 Degree: 4\n",
      "Range: 1\n",
      "Correct: 433\n",
      "Mean Variance: 2.1076555023923444\n",
      "Prob: False ClassW: balanced Power: 2**0 Degree: 4\n",
      "Range: 1\n",
      "Correct: 135\n",
      "Mean Variance: 6.5227272727272725\n",
      "Prob: True ClassW: None Power: 2**0 Degree: 4\n",
      "Range: 1\n",
      "Correct: 433\n",
      "Mean Variance: 2.1076555023923444\n",
      "Prob: True ClassW: balanced Power: 2**0 Degree: 4\n",
      "Range: 1\n",
      "Correct: 135\n",
      "Mean Variance: 6.5227272727272725\n",
      "Prob: False ClassW: None Power: 2**0 Degree: 5\n",
      "Range: 1\n",
      "Correct: 425\n",
      "Mean Variance: 2.1423444976076556\n",
      "Prob: False ClassW: balanced Power: 2**0 Degree: 5\n",
      "Range: 1\n",
      "Correct: 15\n",
      "Mean Variance: 6.985645933014354\n",
      "Prob: True ClassW: None Power: 2**0 Degree: 5\n",
      "Range: 1\n",
      "Correct: 425\n",
      "Mean Variance: 2.1423444976076556\n",
      "Prob: True ClassW: balanced Power: 2**0 Degree: 5\n",
      "Range: 1\n",
      "Correct: 15\n",
      "Mean Variance: 6.985645933014354\n",
      "Prob: False ClassW: None Power: 2**0 Degree: 6\n",
      "Range: 1\n",
      "Correct: 422\n",
      "Mean Variance: 2.1638755980861246\n",
      "Prob: False ClassW: balanced Power: 2**0 Degree: 6\n",
      "Range: 1\n",
      "Correct: 16\n",
      "Mean Variance: 6.587320574162679\n",
      "Prob: True ClassW: None Power: 2**0 Degree: 6\n",
      "Range: 1\n",
      "Correct: 422\n",
      "Mean Variance: 2.1638755980861246\n",
      "Prob: True ClassW: balanced Power: 2**0 Degree: 6\n",
      "Range: 1\n",
      "Correct: 16\n",
      "Mean Variance: 6.587320574162679\n",
      "Prob: False ClassW: None Power: 2**0 Degree: 7\n",
      "Range: 1\n",
      "Correct: 419\n",
      "Mean Variance: 2.1770334928229667\n",
      "Prob: False ClassW: balanced Power: 2**0 Degree: 7\n",
      "Range: 1\n",
      "Correct: 138\n",
      "Mean Variance: 4.561004784688995\n",
      "Prob: True ClassW: None Power: 2**0 Degree: 7\n",
      "Range: 1\n",
      "Correct: 419\n",
      "Mean Variance: 2.1770334928229667\n",
      "Prob: True ClassW: balanced Power: 2**0 Degree: 7\n",
      "Range: 1\n",
      "Correct: 138\n",
      "Mean Variance: 4.561004784688995\n",
      "Prob: False ClassW: None Power: 2**0 Degree: 8\n",
      "Range: 1\n",
      "Correct: 418\n",
      "Mean Variance: 2.1794258373205744\n",
      "Prob: False ClassW: balanced Power: 2**0 Degree: 8\n",
      "Range: 1\n",
      "Correct: 138\n",
      "Mean Variance: 4.461722488038277\n",
      "Prob: True ClassW: None Power: 2**0 Degree: 8\n",
      "Range: 1\n",
      "Correct: 418\n",
      "Mean Variance: 2.1794258373205744\n",
      "Prob: True ClassW: balanced Power: 2**0 Degree: 8\n",
      "Range: 1\n",
      "Correct: 138\n",
      "Mean Variance: 4.461722488038277\n",
      "Prob: False ClassW: None Power: 2**0 Degree: 9\n",
      "Range: 1\n",
      "Correct: 416\n",
      "Mean Variance: 2.186602870813397\n",
      "Prob: False ClassW: balanced Power: 2**0 Degree: 9\n",
      "Range: 1\n",
      "Correct: 138\n",
      "Mean Variance: 4.34688995215311\n",
      "Prob: True ClassW: None Power: 2**0 Degree: 9\n",
      "Range: 1\n",
      "Correct: 416\n",
      "Mean Variance: 2.186602870813397\n",
      "Prob: True ClassW: balanced Power: 2**0 Degree: 9\n",
      "Range: 1\n",
      "Correct: 138\n",
      "Mean Variance: 4.34688995215311\n",
      "Prob: False ClassW: None Power: 2**1 Degree: 1\n",
      "Range: 1\n",
      "Correct: 509\n",
      "Mean Variance: 1.8014354066985645\n",
      "Prob: False ClassW: balanced Power: 2**1 Degree: 1\n",
      "Range: 1\n",
      "Correct: 165\n",
      "Mean Variance: 8.513157894736842\n",
      "Prob: True ClassW: None Power: 2**1 Degree: 1\n",
      "Range: 1\n",
      "Correct: 509\n",
      "Mean Variance: 1.8014354066985645\n",
      "Prob: True ClassW: balanced Power: 2**1 Degree: 1\n",
      "Range: 1\n",
      "Correct: 165\n",
      "Mean Variance: 8.513157894736842\n",
      "Prob: False ClassW: None Power: 2**1 Degree: 2\n",
      "Range: 1\n",
      "Correct: 513\n",
      "Mean Variance: 1.8157894736842106\n",
      "Prob: False ClassW: balanced Power: 2**1 Degree: 2\n",
      "Range: 1\n",
      "Correct: 66\n",
      "Mean Variance: 9.183014354066986\n",
      "Prob: True ClassW: None Power: 2**1 Degree: 2\n",
      "Range: 1\n",
      "Correct: 513\n",
      "Mean Variance: 1.8157894736842106\n",
      "Prob: True ClassW: balanced Power: 2**1 Degree: 2\n",
      "Range: 1\n",
      "Correct: 66\n",
      "Mean Variance: 9.183014354066986\n",
      "Prob: False ClassW: None Power: 2**1 Degree: 3\n",
      "Range: 1\n",
      "Correct: 477\n",
      "Mean Variance: 1.9712918660287082\n",
      "Prob: False ClassW: balanced Power: 2**1 Degree: 3\n",
      "Range: 1\n",
      "Correct: 213\n",
      "Mean Variance: 6.537081339712919\n",
      "Prob: True ClassW: None Power: 2**1 Degree: 3\n",
      "Range: 1\n",
      "Correct: 477\n",
      "Mean Variance: 1.9712918660287082\n",
      "Prob: True ClassW: balanced Power: 2**1 Degree: 3\n",
      "Range: 1\n",
      "Correct: 213\n",
      "Mean Variance: 6.537081339712919\n",
      "Prob: False ClassW: None Power: 2**1 Degree: 4\n",
      "Range: 1\n",
      "Correct: 436\n",
      "Mean Variance: 2.0921052631578947\n",
      "Prob: False ClassW: balanced Power: 2**1 Degree: 4\n",
      "Range: 1\n",
      "Correct: 171\n",
      "Mean Variance: 6.636363636363637\n",
      "Prob: True ClassW: None Power: 2**1 Degree: 4\n",
      "Range: 1\n",
      "Correct: 436\n",
      "Mean Variance: 2.0921052631578947\n",
      "Prob: True ClassW: balanced Power: 2**1 Degree: 4\n",
      "Range: 1\n",
      "Correct: 171\n",
      "Mean Variance: 6.636363636363637\n",
      "Prob: False ClassW: None Power: 2**1 Degree: 5\n",
      "Range: 1\n",
      "Correct: 429\n",
      "Mean Variance: 2.117224880382775\n",
      "Prob: False ClassW: balanced Power: 2**1 Degree: 5\n",
      "Range: 1\n",
      "Correct: 17\n",
      "Mean Variance: 7.264354066985646\n",
      "Prob: True ClassW: None Power: 2**1 Degree: 5\n",
      "Range: 1\n",
      "Correct: 429\n",
      "Mean Variance: 2.117224880382775\n",
      "Prob: True ClassW: balanced Power: 2**1 Degree: 5\n",
      "Range: 1\n",
      "Correct: 17\n",
      "Mean Variance: 7.264354066985646\n",
      "Prob: False ClassW: None Power: 2**1 Degree: 6\n",
      "Range: 1\n",
      "Correct: 424\n",
      "Mean Variance: 2.1435406698564594\n"
     ]
    },
    {
     "name": "stdout",
     "output_type": "stream",
     "text": [
      "Prob: False ClassW: balanced Power: 2**1 Degree: 6\n",
      "Range: 1\n",
      "Correct: 16\n",
      "Mean Variance: 6.782296650717703\n",
      "Prob: True ClassW: None Power: 2**1 Degree: 6\n",
      "Range: 1\n",
      "Correct: 424\n",
      "Mean Variance: 2.1435406698564594\n",
      "Prob: True ClassW: balanced Power: 2**1 Degree: 6\n",
      "Range: 1\n",
      "Correct: 16\n",
      "Mean Variance: 6.782296650717703\n",
      "Prob: False ClassW: None Power: 2**1 Degree: 7\n",
      "Range: 1\n",
      "Correct: 422\n",
      "Mean Variance: 2.160287081339713\n",
      "Prob: False ClassW: balanced Power: 2**1 Degree: 7\n",
      "Range: 1\n",
      "Correct: 17\n",
      "Mean Variance: 6.681818181818182\n",
      "Prob: True ClassW: None Power: 2**1 Degree: 7\n",
      "Range: 1\n",
      "Correct: 422\n",
      "Mean Variance: 2.160287081339713\n",
      "Prob: True ClassW: balanced Power: 2**1 Degree: 7\n",
      "Range: 1\n",
      "Correct: 17\n",
      "Mean Variance: 6.681818181818182\n",
      "Prob: False ClassW: None Power: 2**1 Degree: 8\n",
      "Range: 1\n",
      "Correct: 420\n",
      "Mean Variance: 2.173444976076555\n",
      "Prob: False ClassW: balanced Power: 2**1 Degree: 8\n",
      "Range: 1\n",
      "Correct: 16\n",
      "Mean Variance: 6.398325358851674\n",
      "Prob: True ClassW: None Power: 2**1 Degree: 8\n",
      "Range: 1\n",
      "Correct: 420\n",
      "Mean Variance: 2.173444976076555\n",
      "Prob: True ClassW: balanced Power: 2**1 Degree: 8\n",
      "Range: 1\n",
      "Correct: 16\n",
      "Mean Variance: 6.398325358851674\n",
      "Prob: False ClassW: None Power: 2**1 Degree: 9\n",
      "Range: 1\n",
      "Correct: 418\n",
      "Mean Variance: 2.1794258373205744\n",
      "Prob: False ClassW: balanced Power: 2**1 Degree: 9\n",
      "Range: 1\n",
      "Correct: 138\n",
      "Mean Variance: 4.519138755980861\n",
      "Prob: True ClassW: None Power: 2**1 Degree: 9\n",
      "Range: 1\n",
      "Correct: 418\n",
      "Mean Variance: 2.1794258373205744\n",
      "Prob: True ClassW: balanced Power: 2**1 Degree: 9\n",
      "Range: 1\n",
      "Correct: 138\n",
      "Mean Variance: 4.519138755980861\n",
      "Prob: False ClassW: None Power: 2**2 Degree: 1\n",
      "Range: 1\n",
      "Correct: 530\n",
      "Mean Variance: 1.7105263157894737\n",
      "Prob: False ClassW: balanced Power: 2**2 Degree: 1\n",
      "Range: 1\n",
      "Correct: 216\n",
      "Mean Variance: 7.47488038277512\n",
      "Prob: True ClassW: None Power: 2**2 Degree: 1\n",
      "Range: 1\n",
      "Correct: 530\n",
      "Mean Variance: 1.7105263157894737\n",
      "Prob: True ClassW: balanced Power: 2**2 Degree: 1\n",
      "Range: 1\n",
      "Correct: 216\n",
      "Mean Variance: 7.47488038277512\n",
      "Prob: False ClassW: None Power: 2**2 Degree: 2\n",
      "Range: 1\n",
      "Correct: 513\n",
      "Mean Variance: 1.812200956937799\n",
      "Prob: False ClassW: balanced Power: 2**2 Degree: 2\n",
      "Range: 1\n",
      "Correct: 139\n",
      "Mean Variance: 8.171052631578947\n",
      "Prob: True ClassW: None Power: 2**2 Degree: 2\n",
      "Range: 1\n",
      "Correct: 513\n",
      "Mean Variance: 1.812200956937799\n",
      "Prob: True ClassW: balanced Power: 2**2 Degree: 2\n",
      "Range: 1\n",
      "Correct: 139\n",
      "Mean Variance: 8.171052631578947\n",
      "Prob: False ClassW: None Power: 2**2 Degree: 3\n",
      "Range: 1\n",
      "Correct: 485\n",
      "Mean Variance: 1.9270334928229664\n",
      "Prob: False ClassW: balanced Power: 2**2 Degree: 3\n",
      "Range: 1\n",
      "Correct: 151\n",
      "Mean Variance: 6.671052631578948\n",
      "Prob: True ClassW: None Power: 2**2 Degree: 3\n",
      "Range: 1\n",
      "Correct: 485\n",
      "Mean Variance: 1.9270334928229664\n",
      "Prob: True ClassW: balanced Power: 2**2 Degree: 3\n",
      "Range: 1\n",
      "Correct: 151\n",
      "Mean Variance: 6.671052631578948\n",
      "Prob: False ClassW: None Power: 2**2 Degree: 4\n",
      "Range: 1\n",
      "Correct: 481\n",
      "Mean Variance: 1.950956937799043\n",
      "Prob: False ClassW: balanced Power: 2**2 Degree: 4\n",
      "Range: 1\n",
      "Correct: 198\n",
      "Mean Variance: 6.364832535885167\n",
      "Prob: True ClassW: None Power: 2**2 Degree: 4\n",
      "Range: 1\n",
      "Correct: 481\n",
      "Mean Variance: 1.950956937799043\n",
      "Prob: True ClassW: balanced Power: 2**2 Degree: 4\n",
      "Range: 1\n",
      "Correct: 198\n",
      "Mean Variance: 6.364832535885167\n",
      "Prob: False ClassW: None Power: 2**2 Degree: 5\n",
      "Range: 1\n",
      "Correct: 433\n",
      "Mean Variance: 2.1052631578947367\n",
      "Prob: False ClassW: balanced Power: 2**2 Degree: 5\n",
      "Range: 1\n",
      "Correct: 163\n",
      "Mean Variance: 6.149521531100478\n",
      "Prob: True ClassW: None Power: 2**2 Degree: 5\n",
      "Range: 1\n",
      "Correct: 433\n",
      "Mean Variance: 2.1052631578947367\n",
      "Prob: True ClassW: balanced Power: 2**2 Degree: 5\n",
      "Range: 1\n",
      "Correct: 163\n",
      "Mean Variance: 6.149521531100478\n",
      "Prob: False ClassW: None Power: 2**2 Degree: 6\n",
      "Range: 1\n",
      "Correct: 429\n",
      "Mean Variance: 2.125598086124402\n",
      "Prob: False ClassW: balanced Power: 2**2 Degree: 6\n",
      "Range: 1\n",
      "Correct: 20\n",
      "Mean Variance: 6.832535885167464\n",
      "Prob: True ClassW: None Power: 2**2 Degree: 6\n",
      "Range: 1\n",
      "Correct: 429\n",
      "Mean Variance: 2.125598086124402\n",
      "Prob: True ClassW: balanced Power: 2**2 Degree: 6\n",
      "Range: 1\n",
      "Correct: 20\n",
      "Mean Variance: 6.832535885167464\n",
      "Prob: False ClassW: None Power: 2**2 Degree: 7\n",
      "Range: 1\n",
      "Correct: 425\n",
      "Mean Variance: 2.13755980861244\n",
      "Prob: False ClassW: balanced Power: 2**2 Degree: 7\n",
      "Range: 1\n",
      "Correct: 20\n",
      "Mean Variance: 6.661483253588517\n",
      "Prob: True ClassW: None Power: 2**2 Degree: 7\n",
      "Range: 1\n",
      "Correct: 425\n",
      "Mean Variance: 2.13755980861244\n",
      "Prob: True ClassW: balanced Power: 2**2 Degree: 7\n",
      "Range: 1\n",
      "Correct: 20\n",
      "Mean Variance: 6.661483253588517\n",
      "Prob: False ClassW: None Power: 2**2 Degree: 8\n",
      "Range: 1\n",
      "Correct: 422\n",
      "Mean Variance: 2.161483253588517\n",
      "Prob: False ClassW: balanced Power: 2**2 Degree: 8\n",
      "Range: 1\n",
      "Correct: 18\n",
      "Mean Variance: 6.650717703349282\n",
      "Prob: True ClassW: None Power: 2**2 Degree: 8\n",
      "Range: 1\n",
      "Correct: 422\n",
      "Mean Variance: 2.161483253588517\n",
      "Prob: True ClassW: balanced Power: 2**2 Degree: 8\n",
      "Range: 1\n",
      "Correct: 18\n",
      "Mean Variance: 6.650717703349282\n",
      "Prob: False ClassW: None Power: 2**2 Degree: 9\n",
      "Range: 1\n",
      "Correct: 420\n",
      "Mean Variance: 2.172248803827751\n",
      "Prob: False ClassW: balanced Power: 2**2 Degree: 9\n",
      "Range: 1\n",
      "Correct: 19\n",
      "Mean Variance: 6.568181818181818\n",
      "Prob: True ClassW: None Power: 2**2 Degree: 9\n",
      "Range: 1\n",
      "Correct: 420\n",
      "Mean Variance: 2.172248803827751\n",
      "Prob: True ClassW: balanced Power: 2**2 Degree: 9\n",
      "Range: 1\n",
      "Correct: 19\n",
      "Mean Variance: 6.568181818181818\n",
      "Prob: False ClassW: None Power: 2**3 Degree: 1\n",
      "Range: 1\n",
      "Correct: 529\n",
      "Mean Variance: 1.6973684210526316\n",
      "Prob: False ClassW: balanced Power: 2**3 Degree: 1\n",
      "Range: 1\n",
      "Correct: 305\n",
      "Mean Variance: 5.009569377990431\n",
      "Prob: True ClassW: None Power: 2**3 Degree: 1\n",
      "Range: 1\n",
      "Correct: 529\n",
      "Mean Variance: 1.6973684210526316\n",
      "Prob: True ClassW: balanced Power: 2**3 Degree: 1\n",
      "Range: 1\n",
      "Correct: 305\n",
      "Mean Variance: 5.009569377990431\n",
      "Prob: False ClassW: None Power: 2**3 Degree: 2\n",
      "Range: 1\n",
      "Correct: 514\n",
      "Mean Variance: 1.7954545454545454\n",
      "Prob: False ClassW: balanced Power: 2**3 Degree: 2\n",
      "Range: 1\n",
      "Correct: 216\n",
      "Mean Variance: 6.650717703349282\n",
      "Prob: True ClassW: None Power: 2**3 Degree: 2\n",
      "Range: 1\n",
      "Correct: 514\n",
      "Mean Variance: 1.7954545454545454\n",
      "Prob: True ClassW: balanced Power: 2**3 Degree: 2\n",
      "Range: 1\n",
      "Correct: 216\n",
      "Mean Variance: 6.650717703349282\n",
      "Prob: False ClassW: None Power: 2**3 Degree: 3\n",
      "Range: 1\n",
      "Correct: 513\n",
      "Mean Variance: 1.8277511961722488\n",
      "Prob: False ClassW: balanced Power: 2**3 Degree: 3\n",
      "Range: 1\n",
      "Correct: 133\n",
      "Mean Variance: 6.77511961722488\n",
      "Prob: True ClassW: None Power: 2**3 Degree: 3\n",
      "Range: 1\n",
      "Correct: 513\n",
      "Mean Variance: 1.8277511961722488\n",
      "Prob: True ClassW: balanced Power: 2**3 Degree: 3\n",
      "Range: 1\n",
      "Correct: 133\n",
      "Mean Variance: 6.77511961722488\n",
      "Prob: False ClassW: None Power: 2**3 Degree: 4\n",
      "Range: 1\n",
      "Correct: 468\n",
      "Mean Variance: 2.0023923444976077\n",
      "Prob: False ClassW: balanced Power: 2**3 Degree: 4\n",
      "Range: 1\n",
      "Correct: 221\n",
      "Mean Variance: 6.069377990430622\n",
      "Prob: True ClassW: None Power: 2**3 Degree: 4\n",
      "Range: 1\n",
      "Correct: 468\n",
      "Mean Variance: 2.0023923444976077\n",
      "Prob: True ClassW: balanced Power: 2**3 Degree: 4\n",
      "Range: 1\n",
      "Correct: 221\n",
      "Mean Variance: 6.069377990430622\n",
      "Prob: False ClassW: None Power: 2**3 Degree: 5\n",
      "Range: 1\n",
      "Correct: 440\n",
      "Mean Variance: 2.083732057416268\n",
      "Prob: False ClassW: balanced Power: 2**3 Degree: 5\n",
      "Range: 1\n",
      "Correct: 173\n",
      "Mean Variance: 6.332535885167464\n",
      "Prob: True ClassW: None Power: 2**3 Degree: 5\n",
      "Range: 1\n",
      "Correct: 440\n",
      "Mean Variance: 2.083732057416268\n",
      "Prob: True ClassW: balanced Power: 2**3 Degree: 5\n",
      "Range: 1\n",
      "Correct: 173\n",
      "Mean Variance: 6.332535885167464\n",
      "Prob: False ClassW: None Power: 2**3 Degree: 6\n",
      "Range: 1\n",
      "Correct: 430\n",
      "Mean Variance: 2.117224880382775\n",
      "Prob: False ClassW: balanced Power: 2**3 Degree: 6\n",
      "Range: 1\n",
      "Correct: 23\n",
      "Mean Variance: 7.473684210526316\n",
      "Prob: True ClassW: None Power: 2**3 Degree: 6\n",
      "Range: 1\n",
      "Correct: 430\n",
      "Mean Variance: 2.117224880382775\n",
      "Prob: True ClassW: balanced Power: 2**3 Degree: 6\n",
      "Range: 1\n",
      "Correct: 23\n",
      "Mean Variance: 7.473684210526316\n",
      "Prob: False ClassW: None Power: 2**3 Degree: 7\n",
      "Range: 1\n",
      "Correct: 428\n",
      "Mean Variance: 2.124401913875598\n",
      "Prob: False ClassW: balanced Power: 2**3 Degree: 7\n",
      "Range: 1\n",
      "Correct: 21\n",
      "Mean Variance: 6.805023923444976\n",
      "Prob: True ClassW: None Power: 2**3 Degree: 7\n",
      "Range: 1\n",
      "Correct: 428\n",
      "Mean Variance: 2.124401913875598\n",
      "Prob: True ClassW: balanced Power: 2**3 Degree: 7\n",
      "Range: 1\n",
      "Correct: 21\n",
      "Mean Variance: 6.805023923444976\n",
      "Prob: False ClassW: None Power: 2**3 Degree: 8\n",
      "Range: 1\n",
      "Correct: 425\n",
      "Mean Variance: 2.1411483253588517\n"
     ]
    },
    {
     "name": "stdout",
     "output_type": "stream",
     "text": [
      "Prob: False ClassW: balanced Power: 2**3 Degree: 8\n",
      "Range: 1\n",
      "Correct: 18\n",
      "Mean Variance: 6.644736842105263\n",
      "Prob: True ClassW: None Power: 2**3 Degree: 8\n",
      "Range: 1\n",
      "Correct: 425\n",
      "Mean Variance: 2.1411483253588517\n",
      "Prob: True ClassW: balanced Power: 2**3 Degree: 8\n",
      "Range: 1\n",
      "Correct: 18\n",
      "Mean Variance: 6.644736842105263\n",
      "Prob: False ClassW: None Power: 2**3 Degree: 9\n",
      "Range: 1\n",
      "Correct: 422\n",
      "Mean Variance: 2.1578947368421053\n",
      "Prob: False ClassW: balanced Power: 2**3 Degree: 9\n",
      "Range: 1\n",
      "Correct: 17\n",
      "Mean Variance: 6.6208133971291865\n",
      "Prob: True ClassW: None Power: 2**3 Degree: 9\n",
      "Range: 1\n",
      "Correct: 422\n",
      "Mean Variance: 2.1578947368421053\n",
      "Prob: True ClassW: balanced Power: 2**3 Degree: 9\n",
      "Range: 1\n",
      "Correct: 17\n",
      "Mean Variance: 6.6208133971291865\n",
      "Prob: False ClassW: None Power: 2**4 Degree: 1\n",
      "Range: 1\n",
      "Correct: 531\n",
      "Mean Variance: 1.6722488038277512\n",
      "Prob: False ClassW: balanced Power: 2**4 Degree: 1\n",
      "Range: 1\n",
      "Correct: 387\n",
      "Mean Variance: 3.376794258373206\n",
      "Prob: True ClassW: None Power: 2**4 Degree: 1\n",
      "Range: 1\n",
      "Correct: 531\n",
      "Mean Variance: 1.6722488038277512\n",
      "Prob: True ClassW: balanced Power: 2**4 Degree: 1\n",
      "Range: 1\n",
      "Correct: 387\n",
      "Mean Variance: 3.376794258373206\n",
      "Prob: False ClassW: None Power: 2**4 Degree: 2\n",
      "Range: 1\n",
      "Correct: 519\n",
      "Mean Variance: 1.7523923444976077\n",
      "Prob: False ClassW: balanced Power: 2**4 Degree: 2\n",
      "Range: 1\n",
      "Correct: 307\n",
      "Mean Variance: 4.448564593301436\n",
      "Prob: True ClassW: None Power: 2**4 Degree: 2\n",
      "Range: 1\n",
      "Correct: 519\n",
      "Mean Variance: 1.7523923444976077\n",
      "Prob: True ClassW: balanced Power: 2**4 Degree: 2\n",
      "Range: 1\n",
      "Correct: 307\n",
      "Mean Variance: 4.448564593301436\n",
      "Prob: False ClassW: None Power: 2**4 Degree: 3\n",
      "Range: 1\n",
      "Correct: 514\n",
      "Mean Variance: 1.8277511961722488\n",
      "Prob: False ClassW: balanced Power: 2**4 Degree: 3\n",
      "Range: 1\n",
      "Correct: 157\n",
      "Mean Variance: 6.900717703349282\n",
      "Prob: True ClassW: None Power: 2**4 Degree: 3\n",
      "Range: 1\n",
      "Correct: 514\n",
      "Mean Variance: 1.8277511961722488\n",
      "Prob: True ClassW: balanced Power: 2**4 Degree: 3\n",
      "Range: 1\n",
      "Correct: 157\n",
      "Mean Variance: 6.900717703349282\n",
      "Prob: False ClassW: None Power: 2**4 Degree: 4\n",
      "Range: 1\n",
      "Correct: 483\n",
      "Mean Variance: 1.9497607655502391\n",
      "Prob: False ClassW: balanced Power: 2**4 Degree: 4\n",
      "Range: 1\n",
      "Correct: 260\n",
      "Mean Variance: 5.3433014354066986\n",
      "Prob: True ClassW: None Power: 2**4 Degree: 4\n",
      "Range: 1\n",
      "Correct: 483\n",
      "Mean Variance: 1.9497607655502391\n",
      "Prob: True ClassW: balanced Power: 2**4 Degree: 4\n",
      "Range: 1\n",
      "Correct: 260\n",
      "Mean Variance: 5.3433014354066986\n",
      "Prob: False ClassW: None Power: 2**4 Degree: 5\n",
      "Range: 1\n",
      "Correct: 479\n",
      "Mean Variance: 1.9629186602870814\n",
      "Prob: False ClassW: balanced Power: 2**4 Degree: 5\n",
      "Range: 1\n",
      "Correct: 219\n",
      "Mean Variance: 5.681818181818182\n",
      "Prob: True ClassW: None Power: 2**4 Degree: 5\n",
      "Range: 1\n",
      "Correct: 479\n",
      "Mean Variance: 1.9629186602870814\n",
      "Prob: True ClassW: balanced Power: 2**4 Degree: 5\n",
      "Range: 1\n",
      "Correct: 219\n",
      "Mean Variance: 5.681818181818182\n",
      "Prob: False ClassW: None Power: 2**4 Degree: 6\n",
      "Range: 1\n",
      "Correct: 435\n",
      "Mean Variance: 2.0933014354066986\n",
      "Prob: False ClassW: balanced Power: 2**4 Degree: 6\n",
      "Range: 1\n",
      "Correct: 174\n",
      "Mean Variance: 6.038277511961723\n",
      "Prob: True ClassW: None Power: 2**4 Degree: 6\n",
      "Range: 1\n",
      "Correct: 435\n",
      "Mean Variance: 2.0933014354066986\n",
      "Prob: True ClassW: balanced Power: 2**4 Degree: 6\n",
      "Range: 1\n",
      "Correct: 174\n",
      "Mean Variance: 6.038277511961723\n",
      "Prob: False ClassW: None Power: 2**4 Degree: 7\n",
      "Range: 1\n",
      "Correct: 430\n",
      "Mean Variance: 2.117224880382775\n",
      "Prob: False ClassW: balanced Power: 2**4 Degree: 7\n",
      "Range: 1\n",
      "Correct: 21\n",
      "Mean Variance: 7.0753588516746415\n",
      "Prob: True ClassW: None Power: 2**4 Degree: 7\n",
      "Range: 1\n",
      "Correct: 430\n",
      "Mean Variance: 2.117224880382775\n",
      "Prob: True ClassW: balanced Power: 2**4 Degree: 7\n",
      "Range: 1\n",
      "Correct: 21\n",
      "Mean Variance: 7.0753588516746415\n",
      "Prob: False ClassW: None Power: 2**4 Degree: 8\n",
      "Range: 1\n",
      "Correct: 426\n",
      "Mean Variance: 2.1315789473684212\n",
      "Prob: False ClassW: balanced Power: 2**4 Degree: 8\n",
      "Range: 1\n",
      "Correct: 22\n",
      "Mean Variance: 6.732057416267943\n",
      "Prob: True ClassW: None Power: 2**4 Degree: 8\n",
      "Range: 1\n",
      "Correct: 426\n",
      "Mean Variance: 2.1315789473684212\n",
      "Prob: True ClassW: balanced Power: 2**4 Degree: 8\n",
      "Range: 1\n",
      "Correct: 22\n",
      "Mean Variance: 6.732057416267943\n",
      "Prob: False ClassW: None Power: 2**4 Degree: 9\n",
      "Range: 1\n",
      "Correct: 425\n",
      "Mean Variance: 2.1423444976076556\n",
      "Prob: False ClassW: balanced Power: 2**4 Degree: 9\n",
      "Range: 1\n",
      "Correct: 18\n",
      "Mean Variance: 6.642344497607655\n",
      "Prob: True ClassW: None Power: 2**4 Degree: 9\n",
      "Range: 1\n",
      "Correct: 425\n",
      "Mean Variance: 2.1423444976076556\n",
      "Prob: True ClassW: balanced Power: 2**4 Degree: 9\n",
      "Range: 1\n",
      "Correct: 18\n",
      "Mean Variance: 6.642344497607655\n",
      "Prob: False ClassW: None Power: 2**5 Degree: 1\n",
      "Range: 1\n",
      "Correct: 530\n",
      "Mean Variance: 1.6555023923444976\n",
      "Prob: False ClassW: balanced Power: 2**5 Degree: 1\n",
      "Range: 1\n",
      "Correct: 419\n",
      "Mean Variance: 2.7404306220095696\n",
      "Prob: True ClassW: None Power: 2**5 Degree: 1\n",
      "Range: 1\n",
      "Correct: 530\n",
      "Mean Variance: 1.6555023923444976\n",
      "Prob: True ClassW: balanced Power: 2**5 Degree: 1\n",
      "Range: 1\n",
      "Correct: 419\n",
      "Mean Variance: 2.7404306220095696\n",
      "Prob: False ClassW: None Power: 2**5 Degree: 2\n",
      "Range: 1\n",
      "Correct: 528\n",
      "Mean Variance: 1.7105263157894737\n",
      "Prob: False ClassW: balanced Power: 2**5 Degree: 2\n",
      "Range: 1\n",
      "Correct: 376\n",
      "Mean Variance: 3.3169856459330145\n",
      "Prob: True ClassW: None Power: 2**5 Degree: 2\n",
      "Range: 1\n",
      "Correct: 528\n",
      "Mean Variance: 1.7105263157894737\n",
      "Prob: True ClassW: balanced Power: 2**5 Degree: 2\n",
      "Range: 1\n",
      "Correct: 376\n",
      "Mean Variance: 3.3169856459330145\n",
      "Prob: False ClassW: None Power: 2**5 Degree: 3\n",
      "Range: 1\n",
      "Correct: 512\n",
      "Mean Variance: 1.7966507177033493\n",
      "Prob: False ClassW: balanced Power: 2**5 Degree: 3\n",
      "Range: 1\n",
      "Correct: 304\n",
      "Mean Variance: 4.3528708133971294\n",
      "Prob: True ClassW: None Power: 2**5 Degree: 3\n",
      "Range: 1\n",
      "Correct: 512\n",
      "Mean Variance: 1.7966507177033493\n",
      "Prob: True ClassW: balanced Power: 2**5 Degree: 3\n",
      "Range: 1\n",
      "Correct: 304\n",
      "Mean Variance: 4.3528708133971294\n",
      "Prob: False ClassW: None Power: 2**5 Degree: 4\n",
      "Range: 1\n",
      "Correct: 504\n",
      "Mean Variance: 1.8444976076555024\n",
      "Prob: False ClassW: balanced Power: 2**5 Degree: 4\n",
      "Range: 1\n",
      "Correct: 158\n",
      "Mean Variance: 5.758373205741627\n",
      "Prob: True ClassW: None Power: 2**5 Degree: 4\n",
      "Range: 1\n",
      "Correct: 504\n",
      "Mean Variance: 1.8444976076555024\n",
      "Prob: True ClassW: balanced Power: 2**5 Degree: 4\n",
      "Range: 1\n",
      "Correct: 158\n",
      "Mean Variance: 5.758373205741627\n",
      "Prob: False ClassW: None Power: 2**5 Degree: 5\n",
      "Range: 1\n",
      "Correct: 469\n",
      "Mean Variance: 2.0083732057416266\n",
      "Prob: False ClassW: balanced Power: 2**5 Degree: 5\n",
      "Range: 1\n",
      "Correct: 258\n",
      "Mean Variance: 5.034688995215311\n",
      "Prob: True ClassW: None Power: 2**5 Degree: 5\n",
      "Range: 1\n",
      "Correct: 469\n",
      "Mean Variance: 2.0083732057416266\n",
      "Prob: True ClassW: balanced Power: 2**5 Degree: 5\n",
      "Range: 1\n",
      "Correct: 258\n",
      "Mean Variance: 5.034688995215311\n",
      "Prob: False ClassW: None Power: 2**5 Degree: 6\n",
      "Range: 1\n",
      "Correct: 444\n",
      "Mean Variance: 2.0657894736842106\n",
      "Prob: False ClassW: balanced Power: 2**5 Degree: 6\n",
      "Range: 1\n",
      "Correct: 201\n",
      "Mean Variance: 5.711722488038277\n",
      "Prob: True ClassW: None Power: 2**5 Degree: 6\n",
      "Range: 1\n",
      "Correct: 444\n",
      "Mean Variance: 2.0657894736842106\n",
      "Prob: True ClassW: balanced Power: 2**5 Degree: 6\n",
      "Range: 1\n",
      "Correct: 201\n",
      "Mean Variance: 5.711722488038277\n",
      "Prob: False ClassW: None Power: 2**5 Degree: 7\n",
      "Range: 1\n",
      "Correct: 433\n",
      "Mean Variance: 2.102870813397129\n",
      "Prob: False ClassW: balanced Power: 2**5 Degree: 7\n",
      "Range: 1\n",
      "Correct: 175\n",
      "Mean Variance: 5.434210526315789\n",
      "Prob: True ClassW: None Power: 2**5 Degree: 7\n",
      "Range: 1\n",
      "Correct: 433\n",
      "Mean Variance: 2.102870813397129\n",
      "Prob: True ClassW: balanced Power: 2**5 Degree: 7\n",
      "Range: 1\n",
      "Correct: 175\n",
      "Mean Variance: 5.434210526315789\n",
      "Prob: False ClassW: None Power: 2**5 Degree: 8\n",
      "Range: 1\n",
      "Correct: 431\n",
      "Mean Variance: 2.1184210526315788\n",
      "Prob: False ClassW: balanced Power: 2**5 Degree: 8\n",
      "Range: 1\n",
      "Correct: 22\n",
      "Mean Variance: 6.7547846889952154\n",
      "Prob: True ClassW: None Power: 2**5 Degree: 8\n",
      "Range: 1\n",
      "Correct: 431\n",
      "Mean Variance: 2.1184210526315788\n",
      "Prob: True ClassW: balanced Power: 2**5 Degree: 8\n",
      "Range: 1\n",
      "Correct: 22\n",
      "Mean Variance: 6.7547846889952154\n",
      "Prob: False ClassW: None Power: 2**5 Degree: 9\n",
      "Range: 1\n",
      "Correct: 426\n",
      "Mean Variance: 2.1291866028708135\n",
      "Prob: False ClassW: balanced Power: 2**5 Degree: 9\n",
      "Range: 1\n",
      "Correct: 20\n",
      "Mean Variance: 6.624401913875598\n",
      "Prob: True ClassW: None Power: 2**5 Degree: 9\n",
      "Range: 1\n",
      "Correct: 426\n",
      "Mean Variance: 2.1291866028708135\n",
      "Prob: True ClassW: balanced Power: 2**5 Degree: 9\n",
      "Range: 1\n",
      "Correct: 20\n",
      "Mean Variance: 6.624401913875598\n"
     ]
    },
    {
     "name": "stdout",
     "output_type": "stream",
     "text": [
      "Prob: False ClassW: None Power: 2**6 Degree: 1\n",
      "Range: 1\n",
      "Correct: 536\n",
      "Mean Variance: 1.6220095693779903\n",
      "Prob: False ClassW: balanced Power: 2**6 Degree: 1\n",
      "Range: 1\n",
      "Correct: 444\n",
      "Mean Variance: 2.382775119617225\n",
      "Prob: True ClassW: None Power: 2**6 Degree: 1\n",
      "Range: 1\n",
      "Correct: 536\n",
      "Mean Variance: 1.6220095693779903\n",
      "Prob: True ClassW: balanced Power: 2**6 Degree: 1\n",
      "Range: 1\n",
      "Correct: 444\n",
      "Mean Variance: 2.382775119617225\n",
      "Prob: False ClassW: None Power: 2**6 Degree: 2\n",
      "Range: 1\n",
      "Correct: 533\n",
      "Mean Variance: 1.7033492822966507\n",
      "Prob: False ClassW: balanced Power: 2**6 Degree: 2\n",
      "Range: 1\n",
      "Correct: 398\n",
      "Mean Variance: 2.7547846889952154\n",
      "Prob: True ClassW: None Power: 2**6 Degree: 2\n",
      "Range: 1\n",
      "Correct: 533\n",
      "Mean Variance: 1.7033492822966507\n",
      "Prob: True ClassW: balanced Power: 2**6 Degree: 2\n",
      "Range: 1\n",
      "Correct: 398\n",
      "Mean Variance: 2.7547846889952154\n",
      "Prob: False ClassW: None Power: 2**6 Degree: 3\n",
      "Range: 1\n",
      "Correct: 515\n",
      "Mean Variance: 1.777511961722488\n",
      "Prob: False ClassW: balanced Power: 2**6 Degree: 3\n",
      "Range: 1\n",
      "Correct: 353\n",
      "Mean Variance: 3.5191387559808613\n",
      "Prob: True ClassW: None Power: 2**6 Degree: 3\n",
      "Range: 1\n",
      "Correct: 515\n",
      "Mean Variance: 1.777511961722488\n",
      "Prob: True ClassW: balanced Power: 2**6 Degree: 3\n",
      "Range: 1\n",
      "Correct: 353\n",
      "Mean Variance: 3.5191387559808613\n",
      "Prob: False ClassW: None Power: 2**6 Degree: 4\n",
      "Range: 1\n",
      "Correct: 506\n",
      "Mean Variance: 1.8421052631578947\n",
      "Prob: False ClassW: balanced Power: 2**6 Degree: 4\n",
      "Range: 1\n",
      "Correct: 240\n",
      "Mean Variance: 4.7631578947368425\n",
      "Prob: True ClassW: None Power: 2**6 Degree: 4\n",
      "Range: 1\n",
      "Correct: 506\n",
      "Mean Variance: 1.8421052631578947\n",
      "Prob: True ClassW: balanced Power: 2**6 Degree: 4\n",
      "Range: 1\n",
      "Correct: 240\n",
      "Mean Variance: 4.7631578947368425\n",
      "Prob: False ClassW: None Power: 2**6 Degree: 5\n",
      "Range: 1\n",
      "Correct: 473\n",
      "Mean Variance: 1.9700956937799043\n",
      "Prob: False ClassW: balanced Power: 2**6 Degree: 5\n",
      "Range: 1\n",
      "Correct: 269\n",
      "Mean Variance: 4.706937799043062\n"
     ]
    },
    {
     "ename": "KeyboardInterrupt",
     "evalue": "",
     "output_type": "error",
     "traceback": [
      "\u001b[0;31m---------------------------------------------------------------------------\u001b[0m",
      "\u001b[0;31mKeyboardInterrupt\u001b[0m                         Traceback (most recent call last)",
      "\u001b[0;32m<ipython-input-105-d3d577939272>\u001b[0m in \u001b[0;36m<module>\u001b[0;34m()\u001b[0m\n\u001b[1;32m     13\u001b[0m         \u001b[0mres_poly_test\u001b[0m\u001b[0;34m.\u001b[0m\u001b[0mdisplay_totals\u001b[0m\u001b[0;34m(\u001b[0m\u001b[0;34m)\u001b[0m\u001b[0;34m\u001b[0m\u001b[0m\n\u001b[1;32m     14\u001b[0m \u001b[0;34m\u001b[0m\u001b[0m\n\u001b[0;32m---> 15\u001b[0;31m         \u001b[0mpoly_test3\u001b[0m \u001b[0;34m=\u001b[0m \u001b[0msvm\u001b[0m\u001b[0;34m.\u001b[0m\u001b[0mSVC\u001b[0m\u001b[0;34m(\u001b[0m\u001b[0mkernel\u001b[0m\u001b[0;34m=\u001b[0m\u001b[0;34m'poly'\u001b[0m\u001b[0;34m,\u001b[0m \u001b[0mC\u001b[0m\u001b[0;34m=\u001b[0m\u001b[0;36m2\u001b[0m\u001b[0;34m**\u001b[0m\u001b[0mpower\u001b[0m\u001b[0;34m,\u001b[0m \u001b[0mdegree\u001b[0m\u001b[0;34m=\u001b[0m\u001b[0mdeg\u001b[0m\u001b[0;34m,\u001b[0m \u001b[0mprobability\u001b[0m\u001b[0;34m=\u001b[0m\u001b[0;32mTrue\u001b[0m\u001b[0;34m,\u001b[0m \u001b[0mclass_weight\u001b[0m\u001b[0;34m=\u001b[0m\u001b[0;32mNone\u001b[0m\u001b[0;34m)\u001b[0m\u001b[0;34m.\u001b[0m\u001b[0mfit\u001b[0m\u001b[0;34m(\u001b[0m\u001b[0mx_train\u001b[0m\u001b[0;34m,\u001b[0m \u001b[0my_train\u001b[0m\u001b[0;34m)\u001b[0m\u001b[0;34m\u001b[0m\u001b[0m\n\u001b[0m\u001b[1;32m     16\u001b[0m         \u001b[0mpoly_test_pred\u001b[0m \u001b[0;34m=\u001b[0m \u001b[0mpoly_test3\u001b[0m\u001b[0;34m.\u001b[0m\u001b[0mpredict\u001b[0m\u001b[0;34m(\u001b[0m\u001b[0mx_test\u001b[0m\u001b[0;34m)\u001b[0m\u001b[0;34m\u001b[0m\u001b[0m\n\u001b[1;32m     17\u001b[0m         \u001b[0mres_poly_test\u001b[0m \u001b[0;34m=\u001b[0m \u001b[0mResult\u001b[0m\u001b[0;34m(\u001b[0m\u001b[0mpoly_test_pred\u001b[0m\u001b[0;34m,\u001b[0m \u001b[0my_test\u001b[0m\u001b[0;34m.\u001b[0m\u001b[0mvalues\u001b[0m\u001b[0;34m,\u001b[0m \u001b[0;36m1\u001b[0m\u001b[0;34m)\u001b[0m\u001b[0;34m\u001b[0m\u001b[0m\n",
      "\u001b[0;32m~/anaconda3/lib/python3.7/site-packages/sklearn/svm/base.py\u001b[0m in \u001b[0;36mfit\u001b[0;34m(self, X, y, sample_weight)\u001b[0m\n\u001b[1;32m    185\u001b[0m \u001b[0;34m\u001b[0m\u001b[0m\n\u001b[1;32m    186\u001b[0m         \u001b[0mseed\u001b[0m \u001b[0;34m=\u001b[0m \u001b[0mrnd\u001b[0m\u001b[0;34m.\u001b[0m\u001b[0mrandint\u001b[0m\u001b[0;34m(\u001b[0m\u001b[0mnp\u001b[0m\u001b[0;34m.\u001b[0m\u001b[0miinfo\u001b[0m\u001b[0;34m(\u001b[0m\u001b[0;34m'i'\u001b[0m\u001b[0;34m)\u001b[0m\u001b[0;34m.\u001b[0m\u001b[0mmax\u001b[0m\u001b[0;34m)\u001b[0m\u001b[0;34m\u001b[0m\u001b[0m\n\u001b[0;32m--> 187\u001b[0;31m         \u001b[0mfit\u001b[0m\u001b[0;34m(\u001b[0m\u001b[0mX\u001b[0m\u001b[0;34m,\u001b[0m \u001b[0my\u001b[0m\u001b[0;34m,\u001b[0m \u001b[0msample_weight\u001b[0m\u001b[0;34m,\u001b[0m \u001b[0msolver_type\u001b[0m\u001b[0;34m,\u001b[0m \u001b[0mkernel\u001b[0m\u001b[0;34m,\u001b[0m \u001b[0mrandom_seed\u001b[0m\u001b[0;34m=\u001b[0m\u001b[0mseed\u001b[0m\u001b[0;34m)\u001b[0m\u001b[0;34m\u001b[0m\u001b[0m\n\u001b[0m\u001b[1;32m    188\u001b[0m         \u001b[0;31m# see comment on the other call to np.iinfo in this file\u001b[0m\u001b[0;34m\u001b[0m\u001b[0;34m\u001b[0m\u001b[0m\n\u001b[1;32m    189\u001b[0m \u001b[0;34m\u001b[0m\u001b[0m\n",
      "\u001b[0;32m~/anaconda3/lib/python3.7/site-packages/sklearn/svm/base.py\u001b[0m in \u001b[0;36m_dense_fit\u001b[0;34m(self, X, y, sample_weight, solver_type, kernel, random_seed)\u001b[0m\n\u001b[1;32m    252\u001b[0m                 \u001b[0mcache_size\u001b[0m\u001b[0;34m=\u001b[0m\u001b[0mself\u001b[0m\u001b[0;34m.\u001b[0m\u001b[0mcache_size\u001b[0m\u001b[0;34m,\u001b[0m \u001b[0mcoef0\u001b[0m\u001b[0;34m=\u001b[0m\u001b[0mself\u001b[0m\u001b[0;34m.\u001b[0m\u001b[0mcoef0\u001b[0m\u001b[0;34m,\u001b[0m\u001b[0;34m\u001b[0m\u001b[0m\n\u001b[1;32m    253\u001b[0m                 \u001b[0mgamma\u001b[0m\u001b[0;34m=\u001b[0m\u001b[0mself\u001b[0m\u001b[0;34m.\u001b[0m\u001b[0m_gamma\u001b[0m\u001b[0;34m,\u001b[0m \u001b[0mepsilon\u001b[0m\u001b[0;34m=\u001b[0m\u001b[0mself\u001b[0m\u001b[0;34m.\u001b[0m\u001b[0mepsilon\u001b[0m\u001b[0;34m,\u001b[0m\u001b[0;34m\u001b[0m\u001b[0m\n\u001b[0;32m--> 254\u001b[0;31m                 max_iter=self.max_iter, random_seed=random_seed)\n\u001b[0m\u001b[1;32m    255\u001b[0m \u001b[0;34m\u001b[0m\u001b[0m\n\u001b[1;32m    256\u001b[0m         \u001b[0mself\u001b[0m\u001b[0;34m.\u001b[0m\u001b[0m_warn_from_fit_status\u001b[0m\u001b[0;34m(\u001b[0m\u001b[0;34m)\u001b[0m\u001b[0;34m\u001b[0m\u001b[0m\n",
      "\u001b[0;31mKeyboardInterrupt\u001b[0m: "
     ]
    }
   ],
   "source": [
    "for power in range (-5, 10):\n",
    "    for deg in range(1, 10):\n",
    "        poly_test1 = svm.SVC(kernel='poly', C=2**power, degree=deg, probability=False, class_weight=None).fit(x_train, y_train)\n",
    "        poly_test_pred = poly_test1.predict(x_test)\n",
    "        res_poly_test = Result(poly_test_pred, y_test.values, 1)\n",
    "        print('Prob: False ClassW: None Power: 2**' + str(power) + ' Degree: ' + str(deg))\n",
    "        res_poly_test.display_totals()\n",
    "        \n",
    "        poly_test2 = svm.SVC(kernel='poly', C=2**power, degree=deg, probability=False, class_weight='balanced').fit(x_train, y_train)\n",
    "        poly_test_pred = poly_test2.predict(x_test)\n",
    "        res_poly_test = Result(poly_test_pred, y_test.values, 1)\n",
    "        print('Prob: False ClassW: balanced Power: 2**' + str(power) + ' Degree: ' + str(deg))\n",
    "        res_poly_test.display_totals()\n",
    "        \n",
    "        poly_test3 = svm.SVC(kernel='poly', C=2**power, degree=deg, probability=True, class_weight=None).fit(x_train, y_train)\n",
    "        poly_test_pred = poly_test3.predict(x_test)\n",
    "        res_poly_test = Result(poly_test_pred, y_test.values, 1)\n",
    "        print('Prob: True ClassW: None Power: 2**' + str(power) + ' Degree: ' + str(deg))\n",
    "        res_poly_test.display_totals()\n",
    "        \n",
    "        poly_test4 = svm.SVC(kernel='poly', C=2**power, degree=deg, probability=True, class_weight='balanced').fit(x_train, y_train)\n",
    "        poly_test_pred = poly_test4.predict(x_test)\n",
    "        res_poly_test = Result(poly_test_pred, y_test.values, 1)\n",
    "        print('Prob: True ClassW: balanced Power: 2**' + str(power) + ' Degree: ' + str(deg))\n",
    "        res_poly_test.display_totals()"
   ]
  },
  {
   "cell_type": "markdown",
   "metadata": {},
   "source": [
    "I am hoping a 1 degree polynomial line can beat a linear regression which is the best result so far. I am going to run 1 and 2 degree just to make sure and use both balanced and None for class weight. I will run C's through 19 again.\n",
    "\n"
   ]
  },
  {
   "cell_type": "code",
   "execution_count": null,
   "metadata": {},
   "outputs": [],
   "source": [
    "for power in range (5, 20):\n",
    "    for deg in range(1, 3):\n",
    "        poly_test1 = svm.SVC(kernel='poly', C=2**power, degree=deg, class_weight=None).fit(x_train, y_train)\n",
    "        poly_test_pred = poly_test1.predict(x_test)\n",
    "        res_poly_test = Result(poly_test_pred, y_test.values, 1)\n",
    "        print('ClassW: None Power: 2**' + str(power) + ' Degree: ' + str(deg))\n",
    "        res_poly_test.display_totals()\n",
    "        \n",
    "        poly_test2 = svm.SVC(kernel='poly', C=2**power, degree=deg, class_weight='balanced').fit(x_train, y_train)\n",
    "        poly_test_pred = poly_test2.predict(x_test)\n",
    "        res_poly_test = Result(poly_test_pred, y_test.values, 1)\n",
    "        print('ClassW: balanced Power: 2**' + str(power) + ' Degree: ' + str(deg))\n",
    "        res_poly_test.display_totals()"
   ]
  },
  {
   "cell_type": "markdown",
   "metadata": {},
   "source": [
    "The lowest total is around C 2^15 degree 2. For fun I am going to add 100 and subtract 100 from 2^15. \n",
    "\n",
    "+100 1.513 \n",
    "-100 1.514\n",
    "\n",
    "Seems lucky that in a range between 16000 and 64000 2^15 was really close to the actual minimum. "
   ]
  },
  {
   "cell_type": "code",
   "execution_count": null,
   "metadata": {},
   "outputs": [],
   "source": [
    "poly1_p15d2 = svm.SVC(kernel='poly', C=2**15, degree=2, class_weight=None).fit(x_train, y_train)\n",
    "poly1_p15d2_pred=poly1_p15d2.predict(x_test)\n",
    "res1_polyp15d2 = Result(poly1_p15d2_pred, y_test.values, 1)\n",
    "res1_polyp15d2.display_totals()\n",
    "plt.plot(y_test.values, res1_polyp15d2.list_variances, 'o')\n"
   ]
  },
  {
   "cell_type": "code",
   "execution_count": null,
   "metadata": {},
   "outputs": [],
   "source": [
    "res1_polyp15d2.get_confidence_interval(83)"
   ]
  },
  {
   "cell_type": "code",
   "execution_count": null,
   "metadata": {},
   "outputs": [],
   "source": [
    "poly1_p15d2 = svm.SVC(kernel='poly', C=2**15-100, degree=2, class_weight=None).fit(x_train, y_train)\n",
    "poly1_p15d2_pred=poly1_p15d2.predict(x_test)\n",
    "res1_polyp15d2 = Result(poly1_p15d2_pred, y_test.values, 1)\n",
    "res1_polyp15d2.display_totals\n",
    "plt.plot(y_test.values, res1_polyp15d2.list_variances, 'o')"
   ]
  },
  {
   "cell_type": "markdown",
   "metadata": {},
   "source": []
  },
  {
   "cell_type": "markdown",
   "metadata": {},
   "source": [
    "#### I accidentally printed out the class weight 'balanced' answer and though it's variance is higher there is something to not about the variances. They don't slope down to the right indicating everything is being pulled to the center, particularly at the older ages. \n",
    "\n",
    "#### The problem it seems to have is that it has a tendancy to predict things in the middle ages too high. It is also randomly or probably not randomly the best performing balanced result.\n",
    "\n",
    "#### This should be exploitable. I don't know how. But he bottom kernel found a way to predict the ages of the oldest abalone fairly effectively. \n",
    "\n",
    "#### This is important because if there was money on the line and you had a week to dig into this you would look at this kernel. It did have a tendancy to predict high values on the middle ages and there are a few squirly's in the graph. "
   ]
  },
  {
   "cell_type": "code",
   "execution_count": null,
   "metadata": {},
   "outputs": [],
   "source": [
    "poly2_p15d2 = svm.SVC(kernel='poly', C=2**15, degree=2, class_weight='balanced').fit(x_train, y_train)\n",
    "poly2_p15d2_pred=poly2_p15d2.predict(x_test)\n",
    "res2_polyp15d2 = Result(poly2_p15d2_pred, y_test.values, 1)\n",
    "res2_polyp15d2.display_totals()\n",
    "plt.plot(y_test.values, res2_polyp15d2.list_variances, 'o')"
   ]
  },
  {
   "cell_type": "markdown",
   "metadata": {},
   "source": [
    "## Gradient Boosting Regression"
   ]
  },
  {
   "cell_type": "code",
   "execution_count": null,
   "metadata": {},
   "outputs": [],
   "source": [
    "from funkys_funcs import append_tts\n",
    "\n",
    "t_sets = []\n",
    "TEST_DESC = 0\n",
    "X_TRAIN = 1\n",
    "Y_TRAIN = 2\n",
    "X_TEST = 3\n",
    "Y_TEST = 4\n",
    "\n",
    "a,b,c,d = train_test_split(data1, data_y, test_size=.2, random_state=17)\n",
    "D1 = append_tts(a,b,c,d, 'L2 Norm Clip:    ', t_sets)\n",
    "\n",
    "a,b,c,d = train_test_split(data2, data_y, test_size=.2, random_state=19)\n",
    "D2 = append_tts(a,b,c,d, 'L2 Norm Clip:    ', t_sets)\n",
    "\n",
    "a,b,c,d = train_test_split(datax, data_y, test_size=.2, random_state=23)\n",
    "DX = append_tts(a,b,c,d, 'L2 Norm Clip:    ', t_sets)"
   ]
  },
  {
   "cell_type": "code",
   "execution_count": null,
   "metadata": {},
   "outputs": [],
   "source": [
    "grb = GradientBoostingRegressor(n_estimators=100, learning_rate=0.1, max_depth=1, random_state=0, loss='ls')\n",
    "y_pred = grb.fit(t_sets[D1][X_TRAIN], t_sets[D1][Y_TRAIN]).predict(t_sets[D1][X_TEST])\n",
    "\n",
    "res = Result(y_pred, t_sets[D1][Y_TEST].values, .1)\n",
    "\n",
    "res.display_totals()"
   ]
  },
  {
   "cell_type": "code",
   "execution_count": null,
   "metadata": {},
   "outputs": [],
   "source": [
    "plt.plot(t_sets[D1][Y_TEST], res.list_variances, 'o')"
   ]
  },
  {
   "cell_type": "markdown",
   "metadata": {},
   "source": [
    "#### The gradient boosting was really bad at guessing the ages of older abalone which is the source of most of the error.  On the other hand the first try came out at MAE 1.75 which is much better than almost everything tried so far. Now that I know how to apply these in a few hours I could run a few hundred variations of this regressor and probably get something as good or better than SVM. "
   ]
  }
 ],
 "metadata": {
  "kernelspec": {
   "display_name": "Python 3",
   "language": "python",
   "name": "python3"
  },
  "language_info": {
   "codemirror_mode": {
    "name": "ipython",
    "version": 3
   },
   "file_extension": ".py",
   "mimetype": "text/x-python",
   "name": "python",
   "nbconvert_exporter": "python",
   "pygments_lexer": "ipython3",
   "version": "3.7.0"
  }
 },
 "nbformat": 4,
 "nbformat_minor": 2
}
