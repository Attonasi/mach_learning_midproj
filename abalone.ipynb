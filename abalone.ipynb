{
 "cells": [
  {
   "cell_type": "markdown",
   "metadata": {},
   "source": [
    "Enter           enter edit mode                 Shift-­Enter     run cell, select below\n",
    "Ctrl-Enter      run cell                        Alt-Enter       run cell, insert below\n",
    "Y               to code                         M               to markdown\n",
    "R               to raw                          1               to heading 1\n",
    "2,3,4,5,6       to heading 2,3,4,5,6            Up/K            select cell above\n",
    "Down/J          select cell below               A/B             insert cell above/­below\n",
    "X               cut selected cell               C               copy selected cell\n",
    "Shift-V         paste cell above                V               paste cell below\n",
    "Z               undo last cell deletion         D,D             delete selected cell\n",
    "Shift-M         merge cell below                Ctrl-S          Save and Checkpoint\n",
    "L               toggle line numbers             O               toggle output\n",
    "Shift-O         toggle output scrolling         Esc             close pager\n",
    "H               show keyboard shortcut help     I,I             interrupt kernel\n",
    "0,0             restart kernel                  Space           scroll down\n",
    "Shift-­Space     scroll up                       Shift           ignore\n",
    "\n",
    "Edit Mode (press Enter to enable)\n",
    "Tab                 code completion or indent   Shift-Tab           tooltip\n",
    "Ctrl-]              indent                      Ctrl-[              dedent\n",
    "Ctrl-A              select all                  Ctrl-Z              undo\n",
    "Ctrl-S­hift-Z        redo                        Ctrl-Y              redo\n",
    "Ctrl-Home           go to cell start            Ctrl-Up             go to cell start\n",
    "Ctrl-End            go to cell end              Ctrl-Down           go to cell end\n",
    "Ctrl-Left           go one word left            Ctrl-Right          go one word right\n",
    "Ctrl-B­ack­space      delete word before          Ctrl-D­elete         delete word after\n",
    "Esc                 command mode                Ctrl-M              command mode\n",
    "Shift-­Enter         run cell, select below      Ctrl-Enter          run cell\n",
    "Alt-Enter           run cell, insert below      Ctrl-S­hif­t-S­ubtract split cell\n",
    "Ctrl-S­hift--        split cell                  Ctrl-S              Save and Checkpoint\n",
    "Ctrl-/              toggle comment on current or selected lines"
   ]
  },
  {
   "cell_type": "code",
   "execution_count": 82,
   "metadata": {},
   "outputs": [
    {
     "name": "stderr",
     "output_type": "stream",
     "text": [
      "/home/collin/anaconda3/lib/python3.7/site-packages/sklearn/ensemble/weight_boosting.py:29: DeprecationWarning: numpy.core.umath_tests is an internal NumPy module and should not be imported. It will be removed in a future NumPy release.\n",
      "  from numpy.core.umath_tests import inner1d\n"
     ]
    }
   ],
   "source": [
    "import numpy as np\n",
    "import matplotlib\n",
    "import matplotlib.pyplot as plt\n",
    "import pandas as pd\n",
    "from sklearn.preprocessing import OneHotEncoder\n",
    "from sklearn import linear_model\n",
    "from sklearn.cross_validation import train_test_split\n",
    "from sklearn.model_selection import cross_val_score\n",
    "from sklearn import metrics\n",
    "from sklearn.model_selection import ShuffleSplit\n",
    "from sklearn import svm\n",
    "from sklearn.preprocessing import StandardScaler\n",
    "from sklearn.metrics import accuracy_score\n",
    "from sklearn.ensemble import GradientBoostingClassifier\n",
    "from sklearn.ensemble import GradientBoostingRegressor\n",
    "\n",
    "path = '/home/collin/machine_learning/CS6140ML18Fall-smith.colin/midterm/data/'\n",
    "data_file = 'data_abalone.txt' "
   ]
  },
  {
   "cell_type": "code",
   "execution_count": 50,
   "metadata": {},
   "outputs": [],
   "source": [
    "data = pd.read_csv(path+data_file, delimiter=',', names=['Sex', 'Length', 'Diameter', 'Height', 'Whole Wt', 'Shucked Wt', 'Viscera Wt', 'Shell Wt', 'Rings'])"
   ]
  },
  {
   "cell_type": "markdown",
   "metadata": {},
   "source": [
    "This is a very clean dataset. Not much to add or manipulate. \n",
    "\n",
    "I am going to try two datasets. One with all of the groups and one with [Length, Shucked Wt, Viscera Wt] removed. Using the correlation table below the weights are all cross correlative though the Shell Weight is actually not that bad so I am leaving it in. Length and Diameter however approach 1. So I am dropping one of those in the second set.\n",
    "\n",
    "I also need to one hot the Sex column because it is not useful as an object and drop that column afterwords. "
   ]
  },
  {
   "cell_type": "code",
   "execution_count": 11,
   "metadata": {
    "scrolled": true
   },
   "outputs": [
    {
     "data": {
      "text/html": [
       "<div>\n",
       "<style scoped>\n",
       "    .dataframe tbody tr th:only-of-type {\n",
       "        vertical-align: middle;\n",
       "    }\n",
       "\n",
       "    .dataframe tbody tr th {\n",
       "        vertical-align: top;\n",
       "    }\n",
       "\n",
       "    .dataframe thead th {\n",
       "        text-align: right;\n",
       "    }\n",
       "</style>\n",
       "<table border=\"1\" class=\"dataframe\">\n",
       "  <thead>\n",
       "    <tr style=\"text-align: right;\">\n",
       "      <th></th>\n",
       "      <th>Length</th>\n",
       "      <th>Diameter</th>\n",
       "      <th>Height</th>\n",
       "      <th>Whole Wt</th>\n",
       "      <th>Shucked Wt</th>\n",
       "      <th>Viscera Wt</th>\n",
       "      <th>Shell Wt</th>\n",
       "      <th>Rings</th>\n",
       "    </tr>\n",
       "  </thead>\n",
       "  <tbody>\n",
       "    <tr>\n",
       "      <th>Length</th>\n",
       "      <td>1.000000</td>\n",
       "      <td>0.986812</td>\n",
       "      <td>0.827554</td>\n",
       "      <td>0.925261</td>\n",
       "      <td>0.897914</td>\n",
       "      <td>0.903018</td>\n",
       "      <td>0.897706</td>\n",
       "      <td>0.556720</td>\n",
       "    </tr>\n",
       "    <tr>\n",
       "      <th>Diameter</th>\n",
       "      <td>0.986812</td>\n",
       "      <td>1.000000</td>\n",
       "      <td>0.833684</td>\n",
       "      <td>0.925452</td>\n",
       "      <td>0.893162</td>\n",
       "      <td>0.899724</td>\n",
       "      <td>0.905330</td>\n",
       "      <td>0.574660</td>\n",
       "    </tr>\n",
       "    <tr>\n",
       "      <th>Height</th>\n",
       "      <td>0.827554</td>\n",
       "      <td>0.833684</td>\n",
       "      <td>1.000000</td>\n",
       "      <td>0.819221</td>\n",
       "      <td>0.774972</td>\n",
       "      <td>0.798319</td>\n",
       "      <td>0.817338</td>\n",
       "      <td>0.557467</td>\n",
       "    </tr>\n",
       "    <tr>\n",
       "      <th>Whole Wt</th>\n",
       "      <td>0.925261</td>\n",
       "      <td>0.925452</td>\n",
       "      <td>0.819221</td>\n",
       "      <td>1.000000</td>\n",
       "      <td>0.969405</td>\n",
       "      <td>0.966375</td>\n",
       "      <td>0.955355</td>\n",
       "      <td>0.540390</td>\n",
       "    </tr>\n",
       "    <tr>\n",
       "      <th>Shucked Wt</th>\n",
       "      <td>0.897914</td>\n",
       "      <td>0.893162</td>\n",
       "      <td>0.774972</td>\n",
       "      <td>0.969405</td>\n",
       "      <td>1.000000</td>\n",
       "      <td>0.931961</td>\n",
       "      <td>0.882617</td>\n",
       "      <td>0.420884</td>\n",
       "    </tr>\n",
       "    <tr>\n",
       "      <th>Viscera Wt</th>\n",
       "      <td>0.903018</td>\n",
       "      <td>0.899724</td>\n",
       "      <td>0.798319</td>\n",
       "      <td>0.966375</td>\n",
       "      <td>0.931961</td>\n",
       "      <td>1.000000</td>\n",
       "      <td>0.907656</td>\n",
       "      <td>0.503819</td>\n",
       "    </tr>\n",
       "    <tr>\n",
       "      <th>Shell Wt</th>\n",
       "      <td>0.897706</td>\n",
       "      <td>0.905330</td>\n",
       "      <td>0.817338</td>\n",
       "      <td>0.955355</td>\n",
       "      <td>0.882617</td>\n",
       "      <td>0.907656</td>\n",
       "      <td>1.000000</td>\n",
       "      <td>0.627574</td>\n",
       "    </tr>\n",
       "    <tr>\n",
       "      <th>Rings</th>\n",
       "      <td>0.556720</td>\n",
       "      <td>0.574660</td>\n",
       "      <td>0.557467</td>\n",
       "      <td>0.540390</td>\n",
       "      <td>0.420884</td>\n",
       "      <td>0.503819</td>\n",
       "      <td>0.627574</td>\n",
       "      <td>1.000000</td>\n",
       "    </tr>\n",
       "  </tbody>\n",
       "</table>\n",
       "</div>"
      ],
      "text/plain": [
       "              Length  Diameter    Height  Whole Wt  Shucked Wt  Viscera Wt  \\\n",
       "Length      1.000000  0.986812  0.827554  0.925261    0.897914    0.903018   \n",
       "Diameter    0.986812  1.000000  0.833684  0.925452    0.893162    0.899724   \n",
       "Height      0.827554  0.833684  1.000000  0.819221    0.774972    0.798319   \n",
       "Whole Wt    0.925261  0.925452  0.819221  1.000000    0.969405    0.966375   \n",
       "Shucked Wt  0.897914  0.893162  0.774972  0.969405    1.000000    0.931961   \n",
       "Viscera Wt  0.903018  0.899724  0.798319  0.966375    0.931961    1.000000   \n",
       "Shell Wt    0.897706  0.905330  0.817338  0.955355    0.882617    0.907656   \n",
       "Rings       0.556720  0.574660  0.557467  0.540390    0.420884    0.503819   \n",
       "\n",
       "            Shell Wt     Rings  \n",
       "Length      0.897706  0.556720  \n",
       "Diameter    0.905330  0.574660  \n",
       "Height      0.817338  0.557467  \n",
       "Whole Wt    0.955355  0.540390  \n",
       "Shucked Wt  0.882617  0.420884  \n",
       "Viscera Wt  0.907656  0.503819  \n",
       "Shell Wt    1.000000  0.627574  \n",
       "Rings       0.627574  1.000000  "
      ]
     },
     "execution_count": 11,
     "metadata": {},
     "output_type": "execute_result"
    }
   ],
   "source": [
    "data.corr()"
   ]
  },
  {
   "cell_type": "code",
   "execution_count": 12,
   "metadata": {},
   "outputs": [
    {
     "name": "stdout",
     "output_type": "stream",
     "text": [
      "<class 'pandas.core.frame.DataFrame'>\n",
      "RangeIndex: 4177 entries, 0 to 4176\n",
      "Data columns (total 9 columns):\n",
      "Sex           4177 non-null object\n",
      "Length        4177 non-null float64\n",
      "Diameter      4177 non-null float64\n",
      "Height        4177 non-null float64\n",
      "Whole Wt      4177 non-null float64\n",
      "Shucked Wt    4177 non-null float64\n",
      "Viscera Wt    4177 non-null float64\n",
      "Shell Wt      4177 non-null float64\n",
      "Rings         4177 non-null int64\n",
      "dtypes: float64(7), int64(1), object(1)\n",
      "memory usage: 293.8+ KB\n"
     ]
    }
   ],
   "source": [
    "data.info()"
   ]
  },
  {
   "cell_type": "code",
   "execution_count": 51,
   "metadata": {},
   "outputs": [],
   "source": [
    "# enc = OneHotEncoder(handle_unknown = 'ignore')\n",
    "data_dummies = pd.get_dummies(data['Sex'])\n",
    "data = pd.concat([data, data_dummies], axis=1)\n",
    "data = data.drop(columns=['Sex'])\n"
   ]
  },
  {
   "cell_type": "markdown",
   "metadata": {},
   "source": [
    "I commented these scatter plots out but they gave some insight into theeir relation to the Rings column."
   ]
  },
  {
   "cell_type": "code",
   "execution_count": 52,
   "metadata": {},
   "outputs": [],
   "source": [
    "# names=['Length', 'Diameter', 'Height', 'Whole Wt', 'Shucked Wt', 'Viscera Wt', 'Shell Wt', 'Rings']\n",
    "# for name in names:\n",
    "#     data.plot(kind='scatter', x=name, y='Rings')"
   ]
  },
  {
   "cell_type": "code",
   "execution_count": 53,
   "metadata": {},
   "outputs": [],
   "source": [
    "reg = linear_model.LinearRegression()\n",
    "log = linear_model.LogisticRegression()"
   ]
  },
  {
   "cell_type": "markdown",
   "metadata": {},
   "source": [
    "As I continue to look up things everyone already knows I got to StandardScalar. And normalizer. "
   ]
  },
  {
   "cell_type": "code",
   "execution_count": 76,
   "metadata": {},
   "outputs": [],
   "source": [
    "data_y = data['Rings']\n",
    "\n",
    "scaler = StandardScaler()\n",
    "cols = data.columns.tolist()\n",
    "dataxX = pd.DataFrame(scaler.fit_transform(data))\n",
    "dataxX.columns = cols\n",
    "\n",
    "data1 = data.drop(columns=['Rings'])\n",
    "data2 = data.drop(columns=['Shucked Wt', 'Viscera Wt', 'Length', 'Rings'])\n",
    "datax = dataxX.drop(columns=['Rings'])"
   ]
  },
  {
   "cell_type": "code",
   "execution_count": 55,
   "metadata": {
    "collapsed": true
   },
   "outputs": [
    {
     "data": {
      "text/plain": [
       "[0,\n",
       " 1,\n",
       " 1,\n",
       " 15,\n",
       " 57,\n",
       " 115,\n",
       " 259,\n",
       " 391,\n",
       " 568,\n",
       " 689,\n",
       " 634,\n",
       " 487,\n",
       " 267,\n",
       " 203,\n",
       " 126,\n",
       " 103,\n",
       " 67,\n",
       " 58,\n",
       " 42,\n",
       " 32,\n",
       " 26,\n",
       " 14,\n",
       " 6,\n",
       " 9,\n",
       " 2,\n",
       " 1,\n",
       " 1,\n",
       " 2,\n",
       " 0,\n",
       " 1]"
      ]
     },
     "execution_count": 55,
     "metadata": {},
     "output_type": "execute_result"
    }
   ],
   "source": [
    "hist_y = []\n",
    "for i in range (30):\n",
    "    hist_y.append(0)\n",
    "for i in range (len(data_y)):\n",
    "    hist_y[data_y[i]] += 1\n",
    "    \n",
    "hist_y"
   ]
  },
  {
   "cell_type": "markdown",
   "metadata": {},
   "source": [
    "Given the above array we have 689, 634, 568, 487, 391 as the top 5 years.  We can get 2769 +/-2 years by guessing 9 and including 10, 8, 11, 7 and get 66%.\n",
    "\n",
    "We will set that for baseline to judge usefulness."
   ]
  },
  {
   "cell_type": "code",
   "execution_count": 56,
   "metadata": {},
   "outputs": [
    {
     "data": {
      "text/plain": [
       "0.6629159683983721"
      ]
     },
     "execution_count": 56,
     "metadata": {},
     "output_type": "execute_result"
    }
   ],
   "source": [
    "(689+634+568+487+391) / 4177"
   ]
  },
  {
   "cell_type": "code",
   "execution_count": 57,
   "metadata": {},
   "outputs": [],
   "source": [
    "x_train, x_test, y_train, y_test = train_test_split(data1, data_y, test_size=0.2, random_state=4)\n",
    "x2_train, x2_test, y2_train, y2_test = train_test_split(data2, data_y, test_size=0.2, random_state=4)"
   ]
  },
  {
   "cell_type": "markdown",
   "metadata": {},
   "source": [
    "At this point the data is set up. The answer column was dropped. There are 2 data sets one with all of the columns and another with three columns that had strong cross correlation dropped. I have divided them into two test/training sets.\n",
    "\n",
    "I have a linear regression model and a logistic regression model set up. Time to fit and predict!"
   ]
  },
  {
   "cell_type": "code",
   "execution_count": 58,
   "metadata": {},
   "outputs": [],
   "source": [
    "reg.fit(x_train, y_train)\n",
    "y_pred = reg.predict(x_test)\n",
    "\n",
    "reg.fit(x2_train, y2_train)\n",
    "y2_pred = reg.predict(x2_test)\n",
    "\n",
    "log.fit(x_train, y_train)\n",
    "log_y_pred = log.predict(x_test)\n",
    "\n",
    "log.fit(x2_train, y2_train)\n",
    "log2_y_pred = log.predict(x2_test)"
   ]
  },
  {
   "cell_type": "markdown",
   "metadata": {},
   "source": [
    "I wrote a class called Result. I posted the code on Piazza and it is in a .py file right next to this notebook. I am importing it here and created a Result book for each of the regression predictions here. "
   ]
  },
  {
   "cell_type": "code",
   "execution_count": 59,
   "metadata": {},
   "outputs": [],
   "source": [
    "from result_lib import Result\n",
    "\n",
    "lin_one_result = Result(y_pred, y_test.values, 1)\n",
    "lin_two_result = Result(y2_pred, y2_test.values, 1)\n",
    "\n",
    "log_one_result = Result(log_y_pred, y_test.values, 1)\n",
    "log_two_result = Result(log2_y_pred, y2_test.values, 1)\n"
   ]
  },
  {
   "cell_type": "markdown",
   "metadata": {},
   "source": [
    "The first tool the class I wrote gave me is a way to see basic numbers. What is the range, the number that are within that range of the predicted value, and most importantly the mean variance, i.e. how far off the guess was."
   ]
  },
  {
   "cell_type": "code",
   "execution_count": 60,
   "metadata": {},
   "outputs": [
    {
     "name": "stdout",
     "output_type": "stream",
     "text": [
      "Range: 1\n",
      "Correct: 349\n",
      "Mean Variance: 1.6071597772168658\n"
     ]
    }
   ],
   "source": [
    "lin_two_result.display_totals()"
   ]
  },
  {
   "cell_type": "code",
   "execution_count": 61,
   "metadata": {},
   "outputs": [
    {
     "name": "stdout",
     "output_type": "stream",
     "text": [
      "Range: 1\n",
      "Correct: 371\n",
      "Mean Variance: 1.5688643029663671\n"
     ]
    }
   ],
   "source": [
    "lin_one_result.display_totals()"
   ]
  },
  {
   "cell_type": "code",
   "execution_count": 62,
   "metadata": {},
   "outputs": [
    {
     "name": "stdout",
     "output_type": "stream",
     "text": [
      "Range: 1\n",
      "Correct: 517\n",
      "Mean Variance: 1.686602870813397\n"
     ]
    }
   ],
   "source": [
    "log_one_result.display_totals()"
   ]
  },
  {
   "cell_type": "code",
   "execution_count": 63,
   "metadata": {},
   "outputs": [
    {
     "name": "stdout",
     "output_type": "stream",
     "text": [
      "Range: 1\n",
      "Correct: 516\n",
      "Mean Variance: 1.7141148325358853\n"
     ]
    }
   ],
   "source": [
    "log_two_result.display_totals()"
   ]
  },
  {
   "cell_type": "markdown",
   "metadata": {},
   "source": [
    "While that will eventually be useful this next tool is at the moment the best one for taking next steps. I make a list of the natural values of the variances I plot on the X and I can plot them against the true values which I put on the Y. i.e. For each true value I can show how far off and in which direction the regression erred. \n",
    "\n",
    "After taking one look at the graphs the next step is not so obvious. "
   ]
  },
  {
   "cell_type": "code",
   "execution_count": 64,
   "metadata": {},
   "outputs": [
    {
     "data": {
      "text/plain": [
       "[<matplotlib.lines.Line2D at 0x7f98ceaf6908>]"
      ]
     },
     "execution_count": 64,
     "metadata": {},
     "output_type": "execute_result"
    },
    {
     "data": {
      "image/png": "[encoded data removed]",
      "text/plain": [
       "<Figure size 432x288 with 1 Axes>"
      ]
     },
     "metadata": {
      "needs_background": "light"
     },
     "output_type": "display_data"
    }
   ],
   "source": [
    "plt.plot(y2_test.values, lin_two_result.list_variances, 'o')"
   ]
  },
  {
   "cell_type": "code",
   "execution_count": 65,
   "metadata": {},
   "outputs": [
    {
     "data": {
      "text/plain": [
       "[<matplotlib.lines.Line2D at 0x7f98cea48e48>]"
      ]
     },
     "execution_count": 65,
     "metadata": {},
     "output_type": "execute_result"
    },
    {
     "data": {
      "image/png": "[encoded data removed]",
      "text/plain": [
       "<Figure size 432x288 with 1 Axes>"
      ]
     },
     "metadata": {
      "needs_background": "light"
     },
     "output_type": "display_data"
    }
   ],
   "source": [
    "plt.plot(y_test.values, lin_one_result.list_variances, 'o')"
   ]
  },
  {
   "cell_type": "code",
   "execution_count": 66,
   "metadata": {},
   "outputs": [
    {
     "data": {
      "text/plain": [
       "[<matplotlib.lines.Line2D at 0x7f98cea28a58>]"
      ]
     },
     "execution_count": 66,
     "metadata": {},
     "output_type": "execute_result"
    },
    {
     "data": {
      "image/png": "[encoded data removed]",
      "text/plain": [
       "<Figure size 432x288 with 1 Axes>"
      ]
     },
     "metadata": {
      "needs_background": "light"
     },
     "output_type": "display_data"
    }
   ],
   "source": [
    "plt.plot(y_test.values, log_one_result.list_variances, 'o')"
   ]
  },
  {
   "cell_type": "code",
   "execution_count": 67,
   "metadata": {},
   "outputs": [
    {
     "data": {
      "text/plain": [
       "[<matplotlib.lines.Line2D at 0x7f98ce988240>]"
      ]
     },
     "execution_count": 67,
     "metadata": {},
     "output_type": "execute_result"
    },
    {
     "data": {
      "image/png": "[encoded data removed]",
      "text/plain": [
       "<Figure size 432x288 with 1 Axes>"
      ]
     },
     "metadata": {
      "needs_background": "light"
     },
     "output_type": "display_data"
    }
   ],
   "source": [
    "plt.plot(y_test.values, log_two_result.list_variances, 'o')"
   ]
  },
  {
   "cell_type": "markdown",
   "metadata": {},
   "source": []
  },
  {
   "cell_type": "code",
   "execution_count": 68,
   "metadata": {},
   "outputs": [
    {
     "data": {
      "text/plain": [
       "[<matplotlib.lines.Line2D at 0x7f98ce961630>]"
      ]
     },
     "execution_count": 68,
     "metadata": {},
     "output_type": "execute_result"
    },
    {
     "data": {
      "image/png": "[encoded data removed]",
      "text/plain": [
       "<Figure size 432x288 with 1 Axes>"
      ]
     },
     "metadata": {
      "needs_background": "light"
     },
     "output_type": "display_data"
    }
   ],
   "source": [
    "plt.plot(log2_y_pred, log_two_result.list_variances, 'o')"
   ]
  },
  {
   "cell_type": "code",
   "execution_count": 69,
   "metadata": {},
   "outputs": [
    {
     "data": {
      "text/plain": [
       "[<matplotlib.lines.Line2D at 0x7f98ce8c30b8>]"
      ]
     },
     "execution_count": 69,
     "metadata": {},
     "output_type": "execute_result"
    },
    {
     "data": {
      "image/png": "[encoded data removed]",
      "text/plain": [
       "<Figure size 432x288 with 1 Axes>"
      ]
     },
     "metadata": {
      "needs_background": "light"
     },
     "output_type": "display_data"
    }
   ],
   "source": [
    "plt.plot(y_test.values, log2_y_pred, 'o')"
   ]
  },
  {
   "cell_type": "code",
   "execution_count": 70,
   "metadata": {},
   "outputs": [
    {
     "data": {
      "text/plain": [
       "[<matplotlib.lines.Line2D at 0x7f98ce8997b8>]"
      ]
     },
     "execution_count": 70,
     "metadata": {},
     "output_type": "execute_result"
    },
    {
     "data": {
      "image/png": "[encoded data removed]",
      "text/plain": [
       "<Figure size 432x288 with 1 Axes>"
      ]
     },
     "metadata": {
      "needs_background": "light"
     },
     "output_type": "display_data"
    }
   ],
   "source": [
    "plt.plot(y_test.values, y_pred, 'o')"
   ]
  },
  {
   "cell_type": "markdown",
   "metadata": {},
   "source": [
    "After looking at the graphs and judging by performance here is the following observation:\n",
    "\n",
    "Abalone are all very much the same size. \n",
    "\n",
    "Deep I know.\n",
    "\n",
    "The graph just above this is a plot of the predicted values versus the actual values for the second linear regression. At the age of 5 we predict a little low on age. At the age of 7-12 we are very close. After that we predict they are 10 or 11. I think they just stop growing. Looking at the given data everything has to do with size. \n",
    "\n",
    "Below I use the get confidence tool and I see linear one drops us from +/-2 to +/-1.67 to get 66%. They both get to 73% at +/-2 so it is slightly better than noise.\n",
    "\n",
    "Both log regressions get 80% at +/-2 rather than 66%\n",
    "\n",
    "Judging these Linear Regression using the entire dataset seems to perform the best. \n",
    "\n",
    "Below I use the result class to get confidence intervals near +/-2. "
   ]
  },
  {
   "cell_type": "code",
   "execution_count": 34,
   "metadata": {},
   "outputs": [
    {
     "data": {
      "text/plain": [
       "1.9982497618732893"
      ]
     },
     "execution_count": 34,
     "metadata": {},
     "output_type": "execute_result"
    }
   ],
   "source": [
    "lin_two_result.get_confidence_interval(73)"
   ]
  },
  {
   "cell_type": "code",
   "execution_count": 35,
   "metadata": {},
   "outputs": [
    {
     "data": {
      "text/plain": [
       "1.9383412434271712"
      ]
     },
     "execution_count": 35,
     "metadata": {},
     "output_type": "execute_result"
    }
   ],
   "source": [
    "lin_one_result.get_confidence_interval(73)"
   ]
  },
  {
   "cell_type": "code",
   "execution_count": 36,
   "metadata": {},
   "outputs": [
    {
     "data": {
      "text/plain": [
       "2"
      ]
     },
     "execution_count": 36,
     "metadata": {},
     "output_type": "execute_result"
    }
   ],
   "source": [
    "log_two_result.get_confidence_interval(80)"
   ]
  },
  {
   "cell_type": "code",
   "execution_count": 37,
   "metadata": {},
   "outputs": [
    {
     "data": {
      "text/plain": [
       "2"
      ]
     },
     "execution_count": 37,
     "metadata": {},
     "output_type": "execute_result"
    }
   ],
   "source": [
    "log_one_result.get_confidence_interval(80)"
   ]
  },
  {
   "cell_type": "code",
   "execution_count": 38,
   "metadata": {},
   "outputs": [],
   "source": [
    "cv_lin2 = cross_val_score(reg, data2, data_y, cv=5)\n",
    "cv_lin1 = cross_val_score(reg, data1, data_y, cv=5)\n",
    "# cv_log2 = cross_val_score(log, data2, data_y, cv=5)\n",
    "# cv_log1 = cross_val_score(log, data1, data_y, cv=5)"
   ]
  },
  {
   "cell_type": "markdown",
   "metadata": {},
   "source": [
    "This section is going to be about implementing Support Vector Machines. \n",
    "\n",
    "Basic first and using the one-to-one .SCV classifier."
   ]
  },
  {
   "cell_type": "code",
   "execution_count": 39,
   "metadata": {},
   "outputs": [],
   "source": [
    "svm_lin1 = svm.SVC(kernel='linear', C=1).fit(x_train, y_train)\n",
    "svm_lin2 = svm.SVC(kernel='linear', C=1).fit(x2_train, y2_train)"
   ]
  },
  {
   "cell_type": "code",
   "execution_count": 40,
   "metadata": {},
   "outputs": [
    {
     "data": {
      "text/plain": [
       "0.26435406698564595"
      ]
     },
     "execution_count": 40,
     "metadata": {},
     "output_type": "execute_result"
    }
   ],
   "source": [
    "svm_lin1.score(x_test, y_test)"
   ]
  },
  {
   "cell_type": "code",
   "execution_count": 41,
   "metadata": {},
   "outputs": [
    {
     "data": {
      "text/plain": [
       "0.25478468899521534"
      ]
     },
     "execution_count": 41,
     "metadata": {},
     "output_type": "execute_result"
    }
   ],
   "source": [
    "svm_lin2.score(x2_test, y2_test)"
   ]
  },
  {
   "cell_type": "markdown",
   "metadata": {},
   "source": [
    "This makes no sense. So Result."
   ]
  },
  {
   "cell_type": "code",
   "execution_count": 42,
   "metadata": {},
   "outputs": [],
   "source": [
    "svm_pred1 = svm_lin1.predict(x_test)\n",
    "svm_pred2 = svm_lin2.predict(x2_test)\n",
    "\n",
    "svm1_result = Result(svm_pred1, y_test.values, 1)\n",
    "svm2_result = Result(svm_pred2, y2_test.values, 1)"
   ]
  },
  {
   "cell_type": "code",
   "execution_count": 43,
   "metadata": {},
   "outputs": [
    {
     "name": "stdout",
     "output_type": "stream",
     "text": [
      "Range: 1\n",
      "Correct: 539\n",
      "Mean Variance: 1.604066985645933\n"
     ]
    }
   ],
   "source": [
    "svm1_result.display_totals()"
   ]
  },
  {
   "cell_type": "code",
   "execution_count": 44,
   "metadata": {},
   "outputs": [
    {
     "name": "stdout",
     "output_type": "stream",
     "text": [
      "Range: 1\n",
      "Correct: 540\n",
      "Mean Variance: 1.6602870813397128\n"
     ]
    }
   ],
   "source": [
    "svm2_result.display_totals()"
   ]
  },
  {
   "cell_type": "code",
   "execution_count": 45,
   "metadata": {},
   "outputs": [
    {
     "data": {
      "text/plain": [
       "[<matplotlib.lines.Line2D at 0x7f98ceb86ef0>]"
      ]
     },
     "execution_count": 45,
     "metadata": {},
     "output_type": "execute_result"
    },
    {
     "data": {
      "image/png": "[encoded data removed]",
      "text/plain": [
       "<Figure size 432x288 with 1 Axes>"
      ]
     },
     "metadata": {
      "needs_background": "light"
     },
     "output_type": "display_data"
    }
   ],
   "source": [
    "plt.plot(y_test.values, svm_pred1, 'o')"
   ]
  },
  {
   "cell_type": "code",
   "execution_count": 46,
   "metadata": {},
   "outputs": [
    {
     "data": {
      "text/plain": [
       "[<matplotlib.lines.Line2D at 0x7f98ceb686a0>]"
      ]
     },
     "execution_count": 46,
     "metadata": {},
     "output_type": "execute_result"
    },
    {
     "data": {
      "image/png": "[encoded data removed]",
      "text/plain": [
       "<Figure size 432x288 with 1 Axes>"
      ]
     },
     "metadata": {
      "needs_background": "light"
     },
     "output_type": "display_data"
    }
   ],
   "source": [
    "plt.plot(y_test.values, svm1_result.list_variances, 'o')"
   ]
  },
  {
   "cell_type": "markdown",
   "metadata": {},
   "source": [
    "Same pattern. The predictions guess too high on young specimens and too low on old.\n",
    "\n",
    "Mostly too low on old. \n",
    "\n",
    "There are a lot of SVM options and a variety of ways to format them so I am going to try something a little different. "
   ]
  },
  {
   "cell_type": "code",
   "execution_count": 47,
   "metadata": {},
   "outputs": [
    {
     "name": "stdout",
     "output_type": "stream",
     "text": [
      "Kernal: linear  C: 2**-5\n",
      "Range: 1\n",
      "Correct: 537\n",
      "Mean Variance: 1.6782296650717703\n",
      "Kernal: linear  C: 2**-4\n",
      "Range: 1\n",
      "Correct: 534\n",
      "Mean Variance: 1.6614832535885167\n",
      "Kernal: linear  C: 2**-3\n",
      "Range: 1\n",
      "Correct: 535\n",
      "Mean Variance: 1.6483253588516746\n",
      "Kernal: linear  C: 2**-2\n",
      "Range: 1\n",
      "Correct: 538\n",
      "Mean Variance: 1.624401913875598\n",
      "Kernal: linear  C: 2**-1\n",
      "Range: 1\n",
      "Correct: 539\n",
      "Mean Variance: 1.611244019138756\n",
      "Kernal: linear  C: 2**0\n",
      "Range: 1\n",
      "Correct: 539\n",
      "Mean Variance: 1.604066985645933\n",
      "Kernal: linear  C: 2**1\n",
      "Range: 1\n",
      "Correct: 539\n",
      "Mean Variance: 1.6088516746411483\n",
      "Kernal: linear  C: 2**2\n",
      "Range: 1\n",
      "Correct: 540\n",
      "Mean Variance: 1.605263157894737\n",
      "Kernal: linear  C: 2**3\n",
      "Range: 1\n",
      "Correct: 543\n",
      "Mean Variance: 1.605263157894737\n",
      "Kernal: linear  C: 2**4\n",
      "Range: 1\n",
      "Correct: 545\n",
      "Mean Variance: 1.5921052631578947\n",
      "Kernal: linear  C: 2**5\n",
      "Range: 1\n",
      "Correct: 544\n",
      "Mean Variance: 1.5897129186602872\n",
      "Kernal: linear  C: 2**6\n",
      "Range: 1\n",
      "Correct: 545\n",
      "Mean Variance: 1.5968899521531101\n",
      "Kernal: linear  C: 2**7\n",
      "Range: 1\n",
      "Correct: 544\n",
      "Mean Variance: 1.6016746411483254\n",
      "Kernal: linear  C: 2**8\n",
      "Range: 1\n",
      "Correct: 544\n",
      "Mean Variance: 1.5921052631578947\n",
      "Kernal: linear  C: 2**9\n",
      "Range: 1\n",
      "Correct: 543\n",
      "Mean Variance: 1.5933014354066986\n",
      "Kernal: rbf  C: 2**-5\n",
      "Range: 1\n",
      "Correct: 521\n",
      "Mean Variance: 1.8301435406698565\n",
      "Kernal: rbf  C: 2**-4\n",
      "Range: 1\n",
      "Correct: 535\n",
      "Mean Variance: 1.7129186602870814\n",
      "Kernal: rbf  C: 2**-3\n",
      "Range: 1\n",
      "Correct: 547\n",
      "Mean Variance: 1.687799043062201\n",
      "Kernal: rbf  C: 2**-2\n",
      "Range: 1\n",
      "Correct: 550\n",
      "Mean Variance: 1.6842105263157894\n",
      "Kernal: rbf  C: 2**-1\n",
      "Range: 1\n",
      "Correct: 546\n",
      "Mean Variance: 1.674641148325359\n",
      "Kernal: rbf  C: 2**0\n",
      "Range: 1\n",
      "Correct: 543\n",
      "Mean Variance: 1.6590909090909092\n",
      "Kernal: rbf  C: 2**1\n",
      "Range: 1\n",
      "Correct: 550\n",
      "Mean Variance: 1.6339712918660287\n",
      "Kernal: rbf  C: 2**2\n",
      "Range: 1\n",
      "Correct: 554\n",
      "Mean Variance: 1.5956937799043063\n",
      "Kernal: rbf  C: 2**3\n",
      "Range: 1\n",
      "Correct: 560\n",
      "Mean Variance: 1.5466507177033493\n",
      "Kernal: rbf  C: 2**4\n",
      "Range: 1\n",
      "Correct: 560\n",
      "Mean Variance: 1.5334928229665072\n",
      "Kernal: rbf  C: 2**5\n",
      "Range: 1\n",
      "Correct: 560\n",
      "Mean Variance: 1.5382775119617225\n",
      "Kernal: rbf  C: 2**6\n",
      "Range: 1\n",
      "Correct: 562\n",
      "Mean Variance: 1.5167464114832536\n",
      "Kernal: rbf  C: 2**7\n",
      "Range: 1\n",
      "Correct: 555\n",
      "Mean Variance: 1.55622009569378\n",
      "Kernal: rbf  C: 2**8\n",
      "Range: 1\n",
      "Correct: 547\n",
      "Mean Variance: 1.5526315789473684\n",
      "Kernal: rbf  C: 2**9\n",
      "Range: 1\n",
      "Correct: 543\n",
      "Mean Variance: 1.5801435406698565\n",
      "Kernal: sigmoid  C: 2**-5\n",
      "Range: 1\n",
      "Correct: 500\n",
      "Mean Variance: 1.8002392344497609\n",
      "Kernal: sigmoid  C: 2**-4\n",
      "Range: 1\n",
      "Correct: 469\n",
      "Mean Variance: 1.8732057416267942\n",
      "Kernal: sigmoid  C: 2**-3\n",
      "Range: 1\n",
      "Correct: 422\n",
      "Mean Variance: 1.9808612440191387\n",
      "Kernal: sigmoid  C: 2**-2\n",
      "Range: 1\n",
      "Correct: 370\n",
      "Mean Variance: 2.248803827751196\n",
      "Kernal: sigmoid  C: 2**-1\n",
      "Range: 1\n",
      "Correct: 364\n",
      "Mean Variance: 2.3648325358851676\n",
      "Kernal: sigmoid  C: 2**0\n",
      "Range: 1\n",
      "Correct: 360\n",
      "Mean Variance: 2.3839712918660285\n",
      "Kernal: sigmoid  C: 2**1\n",
      "Range: 1\n",
      "Correct: 365\n",
      "Mean Variance: 2.415071770334928\n",
      "Kernal: sigmoid  C: 2**2\n",
      "Range: 1\n",
      "Correct: 371\n",
      "Mean Variance: 2.4174641148325358\n",
      "Kernal: sigmoid  C: 2**3\n",
      "Range: 1\n",
      "Correct: 347\n",
      "Mean Variance: 2.52511961722488\n",
      "Kernal: sigmoid  C: 2**4\n",
      "Range: 1\n",
      "Correct: 371\n",
      "Mean Variance: 2.4186602870813396\n",
      "Kernal: sigmoid  C: 2**5\n",
      "Range: 1\n",
      "Correct: 377\n",
      "Mean Variance: 2.4174641148325358\n",
      "Kernal: sigmoid  C: 2**6\n",
      "Range: 1\n",
      "Correct: 375\n",
      "Mean Variance: 2.4186602870813396\n",
      "Kernal: sigmoid  C: 2**7\n",
      "Range: 1\n",
      "Correct: 369\n",
      "Mean Variance: 2.4425837320574164\n",
      "Kernal: sigmoid  C: 2**8\n",
      "Range: 1\n",
      "Correct: 333\n",
      "Mean Variance: 2.574162679425837\n",
      "Kernal: sigmoid  C: 2**9\n",
      "Range: 1\n",
      "Correct: 332\n",
      "Mean Variance: 2.576555023923445\n"
     ]
    }
   ],
   "source": [
    "x_trains = [x_train, x2_train]\n",
    "y_trains = [y_train, y2_train]\n",
    "kernals = ['linear', 'rbf', 'sigmoid']\n",
    "\n",
    "for krnl in kernals:\n",
    "    for power in range(-5, 10):\n",
    "        svm_temp = svm.SVC(kernel=krnl, C=2**power).fit(x_train, y_train)\n",
    "        y_pred=svm_temp.predict(x_test)\n",
    "        res_temp = Result(y_pred, y_test.values, 1)\n",
    "        print('Kernal: ' + krnl + '  C: 2**' + str(power))\n",
    "        res_temp.display_totals()\n"
   ]
  },
  {
   "cell_type": "markdown",
   "metadata": {},
   "source": [
    "Looking at the above results a couple things stick out. svm rbf mean variance was still descending at C 2^9 and sigmoid with C 2^-5 looks like a nutball outlier. It was also the best result. The linear SVM bottomed out around C 2^7. \n",
    "\n",
    "So."
   ]
  },
  {
   "cell_type": "code",
   "execution_count": null,
   "metadata": {},
   "outputs": [],
   "source": [
    "svm1_sig_n5 = svm.SVC(kernel='sigmoid', C=2**-5).fit(x_train, y_train)\n",
    "svm2_sig_n5 = svm.SVC(kernel='sigmoid', C=2**-5).fit(x2_train, y2_train)\n",
    "\n",
    "sig1_n5_pred = svm1_sig_n5.predict(x_test)\n",
    "sig2_n5_pred = svm2_sig_n5.predict(x2_test)"
   ]
  },
  {
   "cell_type": "markdown",
   "metadata": {},
   "source": [
    "Classic. The best variance we got was just predicting 9 every time. Turn the error to approach 0 and you get the mean. \n",
    "\n",
    "But you have to try. "
   ]
  },
  {
   "cell_type": "code",
   "execution_count": null,
   "metadata": {},
   "outputs": [],
   "source": [
    "plt.plot(sig1_n5_pred, y_test.values, 'o')"
   ]
  },
  {
   "cell_type": "markdown",
   "metadata": {},
   "source": [
    "Now for rbf. I want to see what error value approaches the bottom."
   ]
  },
  {
   "cell_type": "code",
   "execution_count": 73,
   "metadata": {},
   "outputs": [
    {
     "name": "stdout",
     "output_type": "stream",
     "text": [
      "Kernal: rbf  C: 2**7\n",
      "Range: 1\n",
      "Correct: 550\n",
      "Mean Variance: 1.605263157894737\n",
      "Kernal: rbf  C: 2**8\n",
      "Range: 1\n",
      "Correct: 557\n",
      "Mean Variance: 1.5729665071770336\n",
      "Kernal: rbf  C: 2**9\n",
      "Range: 1\n",
      "Correct: 558\n",
      "Mean Variance: 1.5358851674641147\n",
      "Kernal: rbf  C: 2**10\n",
      "Range: 1\n",
      "Correct: 559\n",
      "Mean Variance: 1.5406698564593302\n",
      "Kernal: rbf  C: 2**11\n",
      "Range: 1\n",
      "Correct: 562\n",
      "Mean Variance: 1.5311004784688995\n",
      "Kernal: rbf  C: 2**12\n",
      "Range: 1\n",
      "Correct: 562\n",
      "Mean Variance: 1.527511961722488\n",
      "Kernal: rbf  C: 2**13\n",
      "Range: 1\n",
      "Correct: 567\n",
      "Mean Variance: 1.520334928229665\n",
      "Kernal: rbf  C: 2**14\n",
      "Range: 1\n",
      "Correct: 565\n",
      "Mean Variance: 1.5107655502392345\n",
      "Kernal: rbf  C: 2**15\n",
      "Range: 1\n",
      "Correct: 572\n",
      "Mean Variance: 1.5179425837320575\n",
      "Kernal: rbf  C: 2**16\n",
      "Range: 1\n",
      "Correct: 573\n",
      "Mean Variance: 1.5610047846889952\n",
      "Kernal: rbf  C: 2**17\n",
      "Range: 1\n",
      "Correct: 562\n",
      "Mean Variance: 1.582535885167464\n"
     ]
    }
   ],
   "source": [
    "for power in range(7, 18):\n",
    "        svm_temp = svm.SVC(kernel='rbf', C=2**power).fit(x_train, y_train)\n",
    "        y_pred=svm_temp.predict(x_test)\n",
    "        res_temp = Result(y_pred, y_test.values, 1)\n",
    "        print('Kernal: ' + 'rbf' + '  C: 2**' + str(power))\n",
    "        res_temp.display_totals()"
   ]
  },
  {
   "cell_type": "markdown",
   "metadata": {},
   "source": [
    "The numbers are getting ridiculous. I am typing this while I wait. I see the start of a bottom around C 2^14. I might kill this off. I am going to dig into C 2^14. Even if C 2^20 pops up a magical result I don't know if I can explore it. \n",
    "\n",
    "It is still running... nm 20 isn't inclusive.\n",
    "\n",
    "I am goingto try both datasets with it as well. \n",
    "\n",
    "I got this result before I ran standard scalar on the data."
   ]
  },
  {
   "cell_type": "code",
   "execution_count": 71,
   "metadata": {},
   "outputs": [
    {
     "name": "stdout",
     "output_type": "stream",
     "text": [
      "Range: 1\n",
      "Correct: 565\n",
      "Mean Variance: 1.5107655502392345\n"
     ]
    }
   ],
   "source": [
    "rbf14_1 = svm.SVC(kernel='rbf', C=2**14).fit(x_train, y_train)\n",
    "\n",
    "rbf14_y1_pred = rbf14_1.predict(x_test)\n",
    "\n",
    "res1_rbf14 = Result(rbf14_y1_pred, y_test.values, 1)\n",
    "\n",
    "res1_rbf14.display_totals()\n",
    "    "
   ]
  },
  {
   "cell_type": "code",
   "execution_count": null,
   "metadata": {},
   "outputs": [],
   "source": [
    "rbf14_2 = svm.SVC(kernel='rbf', C=2**14).fit(x2_train, y2_train)\n",
    "\n",
    "rbf14_y2_pred = rbf14_2.predict(x2_test)\n",
    "\n",
    "res2_rbf14 = Result(rbf14_y2_pred, y2_test.values, 1)\n",
    "\n",
    "res2_rbf14.display_totals()\n"
   ]
  },
  {
   "cell_type": "code",
   "execution_count": null,
   "metadata": {},
   "outputs": [],
   "source": [
    "plt.plot(y_test.values, res1_rbf14.list_variances, 'o')"
   ]
  },
  {
   "cell_type": "code",
   "execution_count": null,
   "metadata": {},
   "outputs": [],
   "source": [
    "plt.plot(y_test.values, res2_rbf14.list_variances, 'o')"
   ]
  },
  {
   "cell_type": "code",
   "execution_count": null,
   "metadata": {},
   "outputs": [],
   "source": [
    "res1_rbf14.get_confidence_interval(84)"
   ]
  },
  {
   "cell_type": "code",
   "execution_count": null,
   "metadata": {},
   "outputs": [],
   "source": [
    "from sklearn.model_selection import cross_val_predict\n",
    "\n",
    "cross_pred = cross_val_predict(rbf14_1, data1, data_y, cv=5)\n"
   ]
  },
  {
   "cell_type": "code",
   "execution_count": null,
   "metadata": {},
   "outputs": [],
   "source": [
    "cross_pred"
   ]
  },
  {
   "cell_type": "markdown",
   "metadata": {},
   "source": [
    "cross_val_predict is not doing what it says it does in the docs. \n",
    "\n",
    "Dataset 2 with the cross correlations pulled out seems to not be as effective. \n",
    "\n",
    "Dataset 1 using the rbf kernel just comes closer. It seems to have pulled the predictions on the younger abalone closer to truth but still fails to identify specimens that live past 12 years old. If you give me a variance of 2 this model gives 84%. \n",
    "\n",
    "rbf14_1 = svm.SVC(kernel='rbf', C=2^14).fit(x_train, y_train)\n",
    "\n",
    "2^14 is 16384 so the range of possible C's that may have a better variance is ~8150 to ~32000. Meh.\n",
    "\n",
    "Now to try poly. The first bunch of stuff here is just trying out all of the options."
   ]
  },
  {
   "cell_type": "code",
   "execution_count": null,
   "metadata": {},
   "outputs": [],
   "source": [
    "poly_1 = svm.SVC(kernel='poly', C=1).fit(x_train, y_train)\n",
    "poly_1_pred = poly_1.predict(x_test)\n",
    "res_poly1 = Result(poly_1_pred, y_test.values, 1)\n",
    "res_poly1.display_totals()"
   ]
  },
  {
   "cell_type": "code",
   "execution_count": null,
   "metadata": {},
   "outputs": [],
   "source": [
    "poly_1"
   ]
  },
  {
   "cell_type": "code",
   "execution_count": null,
   "metadata": {},
   "outputs": [],
   "source": [
    "poly_test = svm.SVC(kernel='poly', C=1, degree=1, probability=True, class_weight=None).fit(x_train, y_train)\n",
    "poly_test_pred = poly_test.predict(x_test)\n",
    "res_poly_test = Result(poly_test_pred, y_test.values, 1)\n",
    "res_poly_test.display_totals()\n",
    "plt.plot(y_test.values, res_poly_test.list_variances, 'o')"
   ]
  },
  {
   "cell_type": "markdown",
   "metadata": {},
   "source": [
    "So many options!\n",
    "\n",
    "The next cell might bork my computer. Time to cook something.\n",
    "\n",
    "As I watch results go by a couple observations. 1 degree polynomials are the best so far. Whatever probability does things are off the rails when it is true. Class Weight doesn't seem to change a lot. \n",
    "\n",
    "Variances are still descending at C 2^9. \n",
    "\n",
    "1 degree and 2 degree are in possibly usful ranges. My guess is 1 degree is the best fit because we are really just measuring size and guessing age. \n",
    "\n",
    "The cell is commented just in case I hit run all cells again. "
   ]
  },
  {
   "cell_type": "code",
   "execution_count": null,
   "metadata": {},
   "outputs": [],
   "source": [
    "# for power in range (-5, 10):\n",
    "#     for deg in range(1, 10):\n",
    "#         poly_test1 = svm.SVC(kernel='poly', C=2**power, degree=deg, probability=False, class_weight=None).fit(x_train, y_train)\n",
    "#         poly_test_pred = poly_test1.predict(x_test)\n",
    "#         res_poly_test = Result(poly_test_pred, y_test.values, 1)\n",
    "#         print('Prob: False ClassW: None Power: 2**' + str(power) + ' Degree: ' + str(deg))\n",
    "#         res_poly_test.display_totals()\n",
    "        \n",
    "#         poly_test2 = svm.SVC(kernel='poly', C=2**power, degree=deg, probability=False, class_weight='balanced').fit(x_train, y_train)\n",
    "#         poly_test_pred = poly_test2.predict(x_test)\n",
    "#         res_poly_test = Result(poly_test_pred, y_test.values, 1)\n",
    "#         print('Prob: False ClassW: balanced Power: 2**' + str(power) + ' Degree: ' + str(deg))\n",
    "#         res_poly_test.display_totals()\n",
    "        \n",
    "#         poly_test3 = svm.SVC(kernel='poly', C=2**power, degree=deg, probability=True, class_weight=None).fit(x_train, y_train)\n",
    "#         poly_test_pred = poly_test3.predict(x_test)\n",
    "#         res_poly_test = Result(poly_test_pred, y_test.values, 1)\n",
    "#         print('Prob: True ClassW: None Power: 2**' + str(power) + ' Degree: ' + str(deg))\n",
    "#         res_poly_test.display_totals()\n",
    "        \n",
    "#         poly_test4 = svm.SVC(kernel='poly', C=2**power, degree=deg, probability=True, class_weight='balanced').fit(x_train, y_train)\n",
    "#         poly_test_pred = poly_test4.predict(x_test)\n",
    "#         res_poly_test = Result(poly_test_pred, y_test.values, 1)\n",
    "#         print('Prob: True ClassW: balanced Power: 2**' + str(power) + ' Degree: ' + str(deg))\n",
    "#         res_poly_test.display_totals()"
   ]
  },
  {
   "cell_type": "markdown",
   "metadata": {},
   "source": [
    "I am hoping a 1 degree polynomial line can beat a linear regression which is the best result so far. I am going to run 1 and 2 degree just to make sure and use both balanced and None for class weight. I will run C's through 19 again.\n",
    "\n"
   ]
  },
  {
   "cell_type": "code",
   "execution_count": null,
   "metadata": {},
   "outputs": [],
   "source": [
    "# for power in range (5, 20):\n",
    "#     for deg in range(1, 3):\n",
    "#         poly_test1 = svm.SVC(kernel='poly', C=2**power, degree=deg, class_weight=None).fit(x_train, y_train)\n",
    "#         poly_test_pred = poly_test1.predict(x_test)\n",
    "#         res_poly_test = Result(poly_test_pred, y_test.values, 1)\n",
    "#         print('ClassW: None Power: 2**' + str(power) + ' Degree: ' + str(deg))\n",
    "#         res_poly_test.display_totals()\n",
    "        \n",
    "#         poly_test2 = svm.SVC(kernel='poly', C=2**power, degree=deg, class_weight='balanced').fit(x_train, y_train)\n",
    "#         poly_test_pred = poly_test2.predict(x_test)\n",
    "#         res_poly_test = Result(poly_test_pred, y_test.values, 1)\n",
    "#         print('ClassW: balanced Power: 2**' + str(power) + ' Degree: ' + str(deg))\n",
    "#         res_poly_test.display_totals()"
   ]
  },
  {
   "cell_type": "markdown",
   "metadata": {},
   "source": [
    "The lowest total is around C 2^15 degree 2. For fun I am going to add 100 and subtract 100 from 2^15. \n",
    "\n",
    "+100 1.513 \n",
    "-100 1.514\n",
    "\n",
    "Seems lucky that in a range between 16000 and 64000 2^15 was really close to the actual minimum. "
   ]
  },
  {
   "cell_type": "code",
   "execution_count": 74,
   "metadata": {},
   "outputs": [
    {
     "name": "stdout",
     "output_type": "stream",
     "text": [
      "Range: 1\n",
      "Correct: 564\n",
      "Mean Variance: 1.5119617224880382\n"
     ]
    },
    {
     "data": {
      "text/plain": [
       "[<matplotlib.lines.Line2D at 0x7f98ce879dd8>]"
      ]
     },
     "execution_count": 74,
     "metadata": {},
     "output_type": "execute_result"
    },
    {
     "data": {
      "image/png": "[encoded data removed]",
      "text/plain": [
       "<Figure size 432x288 with 1 Axes>"
      ]
     },
     "metadata": {
      "needs_background": "light"
     },
     "output_type": "display_data"
    }
   ],
   "source": [
    "poly1_p15d2 = svm.SVC(kernel='poly', C=2**15, degree=2, class_weight=None).fit(x_train, y_train)\n",
    "poly1_p15d2_pred=poly1_p15d2.predict(x_test)\n",
    "res1_polyp15d2 = Result(poly1_p15d2_pred, y_test.values, 1)\n",
    "res1_polyp15d2.display_totals()\n",
    "plt.plot(y_test.values, res1_polyp15d2.list_variances, 'o')\n"
   ]
  },
  {
   "cell_type": "code",
   "execution_count": 75,
   "metadata": {},
   "outputs": [
    {
     "data": {
      "text/plain": [
       "2"
      ]
     },
     "execution_count": 75,
     "metadata": {},
     "output_type": "execute_result"
    }
   ],
   "source": [
    "res1_polyp15d2.get_confidence_interval(83)"
   ]
  },
  {
   "cell_type": "code",
   "execution_count": null,
   "metadata": {},
   "outputs": [],
   "source": [
    "poly1_p15d2 = svm.SVC(kernel='poly', C=2**15-100, degree=2, class_weight=None).fit(x_train, y_train)\n",
    "poly1_p15d2_pred=poly1_p15d2.predict(x_test)\n",
    "res1_polyp15d2 = Result(poly1_p15d2_pred, y_test.values, 1)\n",
    "res1_polyp15d2.display_totals\n",
    "plt.plot(y_test.values, res1_polyp15d2.list_variances, 'o')"
   ]
  },
  {
   "cell_type": "markdown",
   "metadata": {},
   "source": []
  },
  {
   "cell_type": "markdown",
   "metadata": {},
   "source": [
    "I accidentally printed out the class weight 'balanced' answer and though it's variance is higher there is something to not about the variances. They don't slope down to the right indicating everything is being pulled to the center, particularly at the older ages. \n",
    "\n",
    "The problem it seems to have is that it has a tendancy to predict things in the middle ages too high. It is also randomly or probably not randomly the best performing balanced result.\n",
    "\n",
    "This should be exploitable. I don't know how. "
   ]
  },
  {
   "cell_type": "code",
   "execution_count": null,
   "metadata": {},
   "outputs": [],
   "source": [
    "poly2_p15d2 = svm.SVC(kernel='poly', C=2**15, degree=2, class_weight='balanced').fit(x_train, y_train)\n",
    "poly2_p15d2_pred=poly2_p15d2.predict(x_test)\n",
    "res2_polyp15d2 = Result(poly2_p15d2_pred, y_test.values, 1)\n",
    "res2_polyp15d2.display_totals()\n",
    "plt.plot(y_test.values, res2_polyp15d2.list_variances, 'o')"
   ]
  },
  {
   "cell_type": "markdown",
   "metadata": {},
   "source": [
    "## Gradient Boosting Regression"
   ]
  },
  {
   "cell_type": "code",
   "execution_count": 79,
   "metadata": {},
   "outputs": [],
   "source": [
    "from funkys_funcs import append_tts\n",
    "\n",
    "t_sets = []\n",
    "TEST_DESC = 0\n",
    "X_TRAIN = 1\n",
    "Y_TRAIN = 2\n",
    "X_TEST = 3\n",
    "Y_TEST = 4\n",
    "\n",
    "a,b,c,d = train_test_split(data1, data_y, test_size=.2, random_state=17)\n",
    "D1 = append_tts(a,b,c,d, 'L2 Norm Clip:    ', t_sets)\n",
    "\n",
    "a,b,c,d = train_test_split(data2, data_y, test_size=.2, random_state=19)\n",
    "D2 = append_tts(a,b,c,d, 'L2 Norm Clip:    ', t_sets)\n",
    "\n",
    "a,b,c,d = train_test_split(datax, data_y, test_size=.2, random_state=23)\n",
    "DX = append_tts(a,b,c,d, 'L2 Norm Clip:    ', t_sets)"
   ]
  },
  {
   "cell_type": "code",
   "execution_count": 84,
   "metadata": {},
   "outputs": [
    {
     "name": "stdout",
     "output_type": "stream",
     "text": [
      "Range: 0.1\n",
      "Correct: 28\n",
      "Mean Variance: 1.8016512097950317\n"
     ]
    }
   ],
   "source": [
    "grb = GradientBoostingRegressor(n_estimators=100, learning_rate=0.1, max_depth=1, random_state=0, loss='ls')\n",
    "y_pred = grb.fit(t_sets[D1][X_TRAIN], t_sets[D1][Y_TRAIN]).predict(t_sets[D1][X_TEST])\n",
    "\n",
    "res = Result(y_pred, t_sets[D1][Y_TEST].values, .1)\n",
    "\n",
    "res.display_totals()"
   ]
  },
  {
   "cell_type": "code",
   "execution_count": 87,
   "metadata": {},
   "outputs": [
    {
     "data": {
      "text/plain": [
       "[<matplotlib.lines.Line2D at 0x7f98ce3e48d0>]"
      ]
     },
     "execution_count": 87,
     "metadata": {},
     "output_type": "execute_result"
    },
    {
     "data": {
      "image/png": "[encoded data removed]",
      "text/plain": [
       "<Figure size 432x288 with 1 Axes>"
      ]
     },
     "metadata": {
      "needs_background": "light"
     },
     "output_type": "display_data"
    }
   ],
   "source": [
    "plt.plot(t_sets[D1][Y_TEST], res.list_variances, 'o')"
   ]
  },
  {
   "cell_type": "code",
   "execution_count": null,
   "metadata": {},
   "outputs": [],
   "source": []
  }
 ],
 "metadata": {
  "kernelspec": {
   "display_name": "Python 3",
   "language": "python",
   "name": "python3"
  },
  "language_info": {
   "codemirror_mode": {
    "name": "ipython",
    "version": 3
   },
   "file_extension": ".py",
   "mimetype": "text/x-python",
   "name": "python",
   "nbconvert_exporter": "python",
   "pygments_lexer": "ipython3",
   "version": "3.7.0"
  }
 },
 "nbformat": 4,
 "nbformat_minor": 2
}
