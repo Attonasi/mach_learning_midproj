{
 "cells": [
  {
   "cell_type": "markdown",
   "metadata": {},
   "source": [
    "Enter           enter edit mode                 Shift-­Enter     run cell, select below\n",
    "Ctrl-Enter      run cell                        Alt-Enter       run cell, insert below\n",
    "Y               to code                         M               to markdown\n",
    "R               to raw                          1               to heading 1\n",
    "2,3,4,5,6       to heading 2,3,4,5,6            Up/K            select cell above\n",
    "Down/J          select cell below               A/B             insert cell above/­below\n",
    "X               cut selected cell               C               copy selected cell\n",
    "Shift-V         paste cell above                V               paste cell below\n",
    "Z               undo last cell deletion         D,D             delete selected cell\n",
    "Shift-M         merge cell below                Ctrl-S          Save and Checkpoint\n",
    "L               toggle line numbers             O               toggle output\n",
    "Shift-O         toggle output scrolling         Esc             close pager\n",
    "H               show keyboard shortcut help     I,I             interrupt kernel\n",
    "0,0             restart kernel                  Space           scroll down\n",
    "Shift-­Space     scroll up                       Shift           ignore\n",
    "\n",
    "Edit Mode (press Enter to enable)\n",
    "Tab                 code completion or indent   Shift-Tab           tooltip\n",
    "Ctrl-]              indent                      Ctrl-[              dedent\n",
    "Ctrl-A              select all                  Ctrl-Z              undo\n",
    "Ctrl-S­hift-Z        redo                        Ctrl-Y              redo\n",
    "Ctrl-Home           go to cell start            Ctrl-Up             go to cell start\n",
    "Ctrl-End            go to cell end              Ctrl-Down           go to cell end\n",
    "Ctrl-Left           go one word left            Ctrl-Right          go one word right\n",
    "Ctrl-B­ack­space      delete word before          Ctrl-D­elete         delete word after\n",
    "Esc                 command mode                Ctrl-M              command mode\n",
    "Shift-­Enter         run cell, select below      Ctrl-Enter          run cell\n",
    "Alt-Enter           run cell, insert below      Ctrl-S­hif­t-S­ubtract split cell\n",
    "Ctrl-S­hift--        split cell                  Ctrl-S              Save and Checkpoint\n",
    "Ctrl-/              toggle comment on current or selected lines"
   ]
  },
  {
   "cell_type": "code",
   "execution_count": 150,
   "metadata": {},
   "outputs": [
    {
     "ename": "ImportError",
     "evalue": "cannot import name 'KBinsDiscretizer' from 'sklearn.preprocessing' (/home/collin/anaconda3/lib/python3.7/site-packages/sklearn/preprocessing/__init__.py)",
     "output_type": "error",
     "traceback": [
      "\u001b[0;31m---------------------------------------------------------------------------\u001b[0m",
      "\u001b[0;31mImportError\u001b[0m                               Traceback (most recent call last)",
      "\u001b[0;32m<ipython-input-150-b5dfb4b342c2>\u001b[0m in \u001b[0;36m<module>\u001b[0;34m()\u001b[0m\n\u001b[1;32m      4\u001b[0m \u001b[0;32mimport\u001b[0m \u001b[0mpandas\u001b[0m \u001b[0;32mas\u001b[0m \u001b[0mpd\u001b[0m\u001b[0;34m\u001b[0m\u001b[0m\n\u001b[1;32m      5\u001b[0m \u001b[0;32mimport\u001b[0m \u001b[0mcsv\u001b[0m\u001b[0;34m\u001b[0m\u001b[0m\n\u001b[0;32m----> 6\u001b[0;31m \u001b[0;32mfrom\u001b[0m \u001b[0msklearn\u001b[0m\u001b[0;34m.\u001b[0m\u001b[0mpreprocessing\u001b[0m \u001b[0;32mimport\u001b[0m \u001b[0mKBinsDiscretizer\u001b[0m\u001b[0;34m\u001b[0m\u001b[0m\n\u001b[0m\u001b[1;32m      7\u001b[0m \u001b[0;32mfrom\u001b[0m \u001b[0msklearn\u001b[0m\u001b[0;34m.\u001b[0m\u001b[0mcross_validation\u001b[0m \u001b[0;32mimport\u001b[0m \u001b[0mtrain_test_split\u001b[0m\u001b[0;34m\u001b[0m\u001b[0m\n\u001b[1;32m      8\u001b[0m \u001b[0;32mfrom\u001b[0m \u001b[0msklearn\u001b[0m\u001b[0;34m.\u001b[0m\u001b[0mmodel_selection\u001b[0m \u001b[0;32mimport\u001b[0m \u001b[0mcross_val_score\u001b[0m\u001b[0;34m\u001b[0m\u001b[0m\n",
      "\u001b[0;31mImportError\u001b[0m: cannot import name 'KBinsDiscretizer' from 'sklearn.preprocessing' (/home/collin/anaconda3/lib/python3.7/site-packages/sklearn/preprocessing/__init__.py)"
     ]
    }
   ],
   "source": [
    "import numpy as np\n",
    "import matplotlib\n",
    "import matplotlib.pyplot as plt\n",
    "import pandas as pd\n",
    "import csv\n",
    "from sklearn.preprocessing import KBinsDiscretizer\n",
    "from sklearn.cross_validation import train_test_split\n",
    "from sklearn.model_selection import cross_val_score\n",
    "from sklearn import metrics\n",
    "from sklearn.model_selection import ShuffleSplit\n",
    "from sklearn import svm\n",
    "from sklearn import linear_model\n",
    "from sklearn import datasets\n",
    "from sklearn.cross_validation import train_test_split\n",
    "from pandas.tools.plotting import scatter_matrix\n",
    "\n",
    "%matplotlib inline\n",
    "%config InlineBackend.figure_format = 'svg'\n",
    "\n",
    "path = '/home/collin/machine_learning/CS6140ML18Fall-smith.colin/midterm/data/'\n",
    "data_file = 'boston-home-data-only.txt' \n",
    "output_file = 'boston_home_data.csv'"
   ]
  },
  {
   "cell_type": "code",
   "execution_count": null,
   "metadata": {},
   "outputs": [],
   "source": [
    "data = pd.read_csv(path+data_file, delim_whitespace=True)"
   ]
  },
  {
   "cell_type": "code",
   "execution_count": null,
   "metadata": {},
   "outputs": [],
   "source": [
    "data.info()"
   ]
  },
  {
   "cell_type": "code",
   "execution_count": null,
   "metadata": {},
   "outputs": [],
   "source": [
    "# for name in names:\n",
    "#     data.plot(kind='scatter', x=name, y='NOX')\n",
    "    \n",
    "# for name in names:\n",
    "#     data.plot(kind='scatter', x=name, y='MEDV', figsize=(3,2))"
   ]
  },
  {
   "cell_type": "code",
   "execution_count": null,
   "metadata": {},
   "outputs": [],
   "source": [
    "data.corr()\n"
   ]
  },
  {
   "cell_type": "code",
   "execution_count": null,
   "metadata": {},
   "outputs": [],
   "source": [
    "medv_x = data.drop(columns=['MEDV'])\n",
    "nox_x = data.drop(columns=['NOX'])\n",
    "nox_y = data['NOX']\n",
    "medv_y = data['MEDV']\n",
    "medv2_x = data.drop(columns=['MEDV', 'DIS', 'CHAS', 'B'])\n",
    "nox2_x = data.drop(columns=['NOX', 'CHAS', 'PTRATIO'])"
   ]
  },
  {
   "cell_type": "markdown",
   "metadata": {},
   "source": [
    "This is a clean dataset. There is very little cross correlation. Seems like there is very little correlation actually. For this dataset I will keep the full dataset and use a second dataset where I will try to drop out some noise from medv and nox.\n",
    "\n",
    "Going to start with Median Value first.\n",
    "\n",
    "So Baseline."
   ]
  },
  {
   "cell_type": "code",
   "execution_count": null,
   "metadata": {},
   "outputs": [],
   "source": [
    "hist_y = []\n",
    "total = 0\n",
    "for i in range (52):\n",
    "    hist_y.append(0)\n",
    "for i in range (len(medv_y)):\n",
    "    hist_y[int(medv_y[i])] += 1\n",
    "    total\n",
    "    \n",
    "print(hist_y)"
   ]
  },
  {
   "cell_type": "code",
   "execution_count": null,
   "metadata": {},
   "outputs": [],
   "source": [
    "(31+35+37+37+36+50) / 506"
   ]
  },
  {
   "cell_type": "markdown",
   "metadata": {},
   "source": [
    "+/-2 gets us 34.7% \n",
    "\n",
    "+/-3 gets us 44.6%\n",
    "\n",
    "Doable. Lets start with linear and logistic regressions."
   ]
  },
  {
   "cell_type": "code",
   "execution_count": null,
   "metadata": {},
   "outputs": [],
   "source": [
    "lin = linear_model.LinearRegression()\n",
    "log = linear_model.LogisticRegression()"
   ]
  },
  {
   "cell_type": "code",
   "execution_count": null,
   "metadata": {},
   "outputs": [],
   "source": [
    "medv1_x_train, medv1_x_test, medv1_y_train, medv1_y_test = train_test_split(medv_x, medv_y, test_size=0.2, random_state=4)\n",
    "medv2_x_train, medv2_x_test, medv2_y_train, medv2_y_test = train_test_split(medv2_x, medv_y, test_size=0.2, random_state=4)\n"
   ]
  },
  {
   "cell_type": "code",
   "execution_count": null,
   "metadata": {},
   "outputs": [],
   "source": [
    "kbd = preprocessing.KBinsDiscretizer(n_bins=20, encode='ordinal', strategy='uniform')"
   ]
  },
  {
   "cell_type": "code",
   "execution_count": null,
   "metadata": {},
   "outputs": [],
   "source": [
    "medv1_x_train"
   ]
  },
  {
   "cell_type": "code",
   "execution_count": null,
   "metadata": {},
   "outputs": [],
   "source": [
    "lin_medv1_pred = lin.fit(medv1_x_train, medv1_y_train).predict(medv1_x_test)\n",
    "lin_medv2_pred = lin.fit(medv2_x_train, medv2_y_train).predict(medv2_x_test)\n"
   ]
  },
  {
   "cell_type": "markdown",
   "metadata": {},
   "source": [
    "Basic linear regression to predict median value.\n",
    "\n",
    "Plotting the results below the complete dataset did better setting up the model. There were a few outliers at the far end and there was a general tendancy to guess low at the high end of the values. \n",
    "\n",
    "There is slightly better than smartest dumb solution correlation."
   ]
  },
  {
   "cell_type": "code",
   "execution_count": null,
   "metadata": {},
   "outputs": [],
   "source": [
    "from result_lib import Result\n",
    "\n",
    "res_medv1_lin = Result(lin_medv1_pred, medv_y_test.values, 1)\n",
    "res_medv2_lin = Result(lin_medv2_pred, medv_y_test.values, 1)"
   ]
  },
  {
   "cell_type": "code",
   "execution_count": null,
   "metadata": {},
   "outputs": [],
   "source": [
    "res_medv1_lin.display_totals()\n",
    "plt.plot(medv1_y_test, res_medv1_lin.list_variances, 'o')\n",
    "res_medv1_lin.get_confidence_interval(60)"
   ]
  },
  {
   "cell_type": "code",
   "execution_count": null,
   "metadata": {},
   "outputs": [],
   "source": [
    "res_medv2_lin.display_totals()\n",
    "plt.plot(medv2_y_test, res_medv2_lin.list_variances, 'o')\n",
    "res_medv2_lin.get_confidence_interval(57)\n"
   ]
  },
  {
   "cell_type": "code",
   "execution_count": null,
   "metadata": {},
   "outputs": [],
   "source": []
  },
  {
   "cell_type": "markdown",
   "metadata": {},
   "source": [
    "Basic Logisitic Regression to predict median value."
   ]
  },
  {
   "cell_type": "code",
   "execution_count": null,
   "metadata": {},
   "outputs": [],
   "source": [
    "log_medv1_pred = log.fit(medv1_x_train, medv1_y_train).predict(medv1_x_test)\n",
    "log_medv2_pred = log.fit(medv2_x_train, medv2_y_train).predict(medv2_x_test)"
   ]
  },
  {
   "cell_type": "code",
   "execution_count": null,
   "metadata": {},
   "outputs": [],
   "source": [
    "res_medv1_log = Result(log_medv1_pred, medv_y_test.values, 1)\n",
    "res_medv2_log = Result(log_medv2_pred, medv_y_test.values, 1)"
   ]
  },
  {
   "cell_type": "markdown",
   "metadata": {},
   "source": [
    "I am just going to skip to the for loop with SVC. \n",
    "\n",
    "medv1_x_train, medv1_x_test, medv1_y_train, medv1_y_test = train_test_split(medv_x, medv_y, test_size=0.2, random_state=4)\n",
    "medv2_x_train, medv2_x_test, medv2_y_train, medv2_y_test = train_test_split(medv2_x, medv_y, test_size=0.2, random_state=4)\n"
   ]
  },
  {
   "cell_type": "code",
   "execution_count": null,
   "metadata": {},
   "outputs": [],
   "source": [
    "x_trains = [medv1_x_train, medv2_x_train]\n",
    "y_trains = [medv2_y_train, medv2_y_train]\n",
    "kernals = ['linear', 'rbf', 'sigmoid']\n",
    "\n",
    "for krnl in kernals:\n",
    "    for power in range(-3, 10):\n",
    "        for i in range(2):\n",
    "            svm_temp = svm.SVC(kernel=krnl, C=2**power).fit(x_trains[i], y_trains[i])\n",
    "            y_pred=svm_temp.predict(x_test)\n",
    "            res_temp = Result(y_pred, y_test.values, 1)\n",
    "            print('Kernal: ' + krnl + '  C: 2**' + str(power) + 'dataset #: ' + str(i + 1))\n",
    "            res_temp.display_totals()"
   ]
  },
  {
   "cell_type": "code",
   "execution_count": null,
   "metadata": {},
   "outputs": [],
   "source": []
  },
  {
   "cell_type": "code",
   "execution_count": null,
   "metadata": {},
   "outputs": [],
   "source": []
  },
  {
   "cell_type": "code",
   "execution_count": null,
   "metadata": {},
   "outputs": [],
   "source": []
  },
  {
   "cell_type": "code",
   "execution_count": null,
   "metadata": {},
   "outputs": [],
   "source": [
    "nox1_x_train, nox1_x_test, nox1_y_train, nox1_y_test = train_test_split(nox_x, nox_y, test_size=0.2, random_state=4)\n",
    "nox2_x_train, nox2_x_test, nox2_y_train, nox2_y_test = train_test_split(nox2_x, nox_y, test_size=0.2, random_state=4)\n"
   ]
  },
  {
   "cell_type": "code",
   "execution_count": null,
   "metadata": {},
   "outputs": [],
   "source": [
    "nox1_pred = lin.fit(nox1_x_train, nox1_y_train).predict(nox1_x_test)\n",
    "nox2_pred = lin.fit(nox2_x_train, nox2_y_train).predict(nox2_x_test)\n"
   ]
  },
  {
   "cell_type": "code",
   "execution_count": null,
   "metadata": {},
   "outputs": [],
   "source": [
    "res_nox1_lin = Result(nox1_pred, nox1_y_test.values, 1)\n",
    "res_nox2_lin = Result(nox2_pred, nox1_y_test.values, 1)\n"
   ]
  },
  {
   "cell_type": "code",
   "execution_count": null,
   "metadata": {},
   "outputs": [],
   "source": [
    "res_nox1_lin.display_totals()"
   ]
  },
  {
   "cell_type": "code",
   "execution_count": null,
   "metadata": {},
   "outputs": [],
   "source": [
    "res_nox2_lin.display_totals()"
   ]
  },
  {
   "cell_type": "code",
   "execution_count": null,
   "metadata": {},
   "outputs": [],
   "source": []
  },
  {
   "cell_type": "markdown",
   "metadata": {},
   "source": []
  },
  {
   "cell_type": "code",
   "execution_count": null,
   "metadata": {},
   "outputs": [],
   "source": []
  },
  {
   "cell_type": "code",
   "execution_count": null,
   "metadata": {},
   "outputs": [],
   "source": []
  },
  {
   "cell_type": "code",
   "execution_count": null,
   "metadata": {},
   "outputs": [],
   "source": []
  },
  {
   "cell_type": "code",
   "execution_count": null,
   "metadata": {},
   "outputs": [],
   "source": []
  },
  {
   "cell_type": "code",
   "execution_count": null,
   "metadata": {},
   "outputs": [],
   "source": []
  },
  {
   "cell_type": "code",
   "execution_count": null,
   "metadata": {},
   "outputs": [],
   "source": []
  },
  {
   "cell_type": "code",
   "execution_count": null,
   "metadata": {},
   "outputs": [],
   "source": []
  },
  {
   "cell_type": "code",
   "execution_count": null,
   "metadata": {},
   "outputs": [],
   "source": []
  }
 ],
 "metadata": {
  "kernelspec": {
   "display_name": "Python 3",
   "language": "python",
   "name": "python3"
  },
  "language_info": {
   "codemirror_mode": {
    "name": "ipython",
    "version": 3
   },
   "file_extension": ".py",
   "mimetype": "text/x-python",
   "name": "python",
   "nbconvert_exporter": "python",
   "pygments_lexer": "ipython3",
   "version": "3.7.0"
  }
 },
 "nbformat": 4,
 "nbformat_minor": 2
}
