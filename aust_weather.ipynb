{
 "cells": [
  {
   "cell_type": "markdown",
   "metadata": {},
   "source": [
    "Enter           enter edit mode                 Shift-­Enter     run cell, select below\n",
    "Ctrl-Enter      run cell                        Alt-Enter       run cell, insert below\n",
    "Y               to code                         M               to markdown\n",
    "R               to raw                          1               to heading 1\n",
    "2,3,4,5,6       to heading 2,3,4,5,6            Up/K            select cell above\n",
    "Down/J          select cell below               A/B             insert cell above/­below\n",
    "X               cut selected cell               C               copy selected cell\n",
    "Shift-V         paste cell above                V               paste cell below\n",
    "Z               undo last cell deletion         D,D             delete selected cell\n",
    "Shift-M         merge cell below                Ctrl-S          Save and Checkpoint\n",
    "L               toggle line numbers             O               toggle output\n",
    "Shift-O         toggle output scrolling         Esc             close pager\n",
    "H               show keyboard shortcut help     I,I             interrupt kernel\n",
    "0,0             restart kernel                  Space           scroll down\n",
    "Shift-­Space     scroll up                       Shift           ignore\n",
    "\n",
    "Edit Mode (press Enter to enable)\n",
    "Tab                 code completion or indent   Shift-Tab           tooltip\n",
    "Ctrl-]              indent                      Ctrl-[              dedent\n",
    "Ctrl-A              select all                  Ctrl-Z              undo\n",
    "Ctrl-S­hift-Z        redo                        Ctrl-Y              redo\n",
    "Ctrl-Home           go to cell start            Ctrl-Up             go to cell start\n",
    "Ctrl-End            go to cell end              Ctrl-Down           go to cell end\n",
    "Ctrl-Left           go one word left            Ctrl-Right          go one word right\n",
    "Ctrl-B­ack­space      delete word before          Ctrl-D­elete         delete word after\n",
    "Esc                 command mode                Ctrl-M              command mode\n",
    "Shift-­Enter         run cell, select below      Ctrl-Enter          run cell\n",
    "Alt-Enter           run cell, insert below      Ctrl-S­hif­t-S­ubtract split cell\n",
    "Ctrl-S­hift--        split cell                  Ctrl-S              Save and Checkpoint\n",
    "Ctrl-/              toggle comment on current or selected lines"
   ]
  },
  {
   "cell_type": "code",
   "execution_count": 23,
   "metadata": {},
   "outputs": [],
   "source": [
    "from result_lib import Result"
   ]
  },
  {
   "cell_type": "code",
   "execution_count": 309,
   "metadata": {},
   "outputs": [],
   "source": [
    "list1 = [2, 3, 5, 9, 11, 21, 30, 24]\n",
    "list2 = [6, 4, 3, 9, 14, 20, 32, 9034]\n",
    "res = Result(list1, list2, 2)"
   ]
  },
  {
   "cell_type": "code",
   "execution_count": 310,
   "metadata": {},
   "outputs": [
    {
     "name": "stdout",
     "output_type": "stream",
     "text": [
      "Range: 2\n",
      "Correct: 3\n",
      "Mean Variance: 1127.875\n"
     ]
    }
   ],
   "source": [
    "res.display_totals()\n"
   ]
  },
  {
   "cell_type": "markdown",
   "metadata": {},
   "source": []
  },
  {
   "cell_type": "code",
   "execution_count": 311,
   "metadata": {},
   "outputs": [
    {
     "data": {
      "text/plain": [
       "[-4, -1, 2, 0, -3, 1, -2, -9010]"
      ]
     },
     "execution_count": 311,
     "metadata": {},
     "output_type": "execute_result"
    }
   ],
   "source": [
    "res.list_variances"
   ]
  },
  {
   "cell_type": "code",
   "execution_count": 312,
   "metadata": {},
   "outputs": [
    {
     "data": {
      "text/plain": [
       "[0, 1, 1, 2, 2, 3, 4, 9010]"
      ]
     },
     "execution_count": 312,
     "metadata": {},
     "output_type": "execute_result"
    }
   ],
   "source": [
    "res.sorted_list_variances\n"
   ]
  },
  {
   "cell_type": "code",
   "execution_count": 313,
   "metadata": {},
   "outputs": [
    {
     "data": {
      "text/plain": [
       "4"
      ]
     },
     "execution_count": 313,
     "metadata": {},
     "output_type": "execute_result"
    }
   ],
   "source": [
    "res2.get_confidence_interval(70)"
   ]
  },
  {
   "cell_type": "code",
   "execution_count": 20,
   "metadata": {},
   "outputs": [],
   "source": [
    "def is_not_nan(arg):\n",
    "    if arg == 'nan':\n",
    "        return False\n",
    "    else:\n",
    "        return True"
   ]
  },
  {
   "cell_type": "code",
   "execution_count": 22,
   "metadata": {},
   "outputs": [
    {
     "data": {
      "text/plain": [
       "False"
      ]
     },
     "execution_count": 22,
     "metadata": {},
     "output_type": "execute_result"
    }
   ],
   "source": [
    "is_not_nan('nan')"
   ]
  },
  {
   "cell_type": "code",
   "execution_count": 18,
   "metadata": {},
   "outputs": [
    {
     "data": {
      "text/plain": [
       "nan"
      ]
     },
     "execution_count": 18,
     "metadata": {},
     "output_type": "execute_result"
    }
   ],
   "source": [
    "float('NaN')"
   ]
  },
  {
   "cell_type": "code",
   "execution_count": null,
   "metadata": {},
   "outputs": [],
   "source": []
  }
 ],
 "metadata": {
  "kernelspec": {
   "display_name": "Python 3",
   "language": "python",
   "name": "python3"
  },
  "language_info": {
   "codemirror_mode": {
    "name": "ipython",
    "version": 3
   },
   "file_extension": ".py",
   "mimetype": "text/x-python",
   "name": "python",
   "nbconvert_exporter": "python",
   "pygments_lexer": "ipython3",
   "version": "3.7.0"
  }
 },
 "nbformat": 4,
 "nbformat_minor": 2
}
